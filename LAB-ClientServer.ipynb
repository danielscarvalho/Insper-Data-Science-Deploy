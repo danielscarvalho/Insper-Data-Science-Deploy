{
 "cells": [
  {
   "cell_type": "markdown",
   "id": "840fa75a",
   "metadata": {},
   "source": [
    "# Linux no Jupyter Notebook - com magic"
   ]
  },
  {
   "cell_type": "markdown",
   "id": "604daf3b",
   "metadata": {},
   "source": [
    "No WSL (Ubuntu Linux), para abrir o Jupyter Notebook execute o comando...\n",
    "\n",
    "jupyter notebook --no-browser\n",
    "\n",
    "Para editar o profile no Linux\n",
    "\n",
    "```bash\n",
    "nano ~\\.bashrc\n",
    "```\n",
    "\n",
    "Para visualizar:\n",
    "\n",
    "```bash\n",
    "cat ~\\.bashrc\n",
    "```\n",
    "\n",
    "```bash\n",
    "# >>> conda initialize >>>\n",
    "# !! Contents within this block are managed by 'conda init' !!\n",
    "__conda_setup=\"$('/home/trava/anaconda3/bin/conda' 'shell.bash' 'hook' 2> /dev/null)\"\n",
    "if [ $? -eq 0 ]; then\n",
    "    eval \"$__conda_setup\"\n",
    "else\n",
    "    if [ -f \"/home/trava/anaconda3/etc/profile.d/conda.sh\" ]; then\n",
    "        . \"/home/trava/anaconda3/etc/profile.d/conda.sh\"\n",
    "    else\n",
    "        export PATH=\"/home/trava/anaconda3/bin:$PATH\"\n",
    "    fi\n",
    "fi\n",
    "unset __conda_setup\n",
    "# <<< conda initialize <<<\n",
    "```"
   ]
  },
  {
   "cell_type": "markdown",
   "id": "7b1c9f87",
   "metadata": {},
   "source": [
    "Agora em nosso ambiente Windows, temos o Linux em paralelo.\n",
    "Nosso Jupyter Notebook acessa o kernel do Python no Linux, e também o shell (Bash)\n",
    "\n",
    "Jupyter Notebook (Browser - Windows) ⟷ Python, Bash (Linux)\n",
    "\n",
    "Client ⟷ Server\n",
    "\n",
    "![](https://madooei.github.io/cs421_sp20_homepage/assets/client-server-1.png)"
   ]
  },
  {
   "cell_type": "code",
   "execution_count": 2,
   "id": "bc14b602",
   "metadata": {},
   "outputs": [
    {
     "name": "stdout",
     "output_type": "stream",
     "text": [
      "qua 10 ago 2022 19:09:25 -03\r\n"
     ]
    }
   ],
   "source": [
    "!date"
   ]
  },
  {
   "cell_type": "code",
   "execution_count": 3,
   "id": "478bb516",
   "metadata": {},
   "outputs": [
    {
     "name": "stdout",
     "output_type": "stream",
     "text": [
      "    Agosto 2022       \r\n",
      "do se te qu qu se sá  \r\n",
      "    1  2  3  4  5  6  \r\n",
      " 7  8  9 \u001b[7m10\u001b[m 11 12 13  \r\n",
      "14 15 16 17 18 19 20  \r\n",
      "21 22 23 24 25 26 27  \r\n",
      "28 29 30 31           \r\n",
      "                      \r\n"
     ]
    }
   ],
   "source": [
    "!cal"
   ]
  },
  {
   "cell_type": "code",
   "execution_count": 4,
   "id": "5c4dec3e",
   "metadata": {},
   "outputs": [
    {
     "name": "stdout",
     "output_type": "stream",
     "text": [
      "--2022-08-10 19:10:31--  https://people.sc.fsu.edu/~jburkardt/data/csv/nile.csv\n",
      "Resolvendo people.sc.fsu.edu (people.sc.fsu.edu)... 144.174.16.102\n",
      "Conectando-se a people.sc.fsu.edu (people.sc.fsu.edu)|144.174.16.102|:443... conectado.\n",
      "A requisição HTTP foi enviada, aguardando resposta... 200 OK\n",
      "Tamanho: 7996 (7,8K) [text/csv]\n",
      "Salvando em: “nile.csv”\n",
      "\n",
      "nile.csv            100%[===================>]   7,81K  --.-KB/s    em 0s      \n",
      "\n",
      "2022-08-10 19:10:32 (98,4 MB/s) - “nile.csv” salvo [7996/7996]\n",
      "\n"
     ]
    }
   ],
   "source": [
    "!wget https://people.sc.fsu.edu/~jburkardt/data/csv/nile.csv"
   ]
  },
  {
   "cell_type": "code",
   "execution_count": 5,
   "id": "62d168a0",
   "metadata": {},
   "outputs": [
    {
     "name": "stdout",
     "output_type": "stream",
     "text": [
      "nile.csv\r\n"
     ]
    }
   ],
   "source": [
    "!ls *.csv"
   ]
  },
  {
   "cell_type": "code",
   "execution_count": 6,
   "id": "8dbb9bc3",
   "metadata": {},
   "outputs": [
    {
     "name": "stdout",
     "output_type": "stream",
     "text": [
      "-rw-rw-r-- 1 fito fito 7996 nov  7  2011 nile.csv\r\n"
     ]
    }
   ],
   "source": [
    "!ls -l *.csv"
   ]
  },
  {
   "cell_type": "code",
   "execution_count": 7,
   "id": "3c8696fe",
   "metadata": {},
   "outputs": [
    {
     "name": "stdout",
     "output_type": "stream",
     "text": [
      "\"Year\", \"Flood\"\r\n",
      "   1,  9.9974\r\n",
      "   2, 10.5556\r\n",
      "   3,  9.9014\r\n",
      "   4, 11.4800\r\n",
      "   5, 12.8460\r\n",
      "   6, 11.1330\r\n",
      "   7, 10.1126\r\n",
      "   8, 10.3060\r\n",
      "   9, 10.4980\r\n"
     ]
    }
   ],
   "source": [
    "!head nile.csv"
   ]
  },
  {
   "cell_type": "code",
   "execution_count": 8,
   "id": "89eacc13",
   "metadata": {},
   "outputs": [
    {
     "name": "stdout",
     "output_type": "stream",
     "text": [
      " 561, 10.9218\r\n",
      " 562, 11.6336\r\n",
      " 563, 11.6336\r\n",
      " 564, 11.6144\r\n",
      " 565, 12.3262\r\n",
      " 566, 11.3840\r\n",
      " 567,  9.8630\r\n",
      " 568, 10.8450\r\n",
      " 569, 10.4020\r\n",
      " 570, 10.3060\r\n"
     ]
    }
   ],
   "source": [
    "!tail nile.csv"
   ]
  },
  {
   "cell_type": "code",
   "execution_count": 9,
   "id": "3523a423",
   "metadata": {},
   "outputs": [],
   "source": [
    "!touch new.txt"
   ]
  },
  {
   "cell_type": "code",
   "execution_count": 10,
   "id": "ccf21b2b",
   "metadata": {},
   "outputs": [
    {
     "name": "stdout",
     "output_type": "stream",
     "text": [
      "-rw-rw-r-- 1 fito fito 0 ago 10 19:36 new.txt\r\n"
     ]
    }
   ],
   "source": [
    "!ls -l new.txt"
   ]
  },
  {
   "cell_type": "code",
   "execution_count": 11,
   "id": "8ba648f1",
   "metadata": {},
   "outputs": [],
   "source": [
    "!echo \"Vai Corinthians!!\" >> new.txt"
   ]
  },
  {
   "cell_type": "code",
   "execution_count": 12,
   "id": "58a28b8a",
   "metadata": {},
   "outputs": [
    {
     "name": "stdout",
     "output_type": "stream",
     "text": [
      "-rw-rw-r-- 1 fito fito 18 ago 10 19:36 new.txt\r\n"
     ]
    }
   ],
   "source": [
    "!ls -l new.txt"
   ]
  },
  {
   "cell_type": "code",
   "execution_count": 13,
   "id": "fc5e86a3",
   "metadata": {},
   "outputs": [
    {
     "name": "stdout",
     "output_type": "stream",
     "text": [
      "Vai Corinthians!!\r\n"
     ]
    }
   ],
   "source": [
    "!cat new.txt"
   ]
  },
  {
   "cell_type": "code",
   "execution_count": 14,
   "id": "5a6238e0",
   "metadata": {},
   "outputs": [
    {
     "name": "stdout",
     "output_type": "stream",
     "text": [
      "  % Total    % Received % Xferd  Average Speed   Time    Time     Time  Current\n",
      "                                 Dload  Upload   Total   Spent    Left  Speed\n",
      "100  1257    0  1257    0     0   1429      0 --:--:-- --:--:-- --:--:--  1428\n"
     ]
    }
   ],
   "source": [
    "!curl \"https://nominatim.openstreetmap.org/search.php?q=Insper&format=jsonv2\" > end.json"
   ]
  },
  {
   "cell_type": "code",
   "execution_count": 15,
   "id": "72b2aa8c",
   "metadata": {},
   "outputs": [
    {
     "name": "stdout",
     "output_type": "stream",
     "text": [
      "[{\"place_id\":134276174,\"licence\":\"Data © OpenStreetMap contributors, ODbL 1.0. https://osm.org/copyright\",\"osm_type\":\"way\",\"osm_id\":124962732,\"boundingbox\":[\"-23.5989711\",\"-23.5982227\",\"-46.6772417\",\"-46.6761522\"],\"lat\":\"-23.5987249\",\"lon\":\"-46.67643049021903\",\"display_name\":\"Insper, 300, Rua Quatá, Itaim Bibi, São Paulo, Região Imediata de São Paulo, Região Metropolitana de São Paulo, Região Geográfica Intermediária de São Paulo, São Paulo, Região Sudeste, 04546-042, Brasil\",\"place_rank\":30,\"category\":\"amenity\",\"type\":\"university\",\"importance\":0.5272292779261075,\"icon\":\"https://nominatim.openstreetmap.org/ui/mapicons/education_university.p.20.png\"},{\"place_id\":242234348,\"licence\":\"Data © OpenStreetMap contributors, ODbL 1.0. https://osm.org/copyright\",\"osm_type\":\"way\",\"osm_id\":687476094,\"boundingbox\":[\"-23.599347\",\"-23.5986145\",\"-46.6760648\",\"-46.6752012\"],\"lat\":\"-23.59895865\",\"lon\":\"-46.675683293368095\",\"display_name\":\"Insper, 200, Rua Quatá, Itaim Bibi, São Paulo, Região Imediata de São Paulo, Região Metropolitana de São Paulo, Região Geográfica Intermediária de São Paulo, São Paulo, Região Sudeste, 04546-042, Brasil\",\"place_rank\":30,\"category\":\"building\",\"type\":\"university\",\"importance\":0.11010000000000002}]"
     ]
    }
   ],
   "source": [
    "!cat end.json"
   ]
  },
  {
   "cell_type": "code",
   "execution_count": 16,
   "id": "579fbd20",
   "metadata": {},
   "outputs": [
    {
     "name": "stdout",
     "output_type": "stream",
     "text": [
      "-rw-rw-r-- 1 fito fito 1257 ago 10 19:43 end.json\r\n"
     ]
    }
   ],
   "source": [
    "!ls -l end.json"
   ]
  },
  {
   "cell_type": "code",
   "execution_count": null,
   "id": "79a54c2a",
   "metadata": {},
   "outputs": [],
   "source": []
  }
 ],
 "metadata": {
  "kernelspec": {
   "display_name": "Python 3 (ipykernel)",
   "language": "python",
   "name": "python3"
  },
  "language_info": {
   "codemirror_mode": {
    "name": "ipython",
    "version": 3
   },
   "file_extension": ".py",
   "mimetype": "text/x-python",
   "name": "python",
   "nbconvert_exporter": "python",
   "pygments_lexer": "ipython3",
   "version": "3.9.12"
  }
 },
 "nbformat": 4,
 "nbformat_minor": 5
}
