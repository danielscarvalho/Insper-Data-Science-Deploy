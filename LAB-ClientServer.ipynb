{
 "cells": [
  {
   "cell_type": "markdown",
   "id": "840fa75a",
   "metadata": {},
   "source": [
    "# Linux no Jupyter Notebook - com magic"
   ]
  },
  {
   "cell_type": "markdown",
   "id": "604daf3b",
   "metadata": {},
   "source": [
    "No WSL (Ubuntu Linux), para abrir o Jupyter Notebook execute o comando...\n",
    "\n",
    "jupyter notebook --no-browser\n",
    "\n",
    "Para editar o profile no Linux\n",
    "\n",
    "```bash\n",
    "nano ~\\.bashrc\n",
    "```\n",
    "\n",
    "Para visualizar:\n",
    "\n",
    "```bash\n",
    "cat ~\\.bashrc\n",
    "```\n",
    "\n",
    "```bash\n",
    "# >>> conda initialize >>>\n",
    "# !! Contents within this block are managed by 'conda init' !!\n",
    "__conda_setup=\"$('/home/trava/anaconda3/bin/conda' 'shell.bash' 'hook' 2> /dev/null)\"\n",
    "if [ $? -eq 0 ]; then\n",
    "    eval \"$__conda_setup\"\n",
    "else\n",
    "    if [ -f \"/home/trava/anaconda3/etc/profile.d/conda.sh\" ]; then\n",
    "        . \"/home/trava/anaconda3/etc/profile.d/conda.sh\"\n",
    "    else\n",
    "        export PATH=\"/home/trava/anaconda3/bin:$PATH\"\n",
    "    fi\n",
    "fi\n",
    "unset __conda_setup\n",
    "# <<< conda initialize <<<\n",
    "```"
   ]
  },
  {
   "cell_type": "markdown",
   "id": "7b1c9f87",
   "metadata": {},
   "source": [
    "Agora em nosso ambiente Windows, temos o Linux em paralelo.\n",
    "Nosso Jupyter Notebook acessa o kernel do Python no Linux, e também o shell (Bash)\n",
    "\n",
    "Jupyter Notebook (Browser - Windows) ⟷ Python, Bash (Linux)\n",
    "\n",
    "Client ⟷ Server\n",
    "\n",
    "![](https://madooei.github.io/cs421_sp20_homepage/assets/client-server-1.png)"
   ]
  },
  {
   "cell_type": "code",
   "execution_count": 2,
   "id": "bc14b602",
   "metadata": {},
   "outputs": [
    {
     "name": "stdout",
     "output_type": "stream",
     "text": [
      "qua 10 ago 2022 19:09:25 -03\r\n"
     ]
    }
   ],
   "source": [
    "!date"
   ]
  },
  {
   "cell_type": "code",
   "execution_count": 3,
   "id": "478bb516",
   "metadata": {},
   "outputs": [
    {
     "name": "stdout",
     "output_type": "stream",
     "text": [
      "    Agosto 2022       \r\n",
      "do se te qu qu se sá  \r\n",
      "    1  2  3  4  5  6  \r\n",
      " 7  8  9 \u001b[7m10\u001b[m 11 12 13  \r\n",
      "14 15 16 17 18 19 20  \r\n",
      "21 22 23 24 25 26 27  \r\n",
      "28 29 30 31           \r\n",
      "                      \r\n"
     ]
    }
   ],
   "source": [
    "!cal"
   ]
  },
  {
   "cell_type": "code",
   "execution_count": 4,
   "id": "5c4dec3e",
   "metadata": {},
   "outputs": [
    {
     "name": "stdout",
     "output_type": "stream",
     "text": [
      "--2022-08-10 19:10:31--  https://people.sc.fsu.edu/~jburkardt/data/csv/nile.csv\n",
      "Resolvendo people.sc.fsu.edu (people.sc.fsu.edu)... 144.174.16.102\n",
      "Conectando-se a people.sc.fsu.edu (people.sc.fsu.edu)|144.174.16.102|:443... conectado.\n",
      "A requisição HTTP foi enviada, aguardando resposta... 200 OK\n",
      "Tamanho: 7996 (7,8K) [text/csv]\n",
      "Salvando em: “nile.csv”\n",
      "\n",
      "nile.csv            100%[===================>]   7,81K  --.-KB/s    em 0s      \n",
      "\n",
      "2022-08-10 19:10:32 (98,4 MB/s) - “nile.csv” salvo [7996/7996]\n",
      "\n"
     ]
    }
   ],
   "source": [
    "!wget https://people.sc.fsu.edu/~jburkardt/data/csv/nile.csv"
   ]
  },
  {
   "cell_type": "code",
   "execution_count": 5,
   "id": "62d168a0",
   "metadata": {},
   "outputs": [
    {
     "name": "stdout",
     "output_type": "stream",
     "text": [
      "nile.csv\r\n"
     ]
    }
   ],
   "source": [
    "!ls *.csv"
   ]
  },
  {
   "cell_type": "code",
   "execution_count": 6,
   "id": "8dbb9bc3",
   "metadata": {},
   "outputs": [
    {
     "name": "stdout",
     "output_type": "stream",
     "text": [
      "-rw-rw-r-- 1 fito fito 7996 nov  7  2011 nile.csv\r\n"
     ]
    }
   ],
   "source": [
    "!ls -l *.csv"
   ]
  },
  {
   "cell_type": "code",
   "execution_count": 7,
   "id": "3c8696fe",
   "metadata": {},
   "outputs": [
    {
     "name": "stdout",
     "output_type": "stream",
     "text": [
      "\"Year\", \"Flood\"\r\n",
      "   1,  9.9974\r\n",
      "   2, 10.5556\r\n",
      "   3,  9.9014\r\n",
      "   4, 11.4800\r\n",
      "   5, 12.8460\r\n",
      "   6, 11.1330\r\n",
      "   7, 10.1126\r\n",
      "   8, 10.3060\r\n",
      "   9, 10.4980\r\n"
     ]
    }
   ],
   "source": [
    "!head nile.csv"
   ]
  },
  {
   "cell_type": "code",
   "execution_count": 8,
   "id": "89eacc13",
   "metadata": {},
   "outputs": [
    {
     "name": "stdout",
     "output_type": "stream",
     "text": [
      " 561, 10.9218\r\n",
      " 562, 11.6336\r\n",
      " 563, 11.6336\r\n",
      " 564, 11.6144\r\n",
      " 565, 12.3262\r\n",
      " 566, 11.3840\r\n",
      " 567,  9.8630\r\n",
      " 568, 10.8450\r\n",
      " 569, 10.4020\r\n",
      " 570, 10.3060\r\n"
     ]
    }
   ],
   "source": [
    "!tail nile.csv"
   ]
  },
  {
   "cell_type": "code",
   "execution_count": 9,
   "id": "3523a423",
   "metadata": {},
   "outputs": [],
   "source": [
    "!touch new.txt"
   ]
  },
  {
   "cell_type": "code",
   "execution_count": 10,
   "id": "ccf21b2b",
   "metadata": {},
   "outputs": [
    {
     "name": "stdout",
     "output_type": "stream",
     "text": [
      "-rw-rw-r-- 1 fito fito 0 ago 10 19:36 new.txt\r\n"
     ]
    }
   ],
   "source": [
    "!ls -l new.txt"
   ]
  },
  {
   "cell_type": "code",
   "execution_count": 11,
   "id": "8ba648f1",
   "metadata": {},
   "outputs": [],
   "source": [
    "!echo \"Vai Corinthians!!\" >> new.txt"
   ]
  },
  {
   "cell_type": "code",
   "execution_count": 12,
   "id": "58a28b8a",
   "metadata": {},
   "outputs": [
    {
     "name": "stdout",
     "output_type": "stream",
     "text": [
      "-rw-rw-r-- 1 fito fito 18 ago 10 19:36 new.txt\r\n"
     ]
    }
   ],
   "source": [
    "!ls -l new.txt"
   ]
  },
  {
   "cell_type": "code",
   "execution_count": 13,
   "id": "fc5e86a3",
   "metadata": {},
   "outputs": [
    {
     "name": "stdout",
     "output_type": "stream",
     "text": [
      "Vai Corinthians!!\r\n"
     ]
    }
   ],
   "source": [
    "!cat new.txt"
   ]
  },
  {
   "cell_type": "code",
   "execution_count": 14,
   "id": "5a6238e0",
   "metadata": {},
   "outputs": [
    {
     "name": "stdout",
     "output_type": "stream",
     "text": [
      "  % Total    % Received % Xferd  Average Speed   Time    Time     Time  Current\n",
      "                                 Dload  Upload   Total   Spent    Left  Speed\n",
      "100  1257    0  1257    0     0   1429      0 --:--:-- --:--:-- --:--:--  1428\n"
     ]
    }
   ],
   "source": [
    "!curl \"https://nominatim.openstreetmap.org/search.php?q=Insper&format=jsonv2\" > end.json"
   ]
  },
  {
   "cell_type": "code",
   "execution_count": 15,
   "id": "72b2aa8c",
   "metadata": {},
   "outputs": [
    {
     "name": "stdout",
     "output_type": "stream",
     "text": [
      "[{\"place_id\":134276174,\"licence\":\"Data © OpenStreetMap contributors, ODbL 1.0. https://osm.org/copyright\",\"osm_type\":\"way\",\"osm_id\":124962732,\"boundingbox\":[\"-23.5989711\",\"-23.5982227\",\"-46.6772417\",\"-46.6761522\"],\"lat\":\"-23.5987249\",\"lon\":\"-46.67643049021903\",\"display_name\":\"Insper, 300, Rua Quatá, Itaim Bibi, São Paulo, Região Imediata de São Paulo, Região Metropolitana de São Paulo, Região Geográfica Intermediária de São Paulo, São Paulo, Região Sudeste, 04546-042, Brasil\",\"place_rank\":30,\"category\":\"amenity\",\"type\":\"university\",\"importance\":0.5272292779261075,\"icon\":\"https://nominatim.openstreetmap.org/ui/mapicons/education_university.p.20.png\"},{\"place_id\":242234348,\"licence\":\"Data © OpenStreetMap contributors, ODbL 1.0. https://osm.org/copyright\",\"osm_type\":\"way\",\"osm_id\":687476094,\"boundingbox\":[\"-23.599347\",\"-23.5986145\",\"-46.6760648\",\"-46.6752012\"],\"lat\":\"-23.59895865\",\"lon\":\"-46.675683293368095\",\"display_name\":\"Insper, 200, Rua Quatá, Itaim Bibi, São Paulo, Região Imediata de São Paulo, Região Metropolitana de São Paulo, Região Geográfica Intermediária de São Paulo, São Paulo, Região Sudeste, 04546-042, Brasil\",\"place_rank\":30,\"category\":\"building\",\"type\":\"university\",\"importance\":0.11010000000000002}]"
     ]
    }
   ],
   "source": [
    "!cat end.json"
   ]
  },
  {
   "cell_type": "code",
   "execution_count": 16,
   "id": "579fbd20",
   "metadata": {},
   "outputs": [
    {
     "name": "stdout",
     "output_type": "stream",
     "text": [
      "-rw-rw-r-- 1 fito fito 1257 ago 10 19:43 end.json\r\n"
     ]
    }
   ],
   "source": [
    "!ls -l end.json"
   ]
  },
  {
   "cell_type": "code",
   "execution_count": 7,
   "id": "3b00b602",
   "metadata": {},
   "outputs": [
    {
     "name": "stdout",
     "output_type": "stream",
     "text": [
      "/etc/python3\n",
      "/etc/python3.10\n",
      "/etc/python3.10/sitecustomize.py\n",
      "/etc/python3.8\n",
      "/etc/python3.8/sitecustomize.py\n",
      "/etc/python3/debian_config\n",
      "/home/fito/.Mathematica/Paclets/Repository/Databases-Linux-0.7.5/Python/executables/Linux-x86-64/distribution/libpython3.10.so.1.0\n",
      "/home/fito/.vscode/extensions/magicstack.magicpython-1.1.0/test/regexp/python3.py\n",
      "/home/fito/mementopython3-english.pdf\n",
      "/lab/etc/python3\n",
      "/lab/etc/python3.4\n",
      "/lab/etc/python3.4/sitecustomize.py\n",
      "/lab/etc/python3/debian_config\n",
      "/lab/home/fito/.Mathematica/Paclets/Repository/Databases-Linux-0.7.5/Python/executables/Linux-x86-64/distribution/libpython3.10.so.1.0\n",
      "/lab/home/fito/.vscode/extensions/magicstack.magicpython-1.1.0/test/regexp/python3.py\n",
      "/lab/home/fito/mementopython3-english.pdf\n",
      "^C\n"
     ]
    }
   ],
   "source": [
    "!locate python3"
   ]
  },
  {
   "cell_type": "code",
   "execution_count": 9,
   "id": "1def75b5",
   "metadata": {},
   "outputs": [
    {
     "name": "stdout",
     "output_type": "stream",
     "text": [
      "               total        used        free      shared  buff/cache   available\r\n",
      "Mem:        24613708    11678272     1070600      513772    11864836    12036028\r\n",
      "Swap:       31249404        3072    31246332\r\n"
     ]
    }
   ],
   "source": [
    "!free"
   ]
  },
  {
   "cell_type": "code",
   "execution_count": 8,
   "id": "bb925f22",
   "metadata": {},
   "outputs": [
    {
     "name": "stdout",
     "output_type": "stream",
     "text": [
      "FREE(1)                          User Commands                         FREE(1)\r\n",
      "\r\n",
      "N\bNA\bAM\bME\bE\r\n",
      "       free - Display amount of free and used memory in the system\r\n",
      "\r\n",
      "S\bSY\bYN\bNO\bOP\bPS\bSI\bIS\bS\r\n",
      "       f\bfr\bre\bee\be [_\bo_\bp_\bt_\bi_\bo_\bn_\bs]\r\n",
      "\r\n",
      "D\bDE\bES\bSC\bCR\bRI\bIP\bPT\bTI\bIO\bON\bN\r\n",
      "       f\bfr\bre\bee\be  displays the total amount of free and used physical and swap mem‐\r\n",
      "       ory in the system, as well as the buffers and caches used by  the  ker‐\r\n",
      "       nel.  The  information  is  gathered by parsing /proc/meminfo. The dis‐\r\n",
      "       played columns are:\r\n",
      "\r\n",
      "       t\bto\bot\bta\bal\bl  Total installed memory (MemTotal and SwapTotal in /proc/meminfo)\r\n",
      "\r\n",
      "       u\bus\bse\bed\bd   Used memory (calculated as t\bto\bot\bta\bal\bl - f\bfr\bre\bee\be - b\bbu\buf\bff\bfe\ber\brs\bs - c\bca\bac\bch\bhe\be)\r\n",
      "\r\n",
      "       f\bfr\bre\bee\be   Unused memory (MemFree and SwapFree in /proc/meminfo)\r\n",
      "\r\n",
      "       s\bsh\bha\bar\bre\bed\bd Memory used (mostly) by tmpfs (Shmem in /proc/meminfo)\r\n",
      "\r\n",
      "       b\bbu\buf\bff\bfe\ber\brs\bs\r\n",
      "              Memory used by kernel buffers (Buffers in /proc/meminfo)\r\n",
      "\r\n",
      "       c\bca\bac\bch\bhe\be  Memory used by the page cache and slabs (Cached and SReclaimable\r\n",
      "              in /proc/meminfo)\r\n",
      "\r\n",
      "       b\bbu\buf\bff\bf/\b/c\bca\bac\bch\bhe\be\r\n",
      "              Sum of b\bbu\buf\bff\bfe\ber\brs\bs and c\bca\bac\bch\bhe\be\r\n",
      "\r\n",
      "       a\bav\bva\bai\bil\bla\bab\bbl\ble\be\r\n",
      "              Estimation  of how much memory is available for starting new ap‐\r\n",
      "              plications, without swapping. Unlike the data  provided  by  the\r\n",
      "              c\bca\bac\bch\bhe\be  or  f\bfr\bre\bee\be fields, this field takes into account page cache\r\n",
      "              and also that not all reclaimable memory slabs will be reclaimed\r\n",
      "              due to items being in use (MemAvailable in /proc/meminfo, avail‐\r\n",
      "              able on kernels 3.14, emulated on kernels 2.6.27+, otherwise the\r\n",
      "              same as f\bfr\bre\bee\be)\r\n",
      "\r\n",
      "O\bOP\bPT\bTI\bIO\bON\bNS\bS\r\n",
      "       -\b-b\bb, -\b--\b-b\bby\byt\bte\bes\bs\r\n",
      "              Display the amount of memory in bytes.\r\n",
      "\r\n",
      "       -\b-k\bk, -\b--\b-k\bki\bib\bbi\bi\r\n",
      "              Display the amount of memory in kibibytes.  This is the default.\r\n",
      "\r\n",
      "       -\b-m\bm, -\b--\b-m\bme\beb\bbi\bi\r\n",
      "              Display the amount of memory in mebibytes.\r\n",
      "\r\n",
      "       -\b-g\bg, -\b--\b-g\bgi\bib\bbi\bi\r\n",
      "              Display the amount of memory in gibibytes.\r\n",
      "\r\n",
      "       -\b--\b-t\bte\beb\bbi\bi Display the amount of memory in tebibytes.\r\n",
      "\r\n",
      "       -\b--\b-p\bpe\beb\bbi\bi Display the amount of memory in pebibytes.\r\n",
      "\r\n",
      "       -\b--\b-k\bki\bil\blo\bo Display the amount of memory in kilobytes. Implies --si.\r\n",
      "\r\n",
      "       -\b--\b-m\bme\beg\bga\ba Display the amount of memory in megabytes. Implies --si.\r\n",
      "\r\n",
      "       -\b--\b-g\bgi\big\bga\ba Display the amount of memory in gigabytes. Implies --si.\r\n",
      "\r\n",
      "       -\b--\b-t\bte\ber\bra\ba Display the amount of memory in terabytes. Implies --si.\r\n",
      "\r\n",
      "       -\b--\b-p\bpe\bet\bta\ba Display the amount of memory in petabytes. Implies --si.\r\n",
      "\r\n",
      "       -\b-h\bh, -\b--\b-h\bhu\bum\bma\ban\bn\r\n",
      "              Show  all  output  fields automatically scaled to shortest three\r\n",
      "              digit unit and display the units of print out.  Following  units\r\n",
      "              are used.\r\n",
      "\r\n",
      "                B = bytes\r\n",
      "                Ki = kibibyte\r\n",
      "                Mi = mebibyte\r\n",
      "                Gi = gibibyte\r\n",
      "                Ti = tebibyte\r\n",
      "                Pi = pebibyte\r\n",
      "\r\n",
      "              If  unit  is  missing, and you have exbibyte of RAM or swap, the\r\n",
      "              number is in tebibytes and columns might  not  be  aligned  with\r\n",
      "              header.\r\n",
      "\r\n",
      "       -\b-w\bw, -\b--\b-w\bwi\bid\bde\be\r\n",
      "              Switch  to  the  wide  mode. The wide mode produces lines longer\r\n",
      "              than 80 characters. In this mode b\bbu\buf\bff\bfe\ber\brs\bs and c\bca\bac\bch\bhe\be are  reported\r\n",
      "              in two separate columns.\r\n",
      "\r\n",
      "       -\b-c\bc, -\b--\b-c\bco\bou\bun\bnt\bt _\bc_\bo_\bu_\bn_\bt\r\n",
      "              Display the result _\bc_\bo_\bu_\bn_\bt times.  Requires the -\b-s\bs option.\r\n",
      "\r\n",
      "       -\b-l\bl, -\b--\b-l\blo\boh\bhi\bi\r\n",
      "              Show detailed low and high memory statistics.\r\n",
      "\r\n",
      "       -\b-s\bs, -\b--\b-s\bse\bec\bco\bon\bnd\bds\bs _\bd_\be_\bl_\ba_\by\r\n",
      "              Continuously  display  the result _\bd_\be_\bl_\ba_\by  seconds apart.  You may\r\n",
      "              actually specify any floating point number for _\bd_\be_\bl_\ba_\by  using  ei‐\r\n",
      "              ther  . or , for decimal point.  u\bus\bsl\ble\bee\bep\bp(3) is used for microsec‐\r\n",
      "              ond resolution delay times.\r\n",
      "\r\n",
      "       -\b--\b-s\bsi\bi   Use kilo, mega, giga etc (power of 1000) instead of kibi,  mebi,\r\n",
      "              gibi (power of 1024).\r\n",
      "\r\n",
      "       -\b-t\bt, -\b--\b-t\bto\bot\bta\bal\bl\r\n",
      "              Display a line showing the column totals.\r\n",
      "\r\n",
      "       -\b--\b-h\bhe\bel\blp\bp Print help.\r\n",
      "\r\n",
      "       -\b-V\bV, -\b--\b-v\bve\ber\brs\bsi\bio\bon\bn\r\n",
      "              Display version information.\r\n",
      "\r\n",
      "F\bFI\bIL\bLE\bES\bS\r\n",
      "       /proc/meminfo\r\n",
      "              memory information\r\n",
      "\r\n",
      "B\bBU\bUG\bGS\bS\r\n",
      "       The  value  for  the s\bsh\bha\bar\bre\bed\bd column is not available from kernels before\r\n",
      "       2.6.32 and is displayed as zero.\r\n",
      "\r\n",
      "       Please send bug reports to\r\n",
      "              ⟨procps@freelists.org⟩\r\n",
      "\r\n",
      "S\bSE\bEE\bE A\bAL\bLS\bSO\bO\r\n",
      "       p\bps\bs(1), s\bsl\bla\bab\bbt\bto\bop\bp(1), t\bto\bop\bp(1), v\bvm\bms\bst\bta\bat\bt(8).\r\n",
      "\r\n",
      "procps-ng                         2018-05-31                           FREE(1)\r\n"
     ]
    }
   ],
   "source": [
    "!man free"
   ]
  },
  {
   "cell_type": "code",
   "execution_count": 16,
   "id": "86861e57",
   "metadata": {},
   "outputs": [
    {
     "name": "stdout",
     "output_type": "stream",
     "text": [
      "\u001b[?1h\u001b=\u001b[H\u001b[2J\u001b[mtop - 23:56:01 up 11:38,  1 user,  load average: 0,45, 0,62, 0,69\u001b[m\u001b[m\u001b[m\u001b[m\u001b[K\n",
      "Tasks:\u001b[m\u001b[m\u001b[1m 371 \u001b[m\u001b[mtotal,\u001b[m\u001b[m\u001b[1m   1 \u001b[m\u001b[mrunning,\u001b[m\u001b[m\u001b[1m 370 \u001b[m\u001b[msleeping,\u001b[m\u001b[m\u001b[1m   0 \u001b[m\u001b[mstopped,\u001b[m\u001b[m\u001b[1m   0 \u001b[m\u001b[mzombie\u001b[m\u001b[m\u001b[m\u001b[m\u001b[K\n",
      "%Cpu(s):\u001b[m\u001b[m\u001b[1m  9,6 \u001b[m\u001b[mus,\u001b[m\u001b[m\u001b[1m  2,1 \u001b[m\u001b[msy,\u001b[m\u001b[m\u001b[1m  0,0 \u001b[m\u001b[mni,\u001b[m\u001b[m\u001b[1m 84,2 \u001b[m\u001b[mid,\u001b[m\u001b[m\u001b[1m  4,1 \u001b[m\u001b[mwa,\u001b[m\u001b[m\u001b[1m  0,0 \u001b[m\u001b[mhi,\u001b[m\u001b[m\u001b[1m  0,0 \u001b[m\u001b[msi,\u001b[m\u001b[m\u001b[1m  0,0 \u001b[m\u001b[mst\u001b[m\u001b[m\u001b[m\u001b[m\u001b[K\n",
      "MiB Mem :\u001b[m\u001b[m\u001b[1m  24036,8 \u001b[m\u001b[mtotal,\u001b[m\u001b[m\u001b[1m    982,5 \u001b[m\u001b[mfree,\u001b[m\u001b[m\u001b[1m  11546,9 \u001b[m\u001b[mused,\u001b[m\u001b[m\u001b[1m  11507,4 \u001b[m\u001b[mbuff/cache\u001b[m\u001b[m\u001b[m\u001b[m\u001b[K\n",
      "MiB Swap:\u001b[m\u001b[m\u001b[1m  30517,0 \u001b[m\u001b[mtotal,\u001b[m\u001b[m\u001b[1m  30514,0 \u001b[m\u001b[mfree,\u001b[m\u001b[m\u001b[1m      3,0 \u001b[m\u001b[mused.\u001b[m\u001b[m\u001b[1m  11623,7 \u001b[m\u001b[mavail Mem \u001b[m\u001b[m\u001b[m\u001b[m\u001b[K\n",
      "\u001b[K\n",
      "\u001b[7m    PID USER      PR  NI    VIRT    RES    SHR S  %CPU  %MEM     TIME+ COMMAND  \u001b[m\u001b[m\u001b[K\n",
      "\u001b[m  26949 fito      20   0   12,2g 663376 207440 S  29,4   2,7  23:33.76 firefox  \u001b[m\u001b[m\u001b[K\n",
      "\u001b[m\u001b[1m  38232 fito      20   0   13352   4164   3288 R  11,8   0,0   0:00.04 top      \u001b[m\u001b[m\u001b[K\n",
      "\u001b[m   1364 mysql     20   0 2316024 393596  32916 S   5,9   1,6   3:16.39 mysqld   \u001b[m\u001b[m\u001b[K\n",
      "\u001b[m   4805 fito       9 -11 3672180  34808  23616 S   5,9   0,1  13:10.35 pulseau+ \u001b[m\u001b[m\u001b[K\n",
      "\u001b[m   4899 root      20   0  322260 136016  62684 S   5,9   0,6  19:19.46 Xorg     \u001b[m\u001b[m\u001b[K\n",
      "\u001b[m   5277 fito      20   0 4905508 446868 113696 S   5,9   1,8  38:31.43 gnome-s+ \u001b[m\u001b[m\u001b[K\n",
      "\u001b[m   5693 fito      20   0  343488  26712  18580 S   5,9   0,1   0:01.40 gsd-xse+ \u001b[m\u001b[m\u001b[K\n",
      "\u001b[m   7153 fito      20   0   33,3g 310928 167752 S   5,9   1,3  76:07.75 chrome   \u001b[m\u001b[m\u001b[K\n",
      "\u001b[m  26912 fito      20   0  535200 159192  35284 S   5,9   0,6   0:23.10 jupyter+ \u001b[m\u001b[m\u001b[K\n",
      "\u001b[m  27408 fito      20   0 2992800 429544 108004 S   5,9   1,7   4:10.98 Isolate+ \u001b[m\u001b[m\u001b[K\n",
      "\u001b[m      1 root      20   0  169240  14556   8188 S   0,0   0,1   0:07.06 systemd  \u001b[m\u001b[m\u001b[K\n",
      "\u001b[m      2 root      20   0       0      0      0 S   0,0   0,0   0:00.02 kthreadd \u001b[m\u001b[m\u001b[K\n",
      "\u001b[m      3 root       0 -20       0      0      0 I   0,0   0,0   0:00.00 rcu_gp   \u001b[m\u001b[m\u001b[K\n",
      "\u001b[m      4 root       0 -20       0      0      0 I   0,0   0,0   0:00.00 rcu_par+ \u001b[m\u001b[m\u001b[K\n",
      "\u001b[m      5 root       0 -20       0      0      0 I   0,0   0,0   0:00.00 slub_fl+ \u001b[m\u001b[m\u001b[K\n",
      "\u001b[m      6 root       0 -20       0      0      0 I   0,0   0,0   0:00.00 netns    \u001b[m\u001b[m\u001b[K\n",
      "\u001b[m      8 root       0 -20       0      0      0 I   0,0   0,0   0:00.00 kworker+ \u001b[m\u001b[m\u001b[K\u001b[?1l\u001b>\u001b[25;1H\n",
      "\u001b[K"
     ]
    }
   ],
   "source": [
    "!top -n 1"
   ]
  },
  {
   "cell_type": "code",
   "execution_count": 14,
   "id": "2aae1021",
   "metadata": {},
   "outputs": [
    {
     "name": "stdout",
     "output_type": "stream",
     "text": [
      "PING www.uol.com.br(2600:9000:236a:be00:1:5a19:8b40:93a1 (2600:9000:236a:be00:1:5a19:8b40:93a1)) 56 data bytes\n",
      "64 bytes from 2600:9000:236a:be00:1:5a19:8b40:93a1 (2600:9000:236a:be00:1:5a19:8b40:93a1): icmp_seq=1 ttl=55 time=180 ms\n",
      "64 bytes from 2600:9000:236a:be00:1:5a19:8b40:93a1 (2600:9000:236a:be00:1:5a19:8b40:93a1): icmp_seq=2 ttl=55 time=61.4 ms\n",
      "64 bytes from 2600:9000:236a:be00:1:5a19:8b40:93a1 (2600:9000:236a:be00:1:5a19:8b40:93a1): icmp_seq=3 ttl=55 time=81.7 ms\n",
      "64 bytes from 2600:9000:236a:be00:1:5a19:8b40:93a1 (2600:9000:236a:be00:1:5a19:8b40:93a1): icmp_seq=4 ttl=55 time=68.4 ms\n",
      "64 bytes from 2600:9000:236a:be00:1:5a19:8b40:93a1 (2600:9000:236a:be00:1:5a19:8b40:93a1): icmp_seq=5 ttl=55 time=55.8 ms\n",
      "64 bytes from 2600:9000:236a:be00:1:5a19:8b40:93a1 (2600:9000:236a:be00:1:5a19:8b40:93a1): icmp_seq=6 ttl=55 time=67.2 ms\n",
      "64 bytes from 2600:9000:236a:be00:1:5a19:8b40:93a1 (2600:9000:236a:be00:1:5a19:8b40:93a1): icmp_seq=7 ttl=55 time=163 ms\n",
      "64 bytes from 2600:9000:236a:be00:1:5a19:8b40:93a1 (2600:9000:236a:be00:1:5a19:8b40:93a1): icmp_seq=8 ttl=55 time=428 ms\n",
      "64 bytes from 2600:9000:236a:be00:1:5a19:8b40:93a1 (2600:9000:236a:be00:1:5a19:8b40:93a1): icmp_seq=9 ttl=55 time=100 ms\n",
      "64 bytes from 2600:9000:236a:be00:1:5a19:8b40:93a1 (2600:9000:236a:be00:1:5a19:8b40:93a1): icmp_seq=10 ttl=55 time=59.4 ms\n",
      "\n",
      "--- www.uol.com.br ping statistics ---\n",
      "10 packets transmitted, 10 received, 0% packet loss, time 9198ms\n",
      "rtt min/avg/max/mdev = 55.782/126.558/428.167/108.870 ms\n"
     ]
    }
   ],
   "source": [
    "!ping www.uol.com.br -w 10"
   ]
  },
  {
   "cell_type": "markdown",
   "id": "01bdf11a",
   "metadata": {},
   "source": [
    "![vader](https://gerarmemes.s3.us-east-2.amazonaws.com/memes/c7179cf1.webp)\n",
    "\n",
    "Referências:\n",
    "\n",
    "- https://www.thatcompany.com/why-is-knowing-the-command-line-important\n",
    "- https://books.goalkicker.com/BashBook/\n",
    "- https://books.goalkicker.com/LinuxBook/\n",
    "- https://books.goalkicker.com/GitBook/\n",
    "\n",
    "Extra: Popularidade do SO Linux nos servidores ao longo do tempo:<br><img src='https://upload.wikimedia.org/wikipedia/commons/0/0d/Operating_systems_used_on_top_500_supercomputers.svg' width='600px'>"
   ]
  }
 ],
 "metadata": {
  "kernelspec": {
   "display_name": "Python 3 (ipykernel)",
   "language": "python",
   "name": "python3"
  },
  "language_info": {
   "codemirror_mode": {
    "name": "ipython",
    "version": 3
   },
   "file_extension": ".py",
   "mimetype": "text/x-python",
   "name": "python",
   "nbconvert_exporter": "python",
   "pygments_lexer": "ipython3",
   "version": "3.9.12"
  }
 },
 "nbformat": 4,
 "nbformat_minor": 5
}
