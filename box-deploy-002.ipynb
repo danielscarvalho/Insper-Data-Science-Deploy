{
 "cells": [
  {
   "cell_type": "markdown",
   "id": "eff9bd19",
   "metadata": {},
   "source": [
    "<img style=\"float:right\" src=\"https://github.com/danielscarvalho/Insper-DS-Dicas/blob/master/Insper-Logo.png?raw=true\" alt=\"Insper\">"
   ]
  },
  {
   "cell_type": "markdown",
   "id": "acbf0dab",
   "metadata": {},
   "source": [
    "# Programa Avançado em Data Science e Decisão [»](https://www.insper.edu.br/pos-graduacao/programas-avancados/data-science-e-decisao/)\n",
    "## Data Science Deploy\n",
    "\n",
    "<h3 style=\"color:brown\">VSP Deploy: Local e em nuvem (VMs)</h3>\n",
    "\n",
    "Nesta aula vamos criar WEB API com Flask, publicar localmente e em uma máquina virtual na Internet (VSP - Virtual Private Server).\n",
    "\n",
    "WEB API com Flask: Como publicar seus modelos como serviço WEB\n",
    "\n",
    "Local e em nuvem VPS (Virtual Private Server) Linux\n",
    "\n",
    "A documentação online do Flask e Requests são muito boas!\n",
    "\n",
    "<img src=\"https://flask.palletsprojects.com/en/2.0.x/_images/flask-logo.png\" width=\"300\" style=\"float:left\"> \n",
    "<img src=\"https://requests.readthedocs.io/en/latest/_static/requests-sidebar.png\" width=\"200\" style=\"float:right\">"
   ]
  },
  {
   "cell_type": "markdown",
   "id": "c0d6acee",
   "metadata": {},
   "source": [
    "Vamos publicar WEB Services localmente e<br>\n",
    "Vamos publicar os mesmos WEB Services em nuvem em servidores Linux (VPS - Virtual Private Servers)\n",
    "\n",
    "Um serviço da web (WEB Service) é: um serviço oferecido por um dispositivo eletrônico a outro dispositivo eletrônico, de máquina para máquina, comunicando-se entre si através da Internet usando protocolo TCP/IP e HTTP. Ou fornecido por um servidor, ouvindo solicitações em uma determinada porta em uma rede, servindo como resposta dados em formatos diversos (json, xml, csv, html, txt, xlsx, etc...)\n",
    "\n",
    "Podemos criar nosso WEB Services (WEB API) em Python com o Flask, e este serviço pode ser disponibilizado em uma rede interna ou na Internet. E este recurso torna nosso código e modelos em Python acessíveis por qualquer outra linguagem de programação tal como Java, Go, C#, Ruby, PHP, entre outras. Os web services podem também ser consumidos por aplicativos WEB ou mobile (Android ou iOS).\n",
    "\n",
    "Processo básico:\n",
    "\n",
    "1. Criar seu modelo\n",
    "2. Colocar seu modelo em uma biblioteca (arquivo .py)\n",
    "3. Criar a WEB API com Flask para tornar seu modelo acessível\n",
    "4. Fazer o teste local (locahost)\n",
    "5. Subir o codigo do projeto no GitHub\n",
    "6. Utilizar GitHub Actions para publicar o código em uma VPS em núvem\n",
    "7. Testar o acesso do servico pela Internet\n",
    "\n",
    "Documentação:\n",
    "\n",
    "- Flask: https://flask.palletsprojects.com/en/2.0.x/\n",
    "- Requests: https://docs.python-requests.org/en/latest/\n",
    "\n",
    "Dicas de Linux:\n",
    "\n",
    "https://github.com/danielscarvalho/Insper-DS-Dicas/blob/master/Dica-019.ipynb"
   ]
  },
  {
   "cell_type": "markdown",
   "id": "9a5475f9",
   "metadata": {},
   "source": [
    "Com **!** no início do código em uma célula (magic) podemos executar os comandos do SO (Linux no caso)"
   ]
  },
  {
   "cell_type": "code",
   "execution_count": 5,
   "id": "06cd3ee8",
   "metadata": {},
   "outputs": [
    {
     "name": "stdout",
     "output_type": "stream",
     "text": [
      "sáb 17 jun 2023 10:35:42 -03\r\n"
     ]
    }
   ],
   "source": [
    "!date"
   ]
  },
  {
   "cell_type": "markdown",
   "id": "d14e6e5a",
   "metadata": {},
   "source": [
    "Podemos consumir com **curl** ou requests uma WEB API (WEB Service) que fornece dados GEO informado o nome do Insper apenas..."
   ]
  },
  {
   "cell_type": "markdown",
   "id": "dbb1a2fc",
   "metadata": {},
   "source": [
    "Instalar o **curl** no Linux (WLS2):\n",
    "\n",
    "sudo apt install curl\n",
    "\n",
    "sudo apt install wget"
   ]
  },
  {
   "cell_type": "code",
   "execution_count": 2,
   "id": "ebd7c301",
   "metadata": {
    "scrolled": true
   },
   "outputs": [
    {
     "name": "stdout",
     "output_type": "stream",
     "text": [
      "[{\"place_id\":134276174,\"licence\":\"Data © OpenStreetMap contributors, ODbL 1.0. http://osm.org/copyright\",\"osm_type\":\"way\",\"osm_id\":124962732,\"lat\":\"-23.5987249\",\"lon\":\"-46.67643049021903\",\"category\":\"amenity\",\"type\":\"university\",\"place_rank\":30,\"importance\":0.41722927792610753,\"addresstype\":\"amenity\",\"name\":\"Insper\",\"display_name\":\"Insper, 300, Rua Quatá, Vila Olímpia, Itaim Bibi, São Paulo, Região Imediata de São Paulo, Região Metropolitana de São Paulo, Região Geográfica Intermediária de São Paulo, São Paulo, Região Sudeste, 04546-042, Brasil\",\"boundingbox\":[\"-23.5989711\",\"-23.5982227\",\"-46.6772417\",\"-46.6761522\"]},{\"place_id\":242234348,\"licence\":\"Data © OpenStreetMap contributors, ODbL 1.0. http://osm.org/copyright\",\"osm_type\":\"way\",\"osm_id\":687476094,\"lat\":\"-23.59895865\",\"lon\":\"-46.675683293368095\",\"category\":\"building\",\"type\":\"university\",\"place_rank\":30,\"importance\":9.999999994736442e-08,\"addresstype\":\"building\",\"name\":\"Insper\",\"display_name\":\"Insper, 200, Rua Quatá, Vila Olímpia, Itaim Bibi, São Paulo, Região Imediata de São Paulo, Região Metropolitana de São Paulo, Região Geográfica Intermediária de São Paulo, São Paulo, Região Sudeste, 04546-042, Brasil\",\"boundingbox\":[\"-23.5993470\",\"-23.5986145\",\"-46.6760648\",\"-46.6752012\"]}]"
     ]
    }
   ],
   "source": [
    "!curl \"https://nominatim.openstreetmap.org/search.php?q=Insper&format=jsonv2\""
   ]
  },
  {
   "cell_type": "code",
   "execution_count": 6,
   "id": "6cecf355",
   "metadata": {
    "scrolled": false
   },
   "outputs": [
    {
     "name": "stdout",
     "output_type": "stream",
     "text": [
      "[{\"place_id\":111862735,\"licence\":\"Data © OpenStreetMap contributors, ODbL 1.0. http://osm.org/copyright\",\"osm_type\":\"way\",\"osm_id\":27030323,\"lat\":\"-23.5799788\",\"lon\":\"-46.64926899968789\",\"category\":\"building\",\"type\":\"yes\",\"place_rank\":30,\"importance\":9.99999999995449e-06,\"addresstype\":\"building\",\"name\":\"IBM\",\"display_name\":\"IBM, 1157, Rua Tutóia, Moema, São Paulo, Região Imediata de São Paulo, Região Metropolitana de São Paulo, Região Geográfica Intermediária de São Paulo, São Paulo, Região Sudeste, 04007-900, Brasil\",\"boundingbox\":[\"-23.5802994\",\"-23.5796875\",\"-46.6495605\",\"-46.6489428\"]},{\"place_id\":63099672,\"licence\":\"Data © OpenStreetMap contributors, ODbL 1.0. http://osm.org/copyright\",\"osm_type\":\"node\",\"osm_id\":5780143853,\"lat\":\"-30.0461546\",\"lon\":\"-51.2306162\",\"category\":\"office\",\"type\":\"company\",\"place_rank\":30,\"importance\":9.999999994736442e-08,\"addresstype\":\"office\",\"name\":\"IBM\",\"display_name\":\"IBM, Rua Manoelito de Ornellas, Praia de Belas, Porto Alegre, Região Geográfica Imediata de Porto Alegre, Região Metropolitana de Porto Alegre, Região Geográfica Intermediária de Porto Alegre, Rio Grande do Sul, Região Sul, 90110-230, Brasil\",\"boundingbox\":[\"-30.0462046\",\"-30.0461046\",\"-51.2306662\",\"-51.2305662\"]},{\"place_id\":126064320,\"licence\":\"Data © OpenStreetMap contributors, ODbL 1.0. http://osm.org/copyright\",\"osm_type\":\"way\",\"osm_id\":93268227,\"lat\":\"-22.950547800000002\",\"lon\":\"-43.177049648693476\",\"category\":\"landuse\",\"type\":\"commercial\",\"place_rank\":22,\"importance\":0.2000000999999999,\"addresstype\":\"commercial\",\"name\":\"IBM Brasil\",\"display_name\":\"IBM Brasil, Botafogo, Zona Sul do Rio de Janeiro, Rio de Janeiro, Região Geográfica Imediata do Rio de Janeiro, Região Metropolitana do Rio de Janeiro, Região Geográfica Intermediária do Rio de Janeiro, Rio de Janeiro, Região Sudeste, 22290-240, Brasil\",\"boundingbox\":[\"-22.9507562\",\"-22.9502923\",\"-43.1773574\",\"-43.1767180\"]}]"
     ]
    }
   ],
   "source": [
    "!curl \"https://nominatim.openstreetmap.org/search.php?q=IBM+Brazil&format=jsonv2\""
   ]
  },
  {
   "cell_type": "code",
   "execution_count": 3,
   "id": "63830d81",
   "metadata": {},
   "outputs": [
    {
     "data": {
      "text/plain": [
       "[{'place_id': 342545341,\n",
       "  'licence': 'Data © OpenStreetMap contributors, ODbL 1.0. http://osm.org/copyright',\n",
       "  'osm_type': 'node',\n",
       "  'osm_id': 10007826020,\n",
       "  'lat': '-23.5590503',\n",
       "  'lon': '-46.6600852',\n",
       "  'category': 'shop',\n",
       "  'type': 'books',\n",
       "  'place_rank': 30,\n",
       "  'importance': 9.99999999995449e-06,\n",
       "  'addresstype': 'shop',\n",
       "  'name': 'Livraria Cultura',\n",
       "  'display_name': 'Livraria Cultura, Galerias, Cerqueira César, Jardim Paulista, São Paulo, Região Imediata de São Paulo, Região Metropolitana de São Paulo, Região Geográfica Intermediária de São Paulo, São Paulo, Região Sudeste, 01311-300, Brasil',\n",
       "  'boundingbox': ['-23.5591003', '-23.5590003', '-46.6601352', '-46.6600352']},\n",
       " {'place_id': 80793077,\n",
       "  'licence': 'Data © OpenStreetMap contributors, ODbL 1.0. http://osm.org/copyright',\n",
       "  'osm_type': 'node',\n",
       "  'osm_id': 7973675689,\n",
       "  'lat': '-21.2265916',\n",
       "  'lon': '-47.8345057',\n",
       "  'category': 'shop',\n",
       "  'type': 'books',\n",
       "  'place_rank': 30,\n",
       "  'importance': 9.999999994736442e-08,\n",
       "  'addresstype': 'shop',\n",
       "  'name': 'Livraria Cultura',\n",
       "  'display_name': 'Livraria Cultura, Avenida Doutor Albert Sabin, Vila do Golf, Bonfim Paulista, Ribeirão Preto, Região Imediata de Ribeirão Preto, Região Metropolitana de Ribeirão Preto, Região Geográfica Intermediária de Ribeirão Preto, São Paulo, Região Sudeste, 14027-050, Brasil',\n",
       "  'boundingbox': ['-21.2266416', '-21.2265416', '-47.8345557', '-47.8344557']}]"
      ]
     },
     "execution_count": 3,
     "metadata": {},
     "output_type": "execute_result"
    }
   ],
   "source": [
    "import requests\n",
    "\n",
    "URL=\"https://nominatim.openstreetmap.org/search.php?q=Livraria+Cultura+Sao+Paulo&format=jsonv2\"\n",
    "\n",
    "end = requests.get(URL).json()\n",
    "\n",
    "end\n",
    "#json - dict (Dicionário do Python)"
   ]
  },
  {
   "cell_type": "code",
   "execution_count": 10,
   "id": "6ff567b2",
   "metadata": {},
   "outputs": [
    {
     "data": {
      "text/html": [
       "<div>\n",
       "<style scoped>\n",
       "    .dataframe tbody tr th:only-of-type {\n",
       "        vertical-align: middle;\n",
       "    }\n",
       "\n",
       "    .dataframe tbody tr th {\n",
       "        vertical-align: top;\n",
       "    }\n",
       "\n",
       "    .dataframe thead th {\n",
       "        text-align: right;\n",
       "    }\n",
       "</style>\n",
       "<table border=\"1\" class=\"dataframe\">\n",
       "  <thead>\n",
       "    <tr style=\"text-align: right;\">\n",
       "      <th></th>\n",
       "      <th>place_id</th>\n",
       "      <th>licence</th>\n",
       "      <th>osm_type</th>\n",
       "      <th>osm_id</th>\n",
       "      <th>lat</th>\n",
       "      <th>lon</th>\n",
       "      <th>category</th>\n",
       "      <th>type</th>\n",
       "      <th>place_rank</th>\n",
       "      <th>importance</th>\n",
       "      <th>addresstype</th>\n",
       "      <th>name</th>\n",
       "      <th>display_name</th>\n",
       "      <th>boundingbox</th>\n",
       "    </tr>\n",
       "  </thead>\n",
       "  <tbody>\n",
       "    <tr>\n",
       "      <th>0</th>\n",
       "      <td>342545341</td>\n",
       "      <td>Data © OpenStreetMap contributors, ODbL 1.0. h...</td>\n",
       "      <td>node</td>\n",
       "      <td>10007826020</td>\n",
       "      <td>-23.5590503</td>\n",
       "      <td>-46.6600852</td>\n",
       "      <td>shop</td>\n",
       "      <td>books</td>\n",
       "      <td>30</td>\n",
       "      <td>1.000000e-05</td>\n",
       "      <td>shop</td>\n",
       "      <td>Livraria Cultura</td>\n",
       "      <td>Livraria Cultura, Galerias, Cerqueira César, J...</td>\n",
       "      <td>[-23.5591003, -23.5590003, -46.6601352, -46.66...</td>\n",
       "    </tr>\n",
       "    <tr>\n",
       "      <th>1</th>\n",
       "      <td>80793077</td>\n",
       "      <td>Data © OpenStreetMap contributors, ODbL 1.0. h...</td>\n",
       "      <td>node</td>\n",
       "      <td>7973675689</td>\n",
       "      <td>-21.2265916</td>\n",
       "      <td>-47.8345057</td>\n",
       "      <td>shop</td>\n",
       "      <td>books</td>\n",
       "      <td>30</td>\n",
       "      <td>1.000000e-07</td>\n",
       "      <td>shop</td>\n",
       "      <td>Livraria Cultura</td>\n",
       "      <td>Livraria Cultura, Avenida Doutor Albert Sabin,...</td>\n",
       "      <td>[-21.2266416, -21.2265416, -47.8345557, -47.83...</td>\n",
       "    </tr>\n",
       "  </tbody>\n",
       "</table>\n",
       "</div>"
      ],
      "text/plain": [
       "    place_id                                            licence osm_type  \\\n",
       "0  342545341  Data © OpenStreetMap contributors, ODbL 1.0. h...     node   \n",
       "1   80793077  Data © OpenStreetMap contributors, ODbL 1.0. h...     node   \n",
       "\n",
       "        osm_id          lat          lon category   type  place_rank  \\\n",
       "0  10007826020  -23.5590503  -46.6600852     shop  books          30   \n",
       "1   7973675689  -21.2265916  -47.8345057     shop  books          30   \n",
       "\n",
       "     importance addresstype              name  \\\n",
       "0  1.000000e-05        shop  Livraria Cultura   \n",
       "1  1.000000e-07        shop  Livraria Cultura   \n",
       "\n",
       "                                        display_name  \\\n",
       "0  Livraria Cultura, Galerias, Cerqueira César, J...   \n",
       "1  Livraria Cultura, Avenida Doutor Albert Sabin,...   \n",
       "\n",
       "                                         boundingbox  \n",
       "0  [-23.5591003, -23.5590003, -46.6601352, -46.66...  \n",
       "1  [-21.2266416, -21.2265416, -47.8345557, -47.83...  "
      ]
     },
     "execution_count": 10,
     "metadata": {},
     "output_type": "execute_result"
    }
   ],
   "source": [
    "import pandas as pd\n",
    "\n",
    "pd.DataFrame(end)"
   ]
  },
  {
   "cell_type": "markdown",
   "id": "34829811",
   "metadata": {},
   "source": [
    "Este exemplo de WEB Service, retorna um JSON (dict) com informações de clima dado a GEO localização, latitude o longitude do Insper:"
   ]
  },
  {
   "cell_type": "code",
   "execution_count": 4,
   "id": "bc6df2e5",
   "metadata": {
    "scrolled": true
   },
   "outputs": [
    {
     "data": {
      "text/plain": [
       "{'coord': {'lon': -46.6764, 'lat': -23.5987},\n",
       " 'weather': [{'id': 800,\n",
       "   'main': 'Clear',\n",
       "   'description': 'clear sky',\n",
       "   'icon': '01n'}],\n",
       " 'base': 'stations',\n",
       " 'main': {'temp': 294.23,\n",
       "  'feels_like': 294.4,\n",
       "  'temp_min': 293.46,\n",
       "  'temp_max': 295.53,\n",
       "  'pressure': 1015,\n",
       "  'humidity': 77},\n",
       " 'visibility': 10000,\n",
       " 'wind': {'speed': 4.12, 'deg': 160},\n",
       " 'clouds': {'all': 0},\n",
       " 'dt': 1692658192,\n",
       " 'sys': {'type': 1,\n",
       "  'id': 8446,\n",
       "  'country': 'BR',\n",
       "  'sunrise': 1692610081,\n",
       "  'sunset': 1692651132},\n",
       "   'icon': '01d'}],\n",
       " 'base': 'stations',\n",
       " 'main': {'temp': 287.77,\n",
       "  'feels_like': 287.17,\n",
       "  'temp_min': 286.01,\n",
       "  'temp_max': 290.53,\n",
       "  'pressure': 1026,\n",
       "  'humidity': 72},\n",
       " 'visibility': 10000,\n",
       " 'wind': {'speed': 2.57, 'deg': 320},\n",
       " 'clouds': {'all': 0},\n",
       " 'dt': 1687009323,\n",
       " 'sys': {'type': 1,\n",
       "  'id': 8446,\n",
       "  'country': 'BR',\n",
       "  'sunrise': 1686995227,\n",
       "  'sunset': 1687033684},\n",
       " 'timezone': -10800,\n",
       " 'id': 3461570,\n",
       " 'name': 'Ibirapuera',\n",
       " 'cod': 200}"
      ]
     },
     "execution_count": 4,
     "metadata": {},
     "output_type": "execute_result"
    }
   ],
   "source": [
    "import requests\n",
    "\n",
    "KEY=\"e5cdb1ac5452815cc556ad568df2c2e8\"\n",
    "LAT=-23.5987249\n",
    "LON=-46.67643049021903\n",
    "\n",
    "URL=f\"https://api.openweathermap.org/data/2.5/weather?lat={LAT}&lon={LON}&appid={KEY}\"\n",
    "\n",
    "requests.get(URL).json()"
   ]
  },
  {
   "cell_type": "code",
   "execution_count": 13,
   "id": "96890f16",
   "metadata": {},
   "outputs": [
    {
     "data": {
      "text/html": [
       "<div>\n",
       "<style scoped>\n",
       "    .dataframe tbody tr th:only-of-type {\n",
       "        vertical-align: middle;\n",
       "    }\n",
       "\n",
       "    .dataframe tbody tr th {\n",
       "        vertical-align: top;\n",
       "    }\n",
       "\n",
       "    .dataframe thead th {\n",
       "        text-align: right;\n",
       "    }\n",
       "</style>\n",
       "<table border=\"1\" class=\"dataframe\">\n",
       "  <thead>\n",
       "    <tr style=\"text-align: right;\">\n",
       "      <th></th>\n",
       "      <th>coord</th>\n",
       "      <th>weather</th>\n",
       "      <th>base</th>\n",
       "      <th>main</th>\n",
       "      <th>visibility</th>\n",
       "      <th>wind</th>\n",
       "      <th>clouds</th>\n",
       "      <th>dt</th>\n",
       "      <th>sys</th>\n",
       "      <th>timezone</th>\n",
       "      <th>id</th>\n",
       "      <th>name</th>\n",
       "      <th>cod</th>\n",
       "    </tr>\n",
       "  </thead>\n",
       "  <tbody>\n",
       "    <tr>\n",
       "      <th>0</th>\n",
       "      <td>{'lon': -46.6764, 'lat': -23.5987}</td>\n",
       "      <td>[{'id': 800, 'main': 'Clear', 'description': '...</td>\n",
       "      <td>stations</td>\n",
       "      <td>{'temp': 294.23, 'feels_like': 294.4, 'temp_mi...</td>\n",
       "      <td>10000</td>\n",
       "      <td>{'speed': 4.12, 'deg': 160}</td>\n",
       "      <td>{'all': 0}</td>\n",
       "      <td>1692658270</td>\n",
       "      <td>{'type': 1, 'id': 8446, 'country': 'BR', 'sunr...</td>\n",
       "      <td>-10800</td>\n",
       "      <td>3461570</td>\n",
       "      <td>Ibirapuera</td>\n",
       "      <td>200</td>\n",
       "    </tr>\n",
       "  </tbody>\n",
       "</table>\n",
       "</div>"
      ],
      "text/plain": [
       "                                coord  \\\n",
       "0  {'lon': -46.6764, 'lat': -23.5987}   \n",
       "\n",
       "                                             weather      base  \\\n",
       "0  [{'id': 800, 'main': 'Clear', 'description': '...  stations   \n",
       "\n",
       "                                                main  visibility  \\\n",
       "0  {'temp': 294.23, 'feels_like': 294.4, 'temp_mi...       10000   \n",
       "\n",
       "                          wind      clouds          dt  \\\n",
       "0  {'speed': 4.12, 'deg': 160}  {'all': 0}  1692658270   \n",
       "\n",
       "                                                 sys  timezone       id  \\\n",
       "0  {'type': 1, 'id': 8446, 'country': 'BR', 'sunr...    -10800  3461570   \n",
       "\n",
       "         name  cod  \n",
       "0  Ibirapuera  200  "
      ]
     },
     "execution_count": 13,
     "metadata": {},
     "output_type": "execute_result"
    }
   ],
   "source": [
    "pd.DataFrame([requests.get(URL).json()])"
   ]
  },
  {
   "cell_type": "markdown",
   "id": "ef56e7b9",
   "metadata": {},
   "source": [
    "WEB API para busca de CEP: https://viacep.com.br/"
   ]
  },
  {
   "cell_type": "code",
   "execution_count": 5,
   "id": "031774c7",
   "metadata": {},
   "outputs": [
    {
     "data": {
      "text/plain": [
       "{'cep': '01001-000',\n",
       " 'logradouro': 'Praça da Sé',\n",
       " 'complemento': 'lado ímpar',\n",
       " 'bairro': 'Sé',\n",
       " 'localidade': 'São Paulo',\n",
       " 'uf': 'SP',\n",
       " 'ibge': '3550308',\n",
       " 'gia': '1004',\n",
       " 'ddd': '11',\n",
       " 'siafi': '7107'}"
      ]
     },
     "execution_count": 5,
     "metadata": {},
     "output_type": "execute_result"
    }
   ],
   "source": [
    "import requests\n",
    "\n",
    "requests.get(\"https://viacep.com.br/ws/01001000/json/\").json()"
   ]
  },
  {
   "cell_type": "code",
   "execution_count": 16,
   "id": "c2ec5a05",
   "metadata": {},
   "outputs": [
    {
     "data": {
      "text/html": [
       "<div>\n",
       "<style scoped>\n",
       "    .dataframe tbody tr th:only-of-type {\n",
       "        vertical-align: middle;\n",
       "    }\n",
       "\n",
       "    .dataframe tbody tr th {\n",
       "        vertical-align: top;\n",
       "    }\n",
       "\n",
       "    .dataframe thead th {\n",
       "        text-align: right;\n",
       "    }\n",
       "</style>\n",
       "<table border=\"1\" class=\"dataframe\">\n",
       "  <thead>\n",
       "    <tr style=\"text-align: right;\">\n",
       "      <th></th>\n",
       "      <th>cep</th>\n",
       "      <th>logradouro</th>\n",
       "      <th>complemento</th>\n",
       "      <th>bairro</th>\n",
       "      <th>localidade</th>\n",
       "      <th>uf</th>\n",
       "      <th>ibge</th>\n",
       "      <th>gia</th>\n",
       "      <th>ddd</th>\n",
       "      <th>siafi</th>\n",
       "    </tr>\n",
       "  </thead>\n",
       "  <tbody>\n",
       "    <tr>\n",
       "      <th>0</th>\n",
       "      <td>01001-000</td>\n",
       "      <td>Praça da Sé</td>\n",
       "      <td>lado ímpar</td>\n",
       "      <td>Sé</td>\n",
       "      <td>São Paulo</td>\n",
       "      <td>SP</td>\n",
       "      <td>3550308</td>\n",
       "      <td>1004</td>\n",
       "      <td>11</td>\n",
       "      <td>7107</td>\n",
       "    </tr>\n",
       "  </tbody>\n",
       "</table>\n",
       "</div>"
      ],
      "text/plain": [
       "         cep   logradouro complemento bairro localidade  uf     ibge   gia  \\\n",
       "0  01001-000  Praça da Sé  lado ímpar     Sé  São Paulo  SP  3550308  1004   \n",
       "\n",
       "  ddd siafi  \n",
       "0  11  7107  "
      ]
     },
     "execution_count": 16,
     "metadata": {},
     "output_type": "execute_result"
    }
   ],
   "source": [
    "pd.DataFrame([requests.get(\"https://viacep.com.br/ws/01001000/json/\").json()])"
   ]
  },
  {
   "cell_type": "code",
   "execution_count": 17,
   "id": "da731267",
   "metadata": {},
   "outputs": [
    {
     "name": "stdout",
     "output_type": "stream",
     "text": [
      "{\r\n",
      "  \"cep\": \"03819-250\",\r\n",
      "  \"logradouro\": \"Rua Água Nova\",\r\n",
      "  \"complemento\": \"\",\r\n",
      "  \"bairro\": \"Parque Císper\",\r\n",
      "  \"localidade\": \"São Paulo\",\r\n",
      "  \"uf\": \"SP\",\r\n",
      "  \"ibge\": \"3550308\",\r\n",
      "  \"gia\": \"1004\",\r\n",
      "  \"ddd\": \"11\",\r\n",
      "  \"siafi\": \"7107\"\r\n",
      "}"
     ]
    }
   ],
   "source": [
    "!curl viacep.com.br/ws/03819250/json/"
   ]
  },
  {
   "cell_type": "code",
   "execution_count": 7,
   "id": "0fba3feb",
   "metadata": {},
   "outputs": [
    {
     "name": "stdout",
     "output_type": "stream",
     "text": [
      "<?xml version=\"1.0\" encoding=\"UTF-8\"?>\r\n",
      "<xmlcep>\r\n",
      "  <cep>03819-250</cep>\r\n",
      "  <logradouro>Rua Água Nova</logradouro>\r\n",
      "  <complemento></complemento>\r\n",
      "  <bairro>Parque Císper</bairro>\r\n",
      "  <localidade>São Paulo</localidade>\r\n",
      "  <uf>SP</uf>\r\n",
      "  <ibge>3550308</ibge>\r\n",
      "  <gia>1004</gia>\r\n",
      "  <ddd>11</ddd>\r\n",
      "  <siafi>7107</siafi>\r\n",
      "</xmlcep>"
     ]
    }
   ],
   "source": [
    "!curl viacep.com.br/ws/03819250/xml/"
   ]
  },
  {
   "cell_type": "markdown",
   "id": "dd371119",
   "metadata": {},
   "source": [
    "Note como fica a URL que faz a chamada da WEB API, isso funciona no browser também... pois estamos usando o protocolo HTTP/S, para criar WEB Services (WEB API) utiliza-se os mesmos recursos da tecnologia WEB... dado sua simplicidade e accessibilidade...\n",
    "\n",
    "- Uma visão geral do HTTP: https://developer.mozilla.org/pt-BR/docs/Web/HTTP/Overview\n",
    "\n",
    "<img src=\"https://igluonline.com/wp-content/uploads/2018/12/como-funciona-http.jpg.jpg\" width=\"600px\">"
   ]
  },
  {
   "cell_type": "code",
   "execution_count": null,
   "id": "413f2e16",
   "metadata": {
    "scrolled": false
   },
   "outputs": [],
   "source": [
    "URL"
   ]
  },
  {
   "cell_type": "markdown",
   "id": "9ae458f4",
   "metadata": {},
   "source": [
    "> Agora vamos criar nosso próprios serviços WEB (WEB Servie ou WEB API) com Flask"
   ]
  },
  {
   "cell_type": "code",
   "execution_count": null,
   "id": "7a87e237",
   "metadata": {},
   "outputs": [],
   "source": [
    "!conda install flask"
   ]
  },
  {
   "cell_type": "code",
   "execution_count": null,
   "id": "2bf4e3b5",
   "metadata": {
    "scrolled": true
   },
   "outputs": [],
   "source": [
    "!pip install flask"
   ]
  },
  {
   "cell_type": "code",
   "execution_count": null,
   "id": "d1c7c43b",
   "metadata": {},
   "outputs": [],
   "source": [
    "!conda install requests"
   ]
  },
  {
   "cell_type": "code",
   "execution_count": null,
   "id": "ab6f90e4",
   "metadata": {
    "scrolled": false
   },
   "outputs": [],
   "source": [
    "!pip install requests"
   ]
  },
  {
   "cell_type": "markdown",
   "id": "2f9cb673",
   "metadata": {},
   "source": [
    "Agora vamos trabalhar fora do ambiente Jupyter, vamos trabalhar com python em arquivos texto .py, ambiente script na linha de comando. Isso funciona no Linux, Mac ou Windows."
   ]
  },
  {
   "cell_type": "markdown",
   "id": "14f93ce7",
   "metadata": {},
   "source": [
    "Criar uma pasta de tralbalho (projeto), e criar o arquivo **insperds.py** que é nossa biblioteca de funções\n",
    "\n",
    "```Python\n",
    "import requests\n",
    "\n",
    "def ddgquery(query):\n",
    "    URL = \"https://api.duckduckgo.com/?format=json&pretty=0&q=\" + query\n",
    "    response = requests.get(URL)\n",
    "    ddg = response.json()\n",
    "    info = ddg[\"Abstract\"]\n",
    "    if len(info) > 1:\n",
    "        return info\n",
    "    else:\n",
    "    \treturn \"Ops! No data found!\" \n",
    "\n",
    "def bitcoins():\n",
    "    URL=\"https://www.mercadobitcoin.net/api/BTC/trades/\"\n",
    "    response = requests.get(URL)\n",
    "    return {\"btc\":response.json()}\n",
    "\n",
    "def ethereum():\n",
    "    URL=\"https://www.mercadobitcoin.net/api/ETH/trades/\"\n",
    "    response = requests.get(URL)\n",
    "    return {\"eth\":response.json()}\n",
    "\n",
    "def weather(latitude, longitude):\n",
    "    KEY = \"ed38d2abac6e6aded3cf1ed68fddb3c6\"\n",
    "    URL = f'https://api.openweathermap.org/data/2.5/weather?lat=' + str(latitude) + '&lon=' + str(longitude) + '&appid='+ KEY\n",
    "    return requests.get(URL).json()\n",
    "```"
   ]
  },
  {
   "cell_type": "markdown",
   "id": "ea4bb6f7",
   "metadata": {},
   "source": [
    "Agora vamos criar o script que executa as WEB APIs em Flask **core.py**\n",
    "\n",
    "```python\n",
    "# A simple Flask Hello World WEB API to get started with...\n",
    "\n",
    "from flask import Flask\n",
    "from flask import request\n",
    "from datetime import datetime\n",
    "import insperds\n",
    "\n",
    "app = Flask(__name__)\n",
    "\n",
    "@app.route('/')\n",
    "def hello_world():\n",
    "    now = datetime.now()\n",
    "    return 'Hello from Flask, by Insper DS! - ' + str(now)\n",
    "\n",
    "@app.route('/core')\n",
    "def core():\n",
    "    now = datetime.now()\n",
    "    return 'Vai Corinthians!! - ' + str(now) \n",
    "\n",
    "@app.route('/add/<a>/<b>')\n",
    "def add(a, b):\n",
    "    return str(float(a) + float(b))\n",
    "\n",
    "@app.route('/area')\n",
    "def myarea():\n",
    "  altura = request.args.get('altura', default = 0, type = float)\n",
    "  largura = request.args.get('largura', default = 0, type = float)\n",
    "  comprimento = request.args.get('comprimento', default = -1, type = float)\n",
    "  \n",
    "  if (comprimento < 0):\n",
    "        return str(altura*largura)\n",
    "  else:\n",
    "        return str(altura*largura*comprimento)\n",
    "\n",
    "@app.route('/query/<text>')\n",
    "def query(text):\n",
    "    return insperds.ddgquery(text)\n",
    "    \n",
    "@app.route('/bitcoins')\n",
    "def btc():\n",
    "    return insperds.bitcoins()\n",
    "    \n",
    "@app.route('/ethereum')\n",
    "def ether():\n",
    "    return insperds.ethereum()\n",
    "    \n",
    "@app.route('/weather/<lat>/<lon>')\n",
    "def weather(lat, lon):\n",
    "    return insperds.weather(lat, lon)\n",
    "            \n",
    "```"
   ]
  },
  {
   "cell_type": "markdown",
   "id": "51f5edda",
   "metadata": {},
   "source": [
    "Precisamos instalar o Flask no sistema operacional (SO - Linux e Mac):\n",
    "    \n",
    "```bash\n",
    "sudo apt install flask\n",
    "```\n",
    "ou\n",
    "\n",
    "```bash\n",
    "sudo apt install python3-flask\n",
    "```"
   ]
  },
  {
   "cell_type": "markdown",
   "id": "d9ed9d13",
   "metadata": {},
   "source": [
    "Podemos executar os comandos abaixo (Linux e Mac) ou criar um script **run.sh**\n",
    "\n",
    "\n",
    "```bash\n",
    "export FLASK_APP=core\n",
    "flask run --host=0.0.0.0\n",
    "```"
   ]
  },
  {
   "cell_type": "markdown",
   "id": "9d98267b",
   "metadata": {},
   "source": [
    "A porta padrão do Flask é a 5000, lembre-se de liberar esta porta no firewall...<br>\n",
    "O comando host com o IP 0.0.0.0 significa que esta aplicação atende a chamada (inbound) proveniente de qualquer endereço IP<br>\n",
    "O comando export cria uma variável de ambiente no SO (chave valor)\n",
    "\n",
    "> Outra forma de executar um progra Flask na linha de comando, por exemplo, app.py:<br>\n",
    "> flask --host=0.0.0.0 --port=5000 run app"
   ]
  },
  {
   "cell_type": "markdown",
   "id": "6a511efe",
   "metadata": {},
   "source": [
    "A janela do Flask em linha de comando fica aberta e podemos ver as requisições no log.\n",
    "\n",
    "```bash\n",
    "fito@acme-lab:/work/Insper/workshop3/flask-local$ sh run.sh\n",
    " * Serving Flask app \"core\"\n",
    " * Environment: production\n",
    "   WARNING: This is a development server. Do not use it in a production deployment.\n",
    "   Use a production WSGI server instead.\n",
    " * Debug mode: off\n",
    " * Running on http://0.0.0.0:5000/ (Press CTRL+C to quit)\n",
    "127.0.0.1 - - [1/Feb/2022 02:54:12] \"GET /core HTTP/1.1\" 200 -\n",
    "127.0.0.1 - - [1/Feb/2022 02:54:25] \"GET /add/10/333 HTTP/1.1\" 200 -\n",
    "127.0.0.1 - - [1/Feb/2022 02:54:38] \"GET /query/brasil HTTP/1.1\" 200 -\n",
    "\n",
    "\n",
    "```"
   ]
  },
  {
   "cell_type": "markdown",
   "id": "94ea45a5",
   "metadata": {},
   "source": [
    "É possível também no Linux (Bash) deixar o flask rodando em background (segundo plano - serviço)\n",
    "\n",
    "```bash\n",
    "nohup flask --host=0.0.0.0 --port=5000 run app &\n",
    "```\n",
    "\n",
    "Desta forma mesmo fechando a conexão ssh o flask continua em execução, a saída do log é acumulada no arquivo \"nohup.out\". Veja mais em: https://linux.die.net/man/1/nohup"
   ]
  },
  {
   "cell_type": "markdown",
   "id": "ecc48e92",
   "metadata": {},
   "source": [
    "> Loop back address: localhost ou 127.0.0.1"
   ]
  },
  {
   "cell_type": "markdown",
   "id": "8c65ef0d",
   "metadata": {},
   "source": [
    "Podemos testar o serviço com o utilitário CLI **curl** ou no próprio notebook com o **requests**, com o browser é possível para o verbo HTTP GET"
   ]
  },
  {
   "cell_type": "code",
   "execution_count": null,
   "id": "3a03464f",
   "metadata": {
    "scrolled": true
   },
   "outputs": [],
   "source": [
    "!curl http://localhost:5000/core"
   ]
  },
  {
   "cell_type": "code",
   "execution_count": null,
   "id": "a1c56d6d",
   "metadata": {
    "scrolled": true
   },
   "outputs": [],
   "source": [
    "!curl http://localhost:5000/add/102/333"
   ]
  },
  {
   "cell_type": "code",
   "execution_count": null,
   "id": "73226b4a",
   "metadata": {
    "scrolled": false
   },
   "outputs": [],
   "source": [
    "!curl http://localhost:5000/query/brasil"
   ]
  },
  {
   "cell_type": "markdown",
   "id": "65213255",
   "metadata": {},
   "source": [
    "Agora o texto usando o requests no Jupyter notebook:"
   ]
  },
  {
   "cell_type": "code",
   "execution_count": null,
   "id": "6294e3f3",
   "metadata": {},
   "outputs": [],
   "source": [
    "import requests\n",
    "\n",
    "r=requests.get(\"http://localhost:5000/query/IBM\")\n",
    "r.text"
   ]
  },
  {
   "cell_type": "markdown",
   "id": "21f7fcf8",
   "metadata": {},
   "source": [
    "Servidor virtual no Oracle Cloud"
   ]
  },
  {
   "cell_type": "code",
   "execution_count": 34,
   "id": "8d29063a",
   "metadata": {},
   "outputs": [
    {
     "data": {
      "text/plain": [
       "\"Brazil, officially the Federative Republic of Brazil, is the largest country in South America and in Latin America. Brazil is the world's fifth-largest country by area and the seventh most populous. Its capital is Brasília, and its most populous city is São Paulo. The federation is composed of the union of the 26 states and the Federal District. It is the only country in the Americas to have Portuguese as an official language. It is one of the most multicultural and ethnically diverse nations, due to over a century of mass immigration from around the world, and the most populous Roman Catholic-majority country. Bounded by the Atlantic Ocean on the east, Brazil has a coastline of 7,491 kilometers. It borders all other countries and territories in South America except Ecuador and Chile and covers roughly half of the continent's land area.\""
      ]
     },
     "execution_count": 34,
     "metadata": {},
     "output_type": "execute_result"
    }
   ],
   "source": [
    "import requests\n",
    "\n",
    "r=requests.get(\"http://129.213.14.122:5000/query/Brasil\")\n",
    "r.text"
   ]
  },
  {
   "cell_type": "code",
   "execution_count": 30,
   "id": "258f1d51",
   "metadata": {},
   "outputs": [
    {
     "name": "stdout",
     "output_type": "stream",
     "text": [
      "3467.0"
     ]
    }
   ],
   "source": [
    "!curl 129.213.14.122:5000/add/23/3444"
   ]
  },
  {
   "cell_type": "markdown",
   "id": "34437787",
   "metadata": {},
   "source": [
    "Servidor virtual no GCP (Google Cloud)"
   ]
  },
  {
   "cell_type": "code",
   "execution_count": 35,
   "id": "8b38ff21",
   "metadata": {},
   "outputs": [
    {
     "name": "stdout",
     "output_type": "stream",
     "text": [
      "67.0"
     ]
    }
   ],
   "source": [
    "!curl 34.139.87.194:5000/add/23/44"
   ]
  },
  {
   "cell_type": "code",
   "execution_count": 36,
   "id": "da73e634",
   "metadata": {},
   "outputs": [
    {
     "data": {
      "text/plain": [
       "\"Brazil, officially the Federative Republic of Brazil, is the largest country in South America and in Latin America. Brazil is the world's fifth-largest country by area and the seventh most populous. Its capital is Brasília, and its most populous city is São Paulo. The federation is composed of the union of the 26 states and the Federal District. It is the only country in the Americas to have Portuguese as an official language. It is one of the most multicultural and ethnically diverse nations, due to over a century of mass immigration from around the world, and the most populous Roman Catholic-majority country. Bounded by the Atlantic Ocean on the east, Brazil has a coastline of 7,491 kilometers. It borders all other countries and territories in South America except Ecuador and Chile and covers roughly half of the continent's land area.\""
      ]
     },
     "execution_count": 36,
     "metadata": {},
     "output_type": "execute_result"
    }
   ],
   "source": [
    "import requests\n",
    "\n",
    "r=requests.get(\"http://34.139.87.194:5000/query/Brasil\")\n",
    "r.text"
   ]
  },
  {
   "cell_type": "markdown",
   "id": "236201db",
   "metadata": {},
   "source": [
    "O processo para colocar o serviço no ar em nosso computador local (Linux ou Mac) é igual para colocar estes serviços em uma máquina virtual Linux (servidor) em nuvem (VPS - Virtual Private Server).\n",
    "\n",
    "O ambiente em nuvem precisamos configurar o domínio (DNS) e a camada de seguranças (Firewalls etc...), conforme cada provedor."
   ]
  },
  {
   "cell_type": "markdown",
   "id": "44784403",
   "metadata": {},
   "source": [
    "### Máquina Virtual (VM) Linux em nuvem\n",
    "\n",
    "Virtual Private Server (VPS)\n",
    "\n",
    "Linux Ubuntu - https://ubuntu.com/\n",
    "\n",
    "Testes no Oracle Cloud:\n",
    "\n",
    "```bash\n",
    "root@web-app-server-01:~# hostname\n",
    "web-app-server-01\n",
    "root@web-app-server-01:~# uptime\n",
    " 01:37:04 up 10 days,  6:37,  1 user,  load average: 0.02, 0.01, 0.00\n",
    "root@web-app-server-01:~# uname -a\n",
    "Linux web-app-server-01 5.11.0-1027-oracle #30~20.04.1-Ubuntu SMP Thu Jan 13 09:43:40 UTC 2022 aarch64 aarch64 aarch64 GNU/Linux\n",
    "root@web-app-server-01:~# python3 --version\n",
    "Python 3.8.10\n",
    "```\n",
    "\n",
    "Testes no Microsoft Azure:\n",
    "\n",
    "```bash\n",
    "fitoplancton@app-07:~$ hostname\n",
    "app-07\n",
    "fitoplancton@app-07:~$ uptime\n",
    " 02:36:50 up 370 days, 20:49,  1 user,  load average: 0.00, 0.03, 0.02\n",
    "fitoplancton@app-07:~$ uname -a\n",
    "Linux app-07 4.18.0-1013-azure #13~18.04.1-Ubuntu SMP Thu Feb 28 23:48:47 UTC 2019 x86_64 x86_64 x86_64 GNU/Linux\n",
    "fitoplancton@app-07:~$ python3 --version\n",
    "Python 3.6.9\n",
    "```\n",
    "\n",
    "Podemos conectar so servidor Linux (VM) em nuvem pela linha de comando usando o **ssh** no Linux e Mac:\n",
    "\n",
    "\n",
    "Oracle...<br>\n",
    "**ssh -i ssh-key-2022-02-13.key ubuntu@w1.code.eng.br**\n",
    "\n",
    "Microsoft...<br>\n",
    "**ssh fitoplancton@lab.code.eng.br**\n",
    "\n",
    "ou<br>\n",
    "**ssh maria@253.34.223.3**\n",
    "\n",
    "Para client Windows utilizamos o PuTTY - https://www.putty.org/"
   ]
  },
  {
   "cell_type": "markdown",
   "id": "dae7980c",
   "metadata": {},
   "source": [
    "Note que as versões do Python disponíveis são diferentes, no seu ambiente local e entre os servidores!!! E não foi instalado com o Anaconda.\n",
    "\n",
    "Vamos ver na máquina local:"
   ]
  },
  {
   "cell_type": "code",
   "execution_count": null,
   "id": "fb9e51c6",
   "metadata": {
    "scrolled": true
   },
   "outputs": [],
   "source": [
    "!python --version"
   ]
  },
  {
   "cell_type": "code",
   "execution_count": null,
   "id": "dbbf2ce7",
   "metadata": {},
   "outputs": [],
   "source": [
    "!python --version"
   ]
  },
  {
   "cell_type": "code",
   "execution_count": null,
   "id": "07888b33",
   "metadata": {},
   "outputs": [],
   "source": [
    "!conda --version"
   ]
  },
  {
   "cell_type": "markdown",
   "id": "e5e3a40c",
   "metadata": {},
   "source": [
    "**LAB!** Vamos para o ambiente em um servidor Linux em nuvem - VPS!!!"
   ]
  },
  {
   "cell_type": "markdown",
   "id": "35f941e3",
   "metadata": {},
   "source": [
    " > Será realizada demonstração de alguns tópicos do workshop/aula. Os serviços em nuvem requerem registro e cadastro com catão de crédito e em alguns casos CNPJ também. E vamos experimentar serviços de diferentes provedores... há riscos financeiros ao utilizar ambientes de *cloud computing* mesmo que para estudo e testes. Fique atento para não deixar recursos ligados após o uso, pois a cobrança é feita por hora!"
   ]
  },
  {
   "cell_type": "markdown",
   "id": "67a29749",
   "metadata": {},
   "source": [
    "### Microsoft Azure - VM Linux\n",
    "\n",
    "Podemos obter acesso a recursos gratuitos na núvem da Microsoft, usando o e-mail do Insper:\n",
    "\n",
    "https://azure.microsoft.com/pt-br/free/students/\n",
    "\n",
    "Conectando via SSH (Linha de comando)\n",
    "\n",
    "```bash\n",
    "fito@acme-lab:/work/Insper/Insper-Data-Science-Deploy$ ssh fitoplancton@lab.code.eng.br\n",
    "fitoplancton@lab.code.eng.br's password: \n",
    "Welcome to Ubuntu 18.04.2 LTS (GNU/Linux 4.18.0-1013-azure x86_64)\n",
    "\n",
    " * Documentation:  https://help.ubuntu.com\n",
    " * Management:     https://landscape.canonical.com\n",
    " * Support:        https://ubuntu.com/advantage\n",
    "\n",
    "  System information as of Fri Feb 25 12:26:16 UTC 2022\n",
    "\n",
    "  System load:  0.1                Processes:           118\n",
    "  Usage of /:   31.0% of 28.90GB   Users logged in:     0\n",
    "  Memory usage: 37%                IP address for eth0: 10.0.0.4\n",
    "  Swap usage:   5%\n",
    "\n",
    " * Ubuntu's Kubernetes 1.14 distributions can bypass Docker and use containerd\n",
    "   directly, see https://bit.ly/ubuntu-containerd or try it now with\n",
    "\n",
    "     snap install microk8s --channel=1.14/beta --classic\n",
    "\n",
    "  Get cloud support with Ubuntu Advantage Cloud Guest:\n",
    "    http://www.ubuntu.com/business/services/cloud\n",
    "\n",
    " * Canonical Livepatch is available for installation.\n",
    "   - Reduce system reboots and improve kernel security. Activate at:\n",
    "     https://ubuntu.com/livepatch\n",
    "\n",
    "131 packages can be updated.\n",
    "3 updates are security updates.\n",
    "\n",
    "\n",
    "*** System restart required ***\n",
    "Last login: Thu Feb 24 02:21:13 2022 from 201.83.118.214\n",
    "fitoplancton@app-07:~$ \n",
    "\n",
    "```"
   ]
  },
  {
   "cell_type": "markdown",
   "id": "6f6e1de6",
   "metadata": {},
   "source": [
    "Acesso via IP público ou pelo domínio... liberar a porta no Firewall..."
   ]
  },
  {
   "cell_type": "code",
   "execution_count": null,
   "id": "78b89f5d",
   "metadata": {
    "scrolled": true
   },
   "outputs": [],
   "source": [
    "!curl http://lab.code.eng.br:5000/"
   ]
  },
  {
   "cell_type": "code",
   "execution_count": null,
   "id": "ca00b6b5",
   "metadata": {
    "scrolled": true
   },
   "outputs": [],
   "source": [
    "!curl http://lab.code.eng.br:5000/query/Insper"
   ]
  },
  {
   "cell_type": "markdown",
   "id": "6f8d0285",
   "metadata": {},
   "source": [
    "Console do Flask no servidor Linux na Macrosoft Azure (Note que está sem chave SSL, protocolo HTTPS)\n",
    "\n",
    "<img src=\"img/flask-azure.png\">"
   ]
  },
  {
   "cell_type": "markdown",
   "id": "110c4a9a",
   "metadata": {},
   "source": [
    "Este serviço pode ser acessado de algumas formas diferentes, pelo número IP, pelo domínio (DNS), ou pelo domínio fornecido pelo provedor:"
   ]
  },
  {
   "cell_type": "code",
   "execution_count": null,
   "id": "21be6e8c",
   "metadata": {
    "scrolled": true
   },
   "outputs": [],
   "source": [
    "!curl http://13.77.179.189:5000/add/23/44"
   ]
  },
  {
   "cell_type": "code",
   "execution_count": null,
   "id": "a7530c58",
   "metadata": {
    "scrolled": false
   },
   "outputs": [],
   "source": [
    "!curl http://lab.code.eng.br:5000/add/66/124"
   ]
  },
  {
   "cell_type": "code",
   "execution_count": null,
   "id": "a242d889",
   "metadata": {},
   "outputs": [],
   "source": [
    "!curl http://eng.westus2.cloudapp.azure.com:5000/add/99.99/-244"
   ]
  },
  {
   "cell_type": "markdown",
   "id": "c3ab83ef",
   "metadata": {},
   "source": [
    "Lembrando que o DNS (Domain Name System), ou domínio, aponta para um endereço IP (Internet Protocol).\n",
    "\n",
    "Um número IP é um endereço exclusivo que identifica um dispositivo ou servidor (físico ou virtual) na Internet ou em uma rede local.\n",
    "\n",
    "- [DNS](https://en.wikipedia.org/wiki/Domain_Name_System)\n",
    "- [IP](https://www.kaspersky.com/resource-center/definitions/what-is-an-ip-address)"
   ]
  },
  {
   "cell_type": "markdown",
   "id": "78ccee74",
   "metadata": {},
   "source": [
    "> Há nos ambientes em nuvem como da Microsoft Azure, máquinas virtuais prontas (templates) para ciências dos dados, um tipo de marketplace, que já vem com o Anaconda, Python, Flask, etc... já pré instalado"
   ]
  },
  {
   "cell_type": "markdown",
   "id": "b9538765",
   "metadata": {},
   "source": [
    "### Rede e Segurança"
   ]
  },
  {
   "cell_type": "markdown",
   "id": "34a63934",
   "metadata": {},
   "source": [
    "Para o domínio de lab (válido na Internet) **code.eng.br**, configuramos os IPs dos serviços em núvem no gerenciador de DNS (Domínios), apontado os IPs para um subdomínio:\n",
    "<img src=\"img/dns-subdominio.png\">\n",
    "Esta configuração é normalmente feita no ambiente WEB do provedor de DNS.\n",
    "\n",
    "Um domínio custa por volta de 30,00 a 40,00 reais ao ano.\n",
    "\n",
    "Verificando no Bash (Linux) para onde o domínio aponta, para qual número IP:\n",
    "\n",
    "```bash\n",
    "root@acme-lab:/work/Insper$ nslookup w1.code.eng.br\n",
    "Server:\t\t127.0.0.53\n",
    "Address:\t127.0.0.53#53\n",
    "\n",
    "Non-authoritative answer:\n",
    "Name:\tw1.code.eng.br\n",
    "Address: 129.153.157.106\n",
    "\n",
    "```\n",
    "\n",
    "Podemos também verificar a propriedade do domínio:\n",
    "\n",
    "```bash\n",
    "root@acme-lab:/work/Insper$ whois w1.code.eng.br\n",
    "\n",
    "% Copyright (c) Nic.br\n",
    "%  The use of the data below is only permitted as described in\n",
    "%  full by the terms of use at https://registro.br/termo/en.html ,\n",
    "%  being prohibited its distribution, commercialization or\n",
    "%  reproduction, in particular, to use it for advertising or\n",
    "%  any similar purpose.\n",
    "%  2022-02-25T02:21:57-03:00 - IP: 2804:14c:c6:878d:a64b:38e2:46b0:15de\n",
    "\n",
    "domain:      code.eng.br\n",
    "owner:       Insper\n",
    "ownerid:     333.777.999-11\n",
    "country:     BR\n",
    "owner-c:     ATLME159\n",
    "tech-c:      ATLME159\n",
    "nserver:     ns1.locaweb.com.br\n",
    "nsstat:      20220222 AA\n",
    "nslastaa:    20220222\n",
    "nserver:     ns2.locaweb.com.br\n",
    "nsstat:      20220222 AA\n",
    "nslastaa:    20220222\n",
    "nserver:     ns3.locaweb.com.br\n",
    "nsstat:      20220222 AA\n",
    "nslastaa:    20220222\n",
    "saci:        yes\n",
    "created:     20200629 #21281503\n",
    "changed:     20210610\n",
    "expires:     20220629\n",
    "status:      published\n",
    "provider:    LOCAWEB (2)\n",
    "\n",
    "nic-hdl-br:  ATLME159\n",
    "person:      Insper\n",
    "e-mail:      danielscarvalho@gmail.com\n",
    "country:     BR\n",
    "created:     20200629\n",
    "changed:     20200629\n",
    "provider:    LOCAWEB (2)\n",
    "\n",
    "% Security and mail abuse issues should also be addressed to\n",
    "% cert.br, http://www.cert.br/ , respectivelly to cert@cert.br\n",
    "% and mail-abuse@cert.br\n",
    "%\n",
    "% whois.registro.br accepts only direct match queries. Types\n",
    "% of queries are: domain (.br), registrant (tax ID), ticket,\n",
    "% provider, CIDR block, IP and ASN.\n",
    "```"
   ]
  },
  {
   "cell_type": "markdown",
   "id": "6eb9f806",
   "metadata": {},
   "source": [
    "O [Firewall](https://pt.wikipedia.org/wiki/Firewall) é um recurso de segurança da informação, que protege uma rede de outra, neste caso protege o servidor virtual no provedor do tráfego de dados que vem da Internet.\n",
    "\n",
    "Um Firewall é um dispositivo de segurança de rede que monitora e filtra o tráfego de rede de entrada e saída com base nas políticas de segurança previamente estabelecidas de uma organização. Em sua forma mais básica, um firewall é essencialmente a barreira que fica entre uma rede interna privada e a Internet pública."
   ]
  },
  {
   "cell_type": "markdown",
   "id": "744b7fc6",
   "metadata": {},
   "source": [
    "Alguns provedores tem um nível de firewall (1) configurado via WEB em sua central de controle.<br>\n",
    "\n",
    "Outros provedores tem dois nívels de seguranças (2) com o software de firewall adicional na máquina virtual (VM) o [iptables](https://www.netfilter.org/), como no Oracle Cloud por exemplo.\n",
    "<img src=\"img/firewall-diagram.png\">\n",
    "É necessário nos serviços em núvem, liberar as portas para acesso aos serviços, note que neste caso as portas 22, 443, 80, 8080 e 5000 estão liberadas para entradas (inbound), mas todas as outras estão bloqueadas por seguranças:\n",
    "<img src=\"img/regras-firewall.png\">"
   ]
  },
  {
   "cell_type": "markdown",
   "id": "ddb00e43",
   "metadata": {},
   "source": [
    "Endereços IP (número IP) são atribuidos ao servidores (físico ou virtual). Os IPs são atribuídos as placas de rede, diversos IPs podem ser atribuídos a mesma placa de rede. E o servidor pode ter diversas placas de rede também.\n",
    "\n",
    "Temos 2 versões de protocolo de rede TCP/IP em uso IPv4 e IPv6.\n",
    "\n",
    "Note que temos IPv4, 4 conjunto de 3 números separador por \".\", exemplo:\n",
    "\n",
    "    Localhost: 127.0.0.1\n",
    "    IP público: 108.139.182.81\n",
    "\n",
    "IPv6: 8 conjuntos de 4 números separados por \":\", exemplo: \n",
    "\n",
    "    Localhost: 0000:0000:0000:0000:0000:0000:0000:0001 ou ::1\n",
    "    IP público: 2600:9000:21ed:bc00:1:5a19:8b40:93a1\n",
    "\n",
    "Além disto temos as portas, cada programa utiliza uma porta para se comunicar (listen), das portas 0 até 1024 são exclusivas do root (super usuário). São atribuídos serviços padronizados para as portas, conforme segue:\n",
    "\n",
    "<img src=\"https://dirwalk.com/images/common_ports_cheatsheet.jpg\" width=\"600px\">\n",
    "\n",
    "O IP é o \"endereço\" do servidor, e a porta seria qual \"apartamento\" deve receber os pacotes! 😜 \n",
    "\n",
    "O DNS é o \"apelido\" do endereço, para não termos que decorar os números. O nome (DNS) aponta para um número IP público válido na Internet."
   ]
  },
  {
   "cell_type": "markdown",
   "id": "0a0cd686",
   "metadata": {},
   "source": [
    "Há outros aspectos de segurança que são importantes como chave de criptografia (SSL, TTL), ACL (Access Control List), etc..."
   ]
  },
  {
   "cell_type": "markdown",
   "id": "38dfe94d",
   "metadata": {},
   "source": [
    "Quando a chamada HTTP é feita para o serviço do Flask que está no servidor, note que o mair tempo se leva na espera do processamento do servidor para realizar computação:\n",
    "\n",
    "<img src=\"img/network-timing.png\">\n",
    "\n",
    "Este nível de detalhe pode ser visto no console do browser, ferramenta utlizada por developers. Techas **Ctrl + Shift + i**, pasta Network."
   ]
  },
  {
   "cell_type": "markdown",
   "id": "9656bc1c",
   "metadata": {},
   "source": [
    "Podemos usar o comando **nohup** do Linux para sair do ambiente e deixar o Flask no are como serviço do Linux.\n",
    "\n",
    "- https://linux.die.net/man/1/nohup\n",
    "\n",
    "E também podemos ter várias instâncias do Flask em execução simultaneamente no mesmo servidor Linux (VM) em segundo plano, em portas diferentes (que devem ser liberadas no Firewall, é claro):\n",
    "\n",
    "```bash\n",
    "nohup flask --host=0.0.0.0 --port=5001 run app1 &\n",
    "nohup flask --host=0.0.0.0 --port=5002 run app2 &\n",
    "nohup flask --host=0.0.0.0 --port=5003 run app3 &\n",
    "```\n",
    "\n",
    "Use o comando **htop** para ver os processo em execução em segundo plano. Ou o comando **ps -ef | grep flask**<br>\n",
    "Para derrubar um processo em segundo plano use o comando **kill -9 zzzz**, sendo zzzz o número do processo."
   ]
  },
  {
   "cell_type": "markdown",
   "id": "d3a13fc8",
   "metadata": {},
   "source": [
    "Todos os ambientes do provedores serviços em nuvem, fornecem máquinas virtuais (VM ou VPS).\n",
    "\n",
    "São serviços mais flexíveis porem você é responsável por instalar, manter, atualizar, configura, etc... é como ter o seu próprio computador exposto na Internet 24x7x365.\n",
    "\n",
    "O preço destes serviço variam conforme a capacidade de processamento das VMs, processador, disco, memória e banda Internet. E se os recursos são compartilhados ou dedicados. \n",
    "\n",
    "O ambiente do Google Cloud para VMs é chamado *Google Compute Engine*:\n",
    "\n",
    "<img src=\"https://cloud.google.com/languages/images/compute-single-instance.svg\">\n",
    "\n",
    "https://cloud.google.com/python/docs/getting-started/getting-started-on-compute-engine\n",
    "\n",
    "### Extra\n",
    "\n",
    "Dica senha segura:\n",
    "\n",
    "Ao usar serviços na Internet, use senhas seguras geradas automaticamente e também use gerenciador de senhas.\n",
    "\n",
    "\n",
    "A sua senha vai ser quebrada!!<br>\n",
    "ACREDITE NISSO!!!\n",
    "\n",
    "- https://password-gen.com/ >> Para não quebrar a sua senha!\n",
    "- https://www.lastpass.com/pt/features/password-generator >> Gerador de senha segura\n",
    "- https://keepass.info/ >> Para você lembrar a senha\n",
    "\n",
    "Exemplos de senha segura:\n",
    "\n",
    "<pre>\n",
    "*dk*7OBx7l3p!z5L\n",
    "^cketGx#NS52^o7^\n",
    "3j#98v75p2HyR!1o\n",
    "</pre>\n",
    "\n",
    "Os computadores pessoais PC Linux, Mac ou Windows tem firewall local, ou seja, se você subir um servoiço com Flask e passar o número IP do seu computador para seus colegas na mesma rede, eles não vão ter acesso. Você vai ter que liberar a porta 5000 (padrão do Flask) no seu firewall local.\n",
    "\n",
    "Para saber seu IP da rede local no Linux use o comando **ifconfig**, no windows **ipconfig**."
   ]
  },
  {
   "cell_type": "code",
   "execution_count": null,
   "id": "40d364ec",
   "metadata": {
    "scrolled": true
   },
   "outputs": [],
   "source": [
    "!ifconfig"
   ]
  },
  {
   "cell_type": "markdown",
   "id": "bb2288e0",
   "metadata": {},
   "source": [
    "Note que há ranges de IPs reservados para uso em redes locais que não podem ser usados na Internet para domínio e sites públicos:\n",
    "\n",
    "<pre>\n",
    "192.x.x.x\n",
    "10.x.x.x\n",
    "100.x.x.x\n",
    "172.x.x.x\n",
    "</pre>\n",
    "\n",
    "Mais detalhes em: https://en.wikipedia.org/wiki/Reserved_IP_addresses\n",
    "\n",
    "Para saber seu IP válido na Internet, que é diferente do seu IP da rede local que é protegido... use o link: https://whatismyipaddress.com/ Isso é útil para realizar testes e configuração de firewall. (CUIDADO - Não compartilhe esta informação)\n"
   ]
  },
  {
   "cell_type": "markdown",
   "id": "03a8784e",
   "metadata": {},
   "source": [
    "### Dicas:\n",
    "\n",
    "Para pegar seu IP local com Python:"
   ]
  },
  {
   "cell_type": "code",
   "execution_count": null,
   "id": "d6c54006",
   "metadata": {
    "scrolled": true
   },
   "outputs": [],
   "source": [
    "import socket\n",
    "\n",
    "def extract_ip():\n",
    "    st = socket.socket(socket.AF_INET, socket.SOCK_DGRAM)\n",
    "    try:       \n",
    "        st.connect(('10.255.255.255', 1))\n",
    "        IP = st.getsockname()[0]\n",
    "    except Exception:\n",
    "        IP = '127.0.0.1'\n",
    "    finally:\n",
    "        st.close()\n",
    "    return IP\n",
    "\n",
    "extract_ip()"
   ]
  },
  {
   "cell_type": "markdown",
   "id": "9471b4f6",
   "metadata": {},
   "source": [
    "A sua rede local, tanto em casa, no trabalho ou na faculdad (Insper), ao conectar seu computador na rede via cabo ou wi-fi, o serviço de DHCP empresa um IP local para você.\n",
    "\n",
    "Para pegar via Python o seu IP público na Interne\n",
    "\n",
    "(CUIDADO! PERIDGO! NÃO DIVULGUE ESTA INFORMAÇÃO)"
   ]
  },
  {
   "cell_type": "code",
   "execution_count": null,
   "id": "516fdf8e",
   "metadata": {
    "scrolled": true
   },
   "outputs": [],
   "source": [
    "from requests import get\n",
    "\n",
    "ip = get('https://api.ipify.org').text\n",
    "\n",
    "ip"
   ]
  },
  {
   "cell_type": "markdown",
   "id": "50e08f2f",
   "metadata": {},
   "source": [
    "Quando tiver problemas de rede para acessar WEB APIs (inbound) ou publicar WEB APIs (outbound) na rede da sua empresa, fale com o pessoal de suporte, eles tem profundo conhecimento sobre redes e podem ajudar a resolver o problema e manter a segurança."
   ]
  },
  {
   "cell_type": "markdown",
   "id": "6166d819",
   "metadata": {},
   "source": [
    "Os desktops Linux, Windows e Mac normalmente são protegidos por firewall local. Se tornar um serviço ativo no seu computador, provavelmente ele não fica acessível pelo seu IP na rede local. Mesmo sendo acessível para você no próprio **localhost*** (127.0.0.1)."
   ]
  },
  {
   "cell_type": "markdown",
   "id": "ac689887",
   "metadata": {},
   "source": [
    "Note que o jupyter notebook também é uma aplicação WEB que roda local no seu computador, ele abre uma janela de console e mostra como acessar a interface WEB, algo do tipo:<br>\n",
    "```bash\n",
    "    To access the notebook, open this file in a browser:\n",
    "        file:///home/dan/.local/share/jupyter/runtime/nbserver-40851-open.html\n",
    "    Or copy and paste one of these URLs:\n",
    "        http://localhost:8888/?token=ddad4c35ad80922dab01e17dc7c7fd1e4a89ec718dbc9b87\n",
    "     or http://127.0.0.1:8888/?token=ddad4c35ad80922dab01e17dc7c7fd1e4a89ec718dbc9b87\n",
    "\n",
    "```"
   ]
  },
  {
   "cell_type": "markdown",
   "id": "8da3864a",
   "metadata": {},
   "source": [
    "### Atividade (LAB):\n",
    "\n",
    "\n",
    "Seguir o tutorial da Microsoft com Flask para colocar um serviço em Python com Flask disponível na Internet:\n",
    "\n",
    "https://docs.microsoft.com/en-us/samples/azure-samples/flask-app-on-azure-functions/azure-functions-python-create-flask-app/\n",
    "\n",
    "Estudar a documentação e tutorial oficial no site do Flask:\n",
    "\n",
    "https://flask.palletsprojects.com/\n",
    "\n",
    "### Para aprender sobre redes:\n",
    "\n",
    "Leia um livro sobre redes de computadores, Internet, TCP/IP, HTTP, etc...\n",
    "\n",
    "- [Computer Networks (5th Edition): Tanenbaum, Andrew](https://www.amazon.com/Computer-Networks-5th-Andrew-Tanenbaum/dp/0132126958)\n",
    "- [15 BEST Computer Networking Books (2022 Update)](https://www.guru99.com/best-computer-networks-books.html)\n",
    "\n",
    "Saber sobre como a Internet, TCP/IP e as redes funcioname é importante para todos os profissionais de TI, inclusive para os cientistas de dados, leia ao menos um livro sobre redes de computadores."
   ]
  }
 ],
 "metadata": {
  "kernelspec": {
   "display_name": "Python 3 (ipykernel)",
   "language": "python",
   "name": "python3"
  },
  "language_info": {
   "codemirror_mode": {
    "name": "ipython",
    "version": 3
   },
   "file_extension": ".py",
   "mimetype": "text/x-python",
   "name": "python",
   "nbconvert_exporter": "python",
   "pygments_lexer": "ipython3",
   "version": "3.9.12"
  }
 },
 "nbformat": 4,
 "nbformat_minor": 5
}
