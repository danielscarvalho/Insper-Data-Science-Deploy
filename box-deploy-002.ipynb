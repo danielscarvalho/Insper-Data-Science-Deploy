{
 "cells": [
  {
   "cell_type": "markdown",
   "id": "eff9bd19",
   "metadata": {},
   "source": [
    "<img style=\"float:right\" src=\"https://github.com/danielscarvalho/Insper-DS-Dicas/blob/master/Insper-Logo.png?raw=true\" alt=\"Insper\">"
   ]
  },
  {
   "cell_type": "markdown",
   "id": "acbf0dab",
   "metadata": {},
   "source": [
    "# Programa Avançado em Data Science e Decisão [»](https://www.insper.edu.br/pos-graduacao/programas-avancados/programa-avancado-em-data-science-e-decisao/)\n",
    "## Data Science Deploy\n",
    "\n",
    "<h3 style=\"color:brown\">VSP Deploy: Local e em nuvem (VMs)</h3>\n",
    "\n",
    "WEB API com Flask: Como publicar seus modelos como serviço WEB\n",
    "\n",
    "Local e em nuvem VPS (Virtual Private Server) Linux\n",
    "\n",
    "A documentação online do Flask e Requests são muito boas!\n",
    "\n",
    "<img src=\"https://flask.palletsprojects.com/en/2.0.x/_images/flask-logo.png\" width=\"300\" style=\"float:left\"> \n",
    "<img src=\"https://requests.readthedocs.io/en/latest/_static/requests-sidebar.png\" width=\"200\" style=\"float:right\">"
   ]
  },
  {
   "cell_type": "markdown",
   "id": "c0d6acee",
   "metadata": {},
   "source": [
    "Vamos publicar WEB Services localmente e<br>\n",
    "Vamos publicar os mesmos WEB Services em nuvem em servidores Linux (VPS - Virtual Private Servers)\n",
    "\n",
    "Um serviço da web (WEB Service) é: um serviço oferecido por um dispositivo eletrônico a outro dispositivo eletrônico, de máquina para máquina, comunicando-se entre si através da Internet usando protocolo TCP/IP e HTTP. Ou fornecido por um servidor, ouvindo solicitações em uma determinada porta em uma rede, servindo como resposta dados em formatos diversos (json, xml, csv, html, txt, xlsx, etc...)\n",
    "\n",
    "Podemos criar nosso WEB Services (WEB API) em Python com o Flask, e este serviço pode ser disponibilizado em uma rede interna ou na Internet. E este recurso torna nosso código e modelos em Python acessíveis por qualquer outra linguagem de programação tal como Java, Go, C#, Ruby, PHP, entre outras. Os web services podem também ser consumidos por aplicativos WEB ou mobile (Android ou iOS).\n",
    "\n",
    "Processo básico:\n",
    "\n",
    "1. Criar seu modelo\n",
    "2. Colocar seu modelo em uma biblioteca (arquivo .py)\n",
    "3. Criar a WEB API com Flask para tornar seu modelo acessível\n",
    "4. Fazer o teste local (locahost)\n",
    "5. Subir o codigo do projeto no GitHub\n",
    "6. Utilizar GitHub Actions para publicar o código em uma VPS em núvem\n",
    "7. Testar o acesso do servico pela Internet\n",
    "\n",
    "Documentação:\n",
    "\n",
    "- Flask: https://flask.palletsprojects.com/en/2.0.x/\n",
    "- Requests: https://docs.python-requests.org/en/latest/\n",
    "\n",
    "Dicas de Linux:\n",
    "\n",
    "https://github.com/danielscarvalho/Insper-DS-Dicas/blob/master/Dica-019.ipynb"
   ]
  },
  {
   "cell_type": "markdown",
   "id": "9a5475f9",
   "metadata": {},
   "source": [
    "Com **!** no início do código em uma célula (magic) podemos executar os comandos do SO (Linux no caso)"
   ]
  },
  {
   "cell_type": "code",
   "execution_count": 11,
   "id": "06cd3ee8",
   "metadata": {},
   "outputs": [
    {
     "name": "stdout",
     "output_type": "stream",
     "text": [
      "sáb 03 set 2022 10:30:51 -03\r\n"
     ]
    }
   ],
   "source": [
    "!date"
   ]
  },
  {
   "cell_type": "markdown",
   "id": "d14e6e5a",
   "metadata": {},
   "source": [
    "Podemos consumir com **curl** ou requests uma WEB API (WEB Service) que fornece dados GEO informado o nome do Insper apenas..."
   ]
  },
  {
   "cell_type": "code",
   "execution_count": 13,
   "id": "ebd7c301",
   "metadata": {
    "scrolled": true
   },
   "outputs": [
    {
     "name": "stdout",
     "output_type": "stream",
     "text": [
      "[{\"place_id\":111862735,\"licence\":\"Data © OpenStreetMap contributors, ODbL 1.0. https://osm.org/copyright\",\"osm_type\":\"way\",\"osm_id\":27030323,\"boundingbox\":[\"-23.5802994\",\"-23.5796875\",\"-46.6495605\",\"-46.6489428\"],\"lat\":\"-23.5799788\",\"lon\":\"-46.64926899968789\",\"display_name\":\"IBM, 1157, Rua Tutóia, Moema, São Paulo, Região Imediata de São Paulo, Região Metropolitana de São Paulo, Região Geográfica Intermediária de São Paulo, São Paulo, Região Sudeste, 04007-900, Brasil\",\"place_rank\":30,\"category\":\"building\",\"type\":\"yes\",\"importance\":0.11010000000000002},{\"place_id\":63099672,\"licence\":\"Data © OpenStreetMap contributors, ODbL 1.0. https://osm.org/copyright\",\"osm_type\":\"node\",\"osm_id\":5780143853,\"boundingbox\":[\"-30.0462046\",\"-30.0461046\",\"-51.2306662\",\"-51.2305662\"],\"lat\":\"-30.0461546\",\"lon\":\"-51.2306162\",\"display_name\":\"IBM, Rua Manoelito de Ornellas, Praia de Belas, Porto Alegre, Região Geográfica Imediata de Porto Alegre, Região Metropolitana de Porto Alegre, Região Geográfica Intermediária de Porto Alegre, Rio Grande do Sul, Região Sul, 90110-230, Brasil\",\"place_rank\":30,\"category\":\"office\",\"type\":\"company\",\"importance\":0.11010000000000002}]"
     ]
    }
   ],
   "source": [
    "!curl \"https://nominatim.openstreetmap.org/search.php?q=IBM+Brazil&format=jsonv2\""
   ]
  },
  {
   "cell_type": "code",
   "execution_count": 14,
   "id": "63830d81",
   "metadata": {},
   "outputs": [
    {
     "data": {
      "text/plain": [
       "[{'place_id': 80793077,\n",
       "  'licence': 'Data © OpenStreetMap contributors, ODbL 1.0. https://osm.org/copyright',\n",
       "  'osm_type': 'node',\n",
       "  'osm_id': 7973675689,\n",
       "  'boundingbox': ['-21.2266416', '-21.2265416', '-47.8345557', '-47.8344557'],\n",
       "  'lat': '-21.2265916',\n",
       "  'lon': '-47.8345057',\n",
       "  'display_name': 'Livraria Cultura, Avenida Doutor Albert Sabin, Vila do Golf, Bonfim Paulista, Ribeirão Preto, Região Imediata de Ribeirão Preto, Região Metropolitana de Ribeirão Preto, Região Geográfica Intermediária de Ribeirão Preto, São Paulo, Região Sudeste, 14027-050, Brasil',\n",
       "  'place_rank': 30,\n",
       "  'category': 'shop',\n",
       "  'type': 'books',\n",
       "  'importance': 0.30010000000000003}]"
      ]
     },
     "execution_count": 14,
     "metadata": {},
     "output_type": "execute_result"
    }
   ],
   "source": [
    "import requests\n",
    "\n",
    "URL=\"https://nominatim.openstreetmap.org/search.php?q=Livraria+Cultura+Sao+Paulo&format=jsonv2\"\n",
    "\n",
    "requests.get(URL).json()\n",
    "\n",
    "#json - dict (Dicionário do Python)"
   ]
  },
  {
   "cell_type": "markdown",
   "id": "34829811",
   "metadata": {},
   "source": [
    "Este exemplo de WEB Service, retorna um JSON (dict) com informações de clima dado a GEO localização, latitude o longitude do Insper:"
   ]
  },
  {
   "cell_type": "code",
   "execution_count": 15,
   "id": "bc6df2e5",
   "metadata": {
    "scrolled": true
   },
   "outputs": [
    {
     "data": {
      "text/plain": [
       "{'coord': {'lon': -46.6764, 'lat': -23.5987},\n",
       " 'weather': [{'id': 803,\n",
       "   'main': 'Clouds',\n",
       "   'description': 'broken clouds',\n",
       "   'icon': '04d'}],\n",
       " 'base': 'stations',\n",
       " 'main': {'temp': 291.27,\n",
       "  'feels_like': 291.04,\n",
       "  'temp_min': 290.46,\n",
       "  'temp_max': 294.28,\n",
       "  'pressure': 1023,\n",
       "  'humidity': 73},\n",
       " 'visibility': 10000,\n",
       " 'wind': {'speed': 4.12, 'deg': 200},\n",
       " 'clouds': {'all': 75},\n",
       " 'dt': 1662212221,\n",
       " 'sys': {'type': 1,\n",
       "  'id': 8446,\n",
       "  'country': 'BR',\n",
       "  'sunrise': 1662196552,\n",
       "  'sunset': 1662238604},\n",
       " 'timezone': -10800,\n",
       " 'id': 3461570,\n",
       " 'name': 'Ibirapuera',\n",
       " 'cod': 200}"
      ]
     },
     "execution_count": 15,
     "metadata": {},
     "output_type": "execute_result"
    }
   ],
   "source": [
    "import requests\n",
    "\n",
    "KEY=\"e5cdb1ac5452815cc556ad568df2c2e8\"\n",
    "LAT=-23.5987249\n",
    "LON=-46.67643049021903\n",
    "\n",
    "URL=f\"https://api.openweathermap.org/data/2.5/weather?lat={LAT}&lon={LON}&appid={KEY}\"\n",
    "\n",
    "requests.get(URL).json()"
   ]
  },
  {
   "cell_type": "markdown",
   "id": "ef56e7b9",
   "metadata": {},
   "source": [
    "WEB API para busca de CEP: https://viacep.com.br/"
   ]
  },
  {
   "cell_type": "code",
   "execution_count": 16,
   "id": "031774c7",
   "metadata": {},
   "outputs": [
    {
     "data": {
      "text/plain": [
       "{'cep': '01001-000',\n",
       " 'logradouro': 'Praça da Sé',\n",
       " 'complemento': 'lado ímpar',\n",
       " 'bairro': 'Sé',\n",
       " 'localidade': 'São Paulo',\n",
       " 'uf': 'SP',\n",
       " 'ibge': '3550308',\n",
       " 'gia': '1004',\n",
       " 'ddd': '11',\n",
       " 'siafi': '7107'}"
      ]
     },
     "execution_count": 16,
     "metadata": {},
     "output_type": "execute_result"
    }
   ],
   "source": [
    "import requests\n",
    "\n",
    "requests.get(\"https://viacep.com.br/ws/01001000/json/\").json()"
   ]
  },
  {
   "cell_type": "code",
   "execution_count": 17,
   "id": "da731267",
   "metadata": {},
   "outputs": [
    {
     "name": "stdout",
     "output_type": "stream",
     "text": [
      "{\r\n",
      "  \"cep\": \"03819-250\",\r\n",
      "  \"logradouro\": \"Rua Água Nova\",\r\n",
      "  \"complemento\": \"\",\r\n",
      "  \"bairro\": \"Parque Císper\",\r\n",
      "  \"localidade\": \"São Paulo\",\r\n",
      "  \"uf\": \"SP\",\r\n",
      "  \"ibge\": \"3550308\",\r\n",
      "  \"gia\": \"1004\",\r\n",
      "  \"ddd\": \"11\",\r\n",
      "  \"siafi\": \"7107\"\r\n",
      "}"
     ]
    }
   ],
   "source": [
    "!curl viacep.com.br/ws/03819250/json/"
   ]
  },
  {
   "cell_type": "code",
   "execution_count": 18,
   "id": "0fba3feb",
   "metadata": {},
   "outputs": [
    {
     "name": "stdout",
     "output_type": "stream",
     "text": [
      "<?xml version=\"1.0\" encoding=\"UTF-8\"?>\r\n",
      "<xmlcep>\r\n",
      "  <cep>03819-250</cep>\r\n",
      "  <logradouro>Rua Água Nova</logradouro>\r\n",
      "  <complemento></complemento>\r\n",
      "  <bairro>Parque Císper</bairro>\r\n",
      "  <localidade>São Paulo</localidade>\r\n",
      "  <uf>SP</uf>\r\n",
      "  <ibge>3550308</ibge>\r\n",
      "  <gia>1004</gia>\r\n",
      "  <ddd>11</ddd>\r\n",
      "  <siafi>7107</siafi>\r\n",
      "</xmlcep>"
     ]
    }
   ],
   "source": [
    "!curl viacep.com.br/ws/03819250/xml/"
   ]
  },
  {
   "cell_type": "markdown",
   "id": "dd371119",
   "metadata": {},
   "source": [
    "Note como fica a URL que faz a chamada da WEB API, isso funciona no browser também... pois estamos usando o protocolo HTTP/S, para criar WEB Services (WEB API) utiliza-se os mesmos recursos da tecnologia WEB... dado sua simplicidade e accessibilidade...\n",
    "\n",
    "- Uma visão geral do HTTP: https://developer.mozilla.org/pt-BR/docs/Web/HTTP/Overview\n",
    "\n",
    "<img src=\"https://igluonline.com/wp-content/uploads/2018/12/como-funciona-http.jpg.jpg\" width=\"600px\">"
   ]
  },
  {
   "cell_type": "code",
   "execution_count": 10,
   "id": "413f2e16",
   "metadata": {
    "scrolled": true
   },
   "outputs": [
    {
     "data": {
      "text/plain": [
       "'https://api.openweathermap.org/data/2.5/weather?lat=-23.5987249&lon=-46.67643049021903&appid=e5cdb1ac5452815cc556ad568df2c2e8'"
      ]
     },
     "execution_count": 10,
     "metadata": {},
     "output_type": "execute_result"
    }
   ],
   "source": [
    "URL"
   ]
  },
  {
   "cell_type": "markdown",
   "id": "9ae458f4",
   "metadata": {},
   "source": [
    "> Agora vamos criar nosso próprios serviços WEB (WEB Servie ou WEB API) com Flask"
   ]
  },
  {
   "cell_type": "code",
   "execution_count": null,
   "id": "7a87e237",
   "metadata": {},
   "outputs": [],
   "source": [
    "!conda install flask"
   ]
  },
  {
   "cell_type": "code",
   "execution_count": 4,
   "id": "2bf4e3b5",
   "metadata": {
    "scrolled": true
   },
   "outputs": [
    {
     "name": "stdout",
     "output_type": "stream",
     "text": [
      "Requirement already satisfied: flask in /opt/anaconda3/lib/python3.6/site-packages (1.1.2)\n",
      "Requirement already satisfied: click>=5.1 in /opt/anaconda3/lib/python3.6/site-packages (from flask) (8.0.1)\n",
      "Requirement already satisfied: Jinja2>=2.10.1 in /opt/anaconda3/lib/python3.6/site-packages (from flask) (3.0.0)\n",
      "Requirement already satisfied: itsdangerous>=0.24 in /opt/anaconda3/lib/python3.6/site-packages (from flask) (2.0.1)\n",
      "Requirement already satisfied: Werkzeug>=0.15 in /opt/anaconda3/lib/python3.6/site-packages (from flask) (1.0.1)\n",
      "Requirement already satisfied: importlib-metadata in /opt/anaconda3/lib/python3.6/site-packages (from click>=5.1->flask) (3.10.0)\n",
      "Requirement already satisfied: MarkupSafe>=2.0.0rc2 in /opt/anaconda3/lib/python3.6/site-packages (from Jinja2>=2.10.1->flask) (2.0.1)\n",
      "Requirement already satisfied: zipp>=0.5 in /opt/anaconda3/lib/python3.6/site-packages (from importlib-metadata->click>=5.1->flask) (3.4.1)\n",
      "Requirement already satisfied: typing-extensions>=3.6.4 in /opt/anaconda3/lib/python3.6/site-packages (from importlib-metadata->click>=5.1->flask) (3.7.4.3)\n"
     ]
    }
   ],
   "source": [
    "!pip install flask"
   ]
  },
  {
   "cell_type": "code",
   "execution_count": null,
   "id": "d1c7c43b",
   "metadata": {},
   "outputs": [],
   "source": [
    "!conda install requests"
   ]
  },
  {
   "cell_type": "code",
   "execution_count": 5,
   "id": "ab6f90e4",
   "metadata": {
    "scrolled": false
   },
   "outputs": [
    {
     "name": "stdout",
     "output_type": "stream",
     "text": [
      "Requirement already satisfied: requests in /opt/anaconda3/lib/python3.6/site-packages (2.25.1)\r\n",
      "Requirement already satisfied: chardet<5,>=3.0.2 in /opt/anaconda3/lib/python3.6/site-packages (from requests) (4.0.0)\r\n",
      "Requirement already satisfied: idna<3,>=2.5 in /opt/anaconda3/lib/python3.6/site-packages (from requests) (2.10)\r\n",
      "Requirement already satisfied: certifi>=2017.4.17 in /opt/anaconda3/lib/python3.6/site-packages (from requests) (2021.5.30)\r\n",
      "Requirement already satisfied: urllib3<1.27,>=1.21.1 in /opt/anaconda3/lib/python3.6/site-packages (from requests) (1.26.4)\r\n"
     ]
    }
   ],
   "source": [
    "!pip install requests"
   ]
  },
  {
   "cell_type": "markdown",
   "id": "2f9cb673",
   "metadata": {},
   "source": [
    "Agora vamos trabalhar fora do ambiente Jupyter, vamos trabalhar com python em arquivos texto .py, ambiente script na linha de comando. Isso funciona no Linux, Mac ou Windows."
   ]
  },
  {
   "cell_type": "markdown",
   "id": "14f93ce7",
   "metadata": {},
   "source": [
    "Criar uma pasta de tralbalho (projeto), e criar o arquivo **insperds.py** que é nossa biblioteca de funções\n",
    "\n",
    "```Python\n",
    "import requests\n",
    "\n",
    "def ddgquery(query):\n",
    "    URL = \"https://api.duckduckgo.com/?format=json&pretty=0&q=\" + query\n",
    "    response = requests.get(URL)\n",
    "    ddg = response.json()\n",
    "    info = ddg[\"Abstract\"]\n",
    "    if len(info) > 1:\n",
    "        return info\n",
    "    else:\n",
    "    \treturn \"Ops! No data found!\" \n",
    "\n",
    "def bitcoins():\n",
    "    URL=\"https://www.mercadobitcoin.net/api/BTC/trades/\"\n",
    "    response = requests.get(URL)\n",
    "    return {\"btc\":response.json()}\n",
    "\n",
    "def ethereum():\n",
    "    URL=\"https://www.mercadobitcoin.net/api/ETH/trades/\"\n",
    "    response = requests.get(URL)\n",
    "    return {\"eth\":response.json()}\n",
    "\n",
    "def weather(latitude, longitude):\n",
    "    KEY = \"ed38d2abac6e6aded3cf1ed68fddb3c6\"\n",
    "    URL = f'https://api.openweathermap.org/data/2.5/weather?lat=' + str(latitude) + '&lon=' + str(longitude) + '&appid='+ KEY\n",
    "    return requests.get(URL).json()\n",
    "```"
   ]
  },
  {
   "cell_type": "markdown",
   "id": "ea4bb6f7",
   "metadata": {},
   "source": [
    "Agora vamos criar o script que executa as WEB APIs em Flask **core.py**\n",
    "\n",
    "```python\n",
    "# A simple Flask Hello World WEB API to get started with...\n",
    "\n",
    "from flask import Flask\n",
    "from flask import request\n",
    "from datetime import datetime\n",
    "import insperds\n",
    "\n",
    "app = Flask(__name__)\n",
    "\n",
    "@app.route('/')\n",
    "def hello_world():\n",
    "    now = datetime.now()\n",
    "    return 'Hello from Flask, by Insper DS! - ' + str(now)\n",
    "\n",
    "@app.route('/core')\n",
    "def core():\n",
    "    now = datetime.now()\n",
    "    return 'Vai Corinthians!! - ' + str(now) \n",
    "\n",
    "@app.route('/add/<a>/<b>')\n",
    "def add(a, b):\n",
    "    return str(float(a) + float(b))\n",
    "\n",
    "@app.route('/area')\n",
    "def myarea():\n",
    "  altura = request.args.get('altura', default = 0, type = float)\n",
    "  largura = request.args.get('largura', default = 0, type = float)\n",
    "  comprimento = request.args.get('comprimento', default = -1, type = float)\n",
    "  \n",
    "  if (comprimento < 0):\n",
    "        return str(altura*largura)\n",
    "  else:\n",
    "        return str(altura*largura*comprimento)\n",
    "\n",
    "@app.route('/query/<text>')\n",
    "def query(text):\n",
    "    return insperds.ddgquery(text)\n",
    "    \n",
    "@app.route('/bitcoins')\n",
    "def btc():\n",
    "    return insperds.bitcoins()\n",
    "    \n",
    "@app.route('/ethereum')\n",
    "def ether():\n",
    "    return insperds.ethereum()\n",
    "    \n",
    "@app.route('/weather/<lat>/<lon>')\n",
    "def weather(lat, lon):\n",
    "    return insperds.weather(lat, lon)\n",
    "            \n",
    "```"
   ]
  },
  {
   "cell_type": "markdown",
   "id": "51f5edda",
   "metadata": {},
   "source": [
    "Precisamos instalar o Flask no sistema operacional (SO - Linux e Mac):\n",
    "    \n",
    "```bash\n",
    "sudo apt install flask\n",
    "```"
   ]
  },
  {
   "cell_type": "markdown",
   "id": "d9ed9d13",
   "metadata": {},
   "source": [
    "Podemos executar os comandos abaixo (Linux e Mac) ou criar um script **run.sh**\n",
    "\n",
    "\n",
    "```bash\n",
    "export FLASK_APP=core\n",
    "flask run --host=0.0.0.0\n",
    "```"
   ]
  },
  {
   "cell_type": "markdown",
   "id": "9d98267b",
   "metadata": {},
   "source": [
    "A porta padrão do Flask é a 5000, lembre-se de liberar esta porta no firewall...<br>\n",
    "O comando host com o IP 0.0.0.0 significa que esta aplicação atende a chamada (inbound) proveniente de qualquer endereço IP<br>\n",
    "O comando export cria uma variável de ambiente no SO (chave valor)\n",
    "\n",
    "> Outra forma de executar um progra Flask na linha de comando, por exemplo, app.py:<br>\n",
    "> flask --host=0.0.0.0 --port=5000 run app"
   ]
  },
  {
   "cell_type": "markdown",
   "id": "6a511efe",
   "metadata": {},
   "source": [
    "A janela do Flask em linha de comando fica aberta e podemos ver as requisições no log.\n",
    "\n",
    "```bash\n",
    "fito@acme-lab:/work/Insper/workshop3/flask-local$ sh run.sh\n",
    " * Serving Flask app \"core\"\n",
    " * Environment: production\n",
    "   WARNING: This is a development server. Do not use it in a production deployment.\n",
    "   Use a production WSGI server instead.\n",
    " * Debug mode: off\n",
    " * Running on http://0.0.0.0:5000/ (Press CTRL+C to quit)\n",
    "127.0.0.1 - - [1/Feb/2022 02:54:12] \"GET /core HTTP/1.1\" 200 -\n",
    "127.0.0.1 - - [1/Feb/2022 02:54:25] \"GET /add/10/333 HTTP/1.1\" 200 -\n",
    "127.0.0.1 - - [1/Feb/2022 02:54:38] \"GET /query/brasil HTTP/1.1\" 200 -\n",
    "\n",
    "\n",
    "```"
   ]
  },
  {
   "cell_type": "markdown",
   "id": "94ea45a5",
   "metadata": {},
   "source": [
    "É possível também no Linux (Bash) deixar o flask rodando em background (segundo plano - serviço)\n",
    "\n",
    "```bash\n",
    "nohup flask --host=0.0.0.0 --port=5000 run app &\n",
    "```\n",
    "\n",
    "Desta forma mesmo fechando a conexão ssh o flask continua em execução, a saída do log é acumulada no arquivo \"nohup.out\". Veja mais em: https://linux.die.net/man/1/nohup"
   ]
  },
  {
   "cell_type": "markdown",
   "id": "8c65ef0d",
   "metadata": {},
   "source": [
    "Podemos testar o serviço com o utilitário CLI **curl** ou no próprio notebook com o **requests**, com o browser é possível para o verbo HTTP GET"
   ]
  },
  {
   "cell_type": "code",
   "execution_count": 1,
   "id": "3a03464f",
   "metadata": {
    "scrolled": true
   },
   "outputs": [
    {
     "name": "stdout",
     "output_type": "stream",
     "text": [
      "Vai Corinthians!! - 2022-02-25 19:53:08.021404"
     ]
    }
   ],
   "source": [
    "!curl http://localhost:5000/core"
   ]
  },
  {
   "cell_type": "code",
   "execution_count": 2,
   "id": "a1c56d6d",
   "metadata": {
    "scrolled": true
   },
   "outputs": [
    {
     "name": "stdout",
     "output_type": "stream",
     "text": [
      "343.0"
     ]
    }
   ],
   "source": [
    "!curl http://localhost:5000/add/10/333"
   ]
  },
  {
   "cell_type": "code",
   "execution_count": 3,
   "id": "73226b4a",
   "metadata": {
    "scrolled": false
   },
   "outputs": [
    {
     "name": "stdout",
     "output_type": "stream",
     "text": [
      "Brazil, officially the Federative Republic of Brazil, is the largest country in both South America and Latin America. At 8.5 million square kilometers and with over 211 million people, Brazil is the world's fifth-largest country by area and the sixth most populous. Its capital is Brasília, and its most populous city is São Paulo. The federation is composed of the union of the 26 states and the Federal District. It is the largest country to have Portuguese as an official language and the only one in the Americas; it is also one of the most multicultural and ethnically diverse nations, due to over a century of mass immigration from around the world; as well as the most populous Roman Catholic-majority country. Bounded by the Atlantic Ocean on the east, Brazil has a coastline of 7,491 kilometers. It borders all other countries in South America except Ecuador and Chile and covers 47.3% of the continent's land area."
     ]
    }
   ],
   "source": [
    "!curl http://localhost:5000/query/brasil"
   ]
  },
  {
   "cell_type": "markdown",
   "id": "65213255",
   "metadata": {},
   "source": [
    "Agora o texto usando o requests no Jupyter notebook:"
   ]
  },
  {
   "cell_type": "code",
   "execution_count": 6,
   "id": "6294e3f3",
   "metadata": {},
   "outputs": [
    {
     "data": {
      "text/plain": [
       "\"Microsoft Corporation is an American multinational technology corporation which produces computer software, consumer electronics, personal computers, and related services. Its best-known software products are the Microsoft Windows line of operating systems, the Microsoft Office suite, and the Internet Explorer and Edge web browsers. Its flagship hardware products are the Xbox video game consoles and the Microsoft Surface lineup of touchscreen personal computers. Microsoft ranked No. 21 in the 2020 Fortune 500 rankings of the largest United States corporations by total revenue; it was the world's largest software maker by revenue as of 2016. It is one of the Big Five American information technology companies, alongside Alphabet, Amazon, Apple, and Meta. Microsoft was founded by Bill Gates and Paul Allen on April 4, 1975, to develop and sell BASIC interpreters for the Altair 8800.\""
      ]
     },
     "execution_count": 6,
     "metadata": {},
     "output_type": "execute_result"
    }
   ],
   "source": [
    "import requests\n",
    "\n",
    "r=requests.get(\"http://localhost:5000/query/Microsoft\")\n",
    "r.text"
   ]
  },
  {
   "cell_type": "markdown",
   "id": "236201db",
   "metadata": {},
   "source": [
    "O processo para colocar o serviço no ar em nosso computador local (Linux ou Mac) é igual para colocar estes serviços em uma máquina virtual Linux (servidor) em nuvem (VPS - Virtual Private Server).\n",
    "\n",
    "O ambiente em nuvem precisamos configurar o domínio (DNS) e a camada de seguranças (Firewalls etc...), conforme cada provedor."
   ]
  },
  {
   "cell_type": "markdown",
   "id": "44784403",
   "metadata": {},
   "source": [
    "### Máquina Virtual (VM) Linux em nuvem\n",
    "\n",
    "Virtual Private Server (VPS)\n",
    "\n",
    "Linux Ubuntu - https://ubuntu.com/\n",
    "\n",
    "Testes no Oracle Cloud:\n",
    "\n",
    "```bash\n",
    "root@web-app-server-01:~# hostname\n",
    "web-app-server-01\n",
    "root@web-app-server-01:~# uptime\n",
    " 01:37:04 up 10 days,  6:37,  1 user,  load average: 0.02, 0.01, 0.00\n",
    "root@web-app-server-01:~# uname -a\n",
    "Linux web-app-server-01 5.11.0-1027-oracle #30~20.04.1-Ubuntu SMP Thu Jan 13 09:43:40 UTC 2022 aarch64 aarch64 aarch64 GNU/Linux\n",
    "root@web-app-server-01:~# python3 --version\n",
    "Python 3.8.10\n",
    "```\n",
    "\n",
    "Testes no Microsoft Azure:\n",
    "\n",
    "```bash\n",
    "fitoplancton@app-07:~$ hostname\n",
    "app-07\n",
    "fitoplancton@app-07:~$ uptime\n",
    " 02:36:50 up 370 days, 20:49,  1 user,  load average: 0.00, 0.03, 0.02\n",
    "fitoplancton@app-07:~$ uname -a\n",
    "Linux app-07 4.18.0-1013-azure #13~18.04.1-Ubuntu SMP Thu Feb 28 23:48:47 UTC 2019 x86_64 x86_64 x86_64 GNU/Linux\n",
    "fitoplancton@app-07:~$ python3 --version\n",
    "Python 3.6.9\n",
    "```\n",
    "\n",
    "Podemos conectar so servidor Linux (VM) em nuvem pela linha de comando usando o **ssh** no Linux e Mac:\n",
    "\n",
    "\n",
    "Oracle...<br>\n",
    "**ssh -i ssh-key-2022-02-13.key ubuntu@w1.code.eng.br**\n",
    "\n",
    "Microsoft...<br>\n",
    "**ssh fitoplancton@lab.code.eng.br**\n",
    "\n",
    "ou<br>\n",
    "**ssh maria@253.34.223.3**\n",
    "\n",
    "Para client Windows utilizamos o PuTTY - https://www.putty.org/"
   ]
  },
  {
   "cell_type": "markdown",
   "id": "dae7980c",
   "metadata": {},
   "source": [
    "Note que as versões do Python disponíveis são diferentes, no seu ambiente local e entre os servidores!!! E não foi instalado com o Anaconda.\n",
    "\n",
    "Vamos ver na máquina local:"
   ]
  },
  {
   "cell_type": "code",
   "execution_count": 16,
   "id": "fb9e51c6",
   "metadata": {
    "scrolled": true
   },
   "outputs": [
    {
     "name": "stdout",
     "output_type": "stream",
     "text": [
      "Python 3.6.13 :: Anaconda, Inc.\r\n"
     ]
    }
   ],
   "source": [
    "!python --version"
   ]
  },
  {
   "cell_type": "code",
   "execution_count": 19,
   "id": "dbbf2ce7",
   "metadata": {},
   "outputs": [
    {
     "name": "stdout",
     "output_type": "stream",
     "text": [
      "Python 3.8.5\r\n"
     ]
    }
   ],
   "source": [
    "!python --version"
   ]
  },
  {
   "cell_type": "code",
   "execution_count": 20,
   "id": "07888b33",
   "metadata": {},
   "outputs": [
    {
     "name": "stdout",
     "output_type": "stream",
     "text": [
      "conda 4.13.0\r\n"
     ]
    }
   ],
   "source": [
    "!conda --version"
   ]
  },
  {
   "cell_type": "markdown",
   "id": "e5e3a40c",
   "metadata": {},
   "source": [
    "**LAB!** Vamos para o ambiente em um servidor Linux em nuvem - VPS!!!"
   ]
  },
  {
   "cell_type": "markdown",
   "id": "35f941e3",
   "metadata": {},
   "source": [
    " > Será realizada demonstração de alguns tópicos do workshop/aula. Os serviços em nuvem requerem registro e cadastro com catão de crédito e em alguns casos CNPJ também. E vamos experimentar serviços de diferentes provedores... há riscos financeiros ao utilizar ambientes de *cloud computing* mesmo que para estudo e testes. Fique atento para não deixar recursos ligados após o uso, pois a cobrança é feita por hora!"
   ]
  },
  {
   "cell_type": "markdown",
   "id": "67a29749",
   "metadata": {},
   "source": [
    "### Microsoft Azure - VM Linux\n",
    "\n",
    "Podemos obter acesso a recursos gratuitos na núvem da Microsoft, usando o e-mail do Insper:\n",
    "\n",
    "https://azure.microsoft.com/pt-br/free/students/\n",
    "\n",
    "Conectando via SSH (Linha de comando)\n",
    "\n",
    "```bash\n",
    "fito@acme-lab:/work/Insper/Insper-Data-Science-Deploy$ ssh fitoplancton@lab.code.eng.br\n",
    "fitoplancton@lab.code.eng.br's password: \n",
    "Welcome to Ubuntu 18.04.2 LTS (GNU/Linux 4.18.0-1013-azure x86_64)\n",
    "\n",
    " * Documentation:  https://help.ubuntu.com\n",
    " * Management:     https://landscape.canonical.com\n",
    " * Support:        https://ubuntu.com/advantage\n",
    "\n",
    "  System information as of Fri Feb 25 12:26:16 UTC 2022\n",
    "\n",
    "  System load:  0.1                Processes:           118\n",
    "  Usage of /:   31.0% of 28.90GB   Users logged in:     0\n",
    "  Memory usage: 37%                IP address for eth0: 10.0.0.4\n",
    "  Swap usage:   5%\n",
    "\n",
    " * Ubuntu's Kubernetes 1.14 distributions can bypass Docker and use containerd\n",
    "   directly, see https://bit.ly/ubuntu-containerd or try it now with\n",
    "\n",
    "     snap install microk8s --channel=1.14/beta --classic\n",
    "\n",
    "  Get cloud support with Ubuntu Advantage Cloud Guest:\n",
    "    http://www.ubuntu.com/business/services/cloud\n",
    "\n",
    " * Canonical Livepatch is available for installation.\n",
    "   - Reduce system reboots and improve kernel security. Activate at:\n",
    "     https://ubuntu.com/livepatch\n",
    "\n",
    "131 packages can be updated.\n",
    "3 updates are security updates.\n",
    "\n",
    "\n",
    "*** System restart required ***\n",
    "Last login: Thu Feb 24 02:21:13 2022 from 201.83.118.214\n",
    "fitoplancton@app-07:~$ \n",
    "\n",
    "```"
   ]
  },
  {
   "cell_type": "markdown",
   "id": "6f6e1de6",
   "metadata": {},
   "source": [
    "Acesso via IP público ou pelo domínio... liberar a porta no Firewall..."
   ]
  },
  {
   "cell_type": "code",
   "execution_count": 7,
   "id": "78b89f5d",
   "metadata": {
    "scrolled": true
   },
   "outputs": [
    {
     "name": "stdout",
     "output_type": "stream",
     "text": [
      "Hello from Flask, by Insper DS! - 2022-02-25 23:10:29.274893"
     ]
    }
   ],
   "source": [
    "!curl http://lab.code.eng.br:5000/"
   ]
  },
  {
   "cell_type": "code",
   "execution_count": 8,
   "id": "ca00b6b5",
   "metadata": {
    "scrolled": true
   },
   "outputs": [
    {
     "name": "stdout",
     "output_type": "stream",
     "text": [
      "The Insper Learning Institution is a private college, that offers Higher Education in fields of Business, Economics, Engineering, Law and Computer Science in Latin America, located in São Paulo, Brazil."
     ]
    }
   ],
   "source": [
    "!curl http://lab.code.eng.br:5000/query/Insper"
   ]
  },
  {
   "cell_type": "markdown",
   "id": "6f8d0285",
   "metadata": {},
   "source": [
    "Console do Flask no servidor Linux na Macrosoft Azure (Note que está sem chave SSL, protocolo HTTPS)\n",
    "\n",
    "<img src=\"img/flask-azure.png\">"
   ]
  },
  {
   "cell_type": "markdown",
   "id": "110c4a9a",
   "metadata": {},
   "source": [
    "Este serviço pode ser acessado de algumas formas diferentes, pelo número IP, pelo domínio (DNS), ou pelo domínio fornecido pelo provedor:"
   ]
  },
  {
   "cell_type": "code",
   "execution_count": 9,
   "id": "21be6e8c",
   "metadata": {
    "scrolled": true
   },
   "outputs": [
    {
     "name": "stdout",
     "output_type": "stream",
     "text": [
      "67.0"
     ]
    }
   ],
   "source": [
    "!curl http://13.77.179.189:5000/add/23/44"
   ]
  },
  {
   "cell_type": "code",
   "execution_count": 10,
   "id": "a7530c58",
   "metadata": {
    "scrolled": false
   },
   "outputs": [
    {
     "name": "stdout",
     "output_type": "stream",
     "text": [
      "190.0"
     ]
    }
   ],
   "source": [
    "!curl http://lab.code.eng.br:5000/add/66/124"
   ]
  },
  {
   "cell_type": "code",
   "execution_count": 11,
   "id": "a242d889",
   "metadata": {},
   "outputs": [
    {
     "name": "stdout",
     "output_type": "stream",
     "text": [
      "-144.01"
     ]
    }
   ],
   "source": [
    "!curl http://eng.westus2.cloudapp.azure.com:5000/add/99.99/-244"
   ]
  },
  {
   "cell_type": "markdown",
   "id": "c3ab83ef",
   "metadata": {},
   "source": [
    "Lembrando que o DNS (Domain Name System), ou domínio, aponta para um endereço IP (Internet Protocol).\n",
    "\n",
    "Um número IP é um endereço exclusivo que identifica um dispositivo ou servidor (físico ou virtual) na Internet ou em uma rede local.\n",
    "\n",
    "- [DNS](https://en.wikipedia.org/wiki/Domain_Name_System)\n",
    "- [IP](https://www.kaspersky.com/resource-center/definitions/what-is-an-ip-address)"
   ]
  },
  {
   "cell_type": "markdown",
   "id": "78ccee74",
   "metadata": {},
   "source": [
    "> Há nos ambientes em nuvem como da Microsoft Azure, máquinas virtuais prontas (templates) para ciências dos dados, um tipo de marketplace, que já vem com o Anaconda, Python, Flask, etc... já pré instalado"
   ]
  },
  {
   "cell_type": "markdown",
   "id": "b9538765",
   "metadata": {},
   "source": [
    "### Rede e Segurança"
   ]
  },
  {
   "cell_type": "markdown",
   "id": "34a63934",
   "metadata": {},
   "source": [
    "Para o domínio de lab (válido na Internet) **code.eng.br**, configuramos os IPs dos serviços em núvem no gerenciador de DNS (Domínios), apontado os IPs para um subdomínio:\n",
    "<img src=\"img/dns-subdominio.png\">\n",
    "Esta configuração é normalmente feita no ambiente WEB do provedor de DNS.\n",
    "\n",
    "Um domínio custa por volta de 30,00 a 40,00 reais ao ano.\n",
    "\n",
    "Verificando no Bash (Linux) para onde o domínio aponta, para qual número IP:\n",
    "\n",
    "```bash\n",
    "root@acme-lab:/work/Insper$ nslookup w1.code.eng.br\n",
    "Server:\t\t127.0.0.53\n",
    "Address:\t127.0.0.53#53\n",
    "\n",
    "Non-authoritative answer:\n",
    "Name:\tw1.code.eng.br\n",
    "Address: 129.153.157.106\n",
    "\n",
    "```\n",
    "\n",
    "Podemos também verificar a propriedade do domínio:\n",
    "\n",
    "```bash\n",
    "root@acme-lab:/work/Insper$ whois w1.code.eng.br\n",
    "\n",
    "% Copyright (c) Nic.br\n",
    "%  The use of the data below is only permitted as described in\n",
    "%  full by the terms of use at https://registro.br/termo/en.html ,\n",
    "%  being prohibited its distribution, commercialization or\n",
    "%  reproduction, in particular, to use it for advertising or\n",
    "%  any similar purpose.\n",
    "%  2022-02-25T02:21:57-03:00 - IP: 2804:14c:c6:878d:a64b:38e2:46b0:15de\n",
    "\n",
    "domain:      code.eng.br\n",
    "owner:       Insper\n",
    "ownerid:     333.777.999-11\n",
    "country:     BR\n",
    "owner-c:     ATLME159\n",
    "tech-c:      ATLME159\n",
    "nserver:     ns1.locaweb.com.br\n",
    "nsstat:      20220222 AA\n",
    "nslastaa:    20220222\n",
    "nserver:     ns2.locaweb.com.br\n",
    "nsstat:      20220222 AA\n",
    "nslastaa:    20220222\n",
    "nserver:     ns3.locaweb.com.br\n",
    "nsstat:      20220222 AA\n",
    "nslastaa:    20220222\n",
    "saci:        yes\n",
    "created:     20200629 #21281503\n",
    "changed:     20210610\n",
    "expires:     20220629\n",
    "status:      published\n",
    "provider:    LOCAWEB (2)\n",
    "\n",
    "nic-hdl-br:  ATLME159\n",
    "person:      Insper\n",
    "e-mail:      danielscarvalho@gmail.com\n",
    "country:     BR\n",
    "created:     20200629\n",
    "changed:     20200629\n",
    "provider:    LOCAWEB (2)\n",
    "\n",
    "% Security and mail abuse issues should also be addressed to\n",
    "% cert.br, http://www.cert.br/ , respectivelly to cert@cert.br\n",
    "% and mail-abuse@cert.br\n",
    "%\n",
    "% whois.registro.br accepts only direct match queries. Types\n",
    "% of queries are: domain (.br), registrant (tax ID), ticket,\n",
    "% provider, CIDR block, IP and ASN.\n",
    "```"
   ]
  },
  {
   "cell_type": "markdown",
   "id": "6eb9f806",
   "metadata": {},
   "source": [
    "O [Firewall](https://pt.wikipedia.org/wiki/Firewall) é um recurso de segurança da informação, que protege uma rede de outra, neste caso protege o servidor virtual no provedor do tráfego de dados que vem da Internet.\n",
    "\n",
    "Um Firewall é um dispositivo de segurança de rede que monitora e filtra o tráfego de rede de entrada e saída com base nas políticas de segurança previamente estabelecidas de uma organização. Em sua forma mais básica, um firewall é essencialmente a barreira que fica entre uma rede interna privada e a Internet pública."
   ]
  },
  {
   "cell_type": "markdown",
   "id": "744b7fc6",
   "metadata": {},
   "source": [
    "Alguns provedores tem um nível de firewall (1) configurado via WEB em sua central de controle.<br>\n",
    "\n",
    "Outros provedores tem dois nívels de seguranças (2) com o software de firewall adicional na máquina virtual (VM) o [iptables](https://www.netfilter.org/), como no Oracle Cloud por exemplo.\n",
    "<img src=\"img/firewall-diagram.png\">\n",
    "É necessário nos serviços em núvem, liberar as portas para acesso aos serviços, note que neste caso as portas 22, 443, 80, 8080 e 5000 estão liberadas para entradas (inbound), mas todas as outras estão bloqueadas por seguranças:\n",
    "<img src=\"img/regras-firewall.png\">"
   ]
  },
  {
   "cell_type": "markdown",
   "id": "ddb00e43",
   "metadata": {},
   "source": [
    "Endereços IP (número IP) são atribuidos ao servidores (físico ou virtual). Os IPs são atribuídos as placas de rede, diversos IPs podem ser atribuídos a mesma placa de rede. E o servidor pode ter diversas placas de rede também.\n",
    "\n",
    "Temos 2 versões de protocolo de rede TCP/IP em uso IPv4 e IPv6.\n",
    "\n",
    "Note que temos IPv4, 4 conjunto de 3 números separador por \".\", exemplo:\n",
    "\n",
    "    Localhost: 127.0.0.1\n",
    "    IP público: 108.139.182.81\n",
    "\n",
    "IPv6: 8 conjuntos de 4 números separados por \":\", exemplo: \n",
    "\n",
    "    Localhost: 0000:0000:0000:0000:0000:0000:0000:0001 ou ::1\n",
    "    IP público: 2600:9000:21ed:bc00:1:5a19:8b40:93a1\n",
    "\n",
    "Além disto temos as portas, cada programa utiliza uma porta para se comunicar (listen), das portas 0 até 1024 são exclusivas do root (super usuário). São atribuídos serviços padronizados para as portas, conforme segue:\n",
    "\n",
    "<img src=\"https://dirwalk.com/images/common_ports_cheatsheet.jpg\" width=\"600px\">\n",
    "\n",
    "O IP é o \"endereço\" do servidor, e a porta seria qual \"apartamento\" deve receber os pacotes! 😜 \n",
    "\n",
    "O DNS é o \"apelido\" do endereço, para não termos que decorar os números. O nome (DNS) aponta para um número IP público válido na Internet."
   ]
  },
  {
   "cell_type": "markdown",
   "id": "0a0cd686",
   "metadata": {},
   "source": [
    "Há outros aspectos de segurança que são importantes como chave de criptografia (SSL, TTL), ACL (Access Control List), etc..."
   ]
  },
  {
   "cell_type": "markdown",
   "id": "38dfe94d",
   "metadata": {},
   "source": [
    "Quando a chamada HTTP é feita para o serviço do Flask que está no servidor, note que o mair tempo se leva na espera do processamento do servidor para realizar computação:\n",
    "\n",
    "<img src=\"img/network-timing.png\">\n",
    "\n",
    "Este nível de detalhe pode ser visto no console do browser, ferramenta utlizada por developers. Techas **Ctrl + Shift + i**, pasta Network."
   ]
  },
  {
   "cell_type": "markdown",
   "id": "9656bc1c",
   "metadata": {},
   "source": [
    "Podemos usar o comando **nohup** do Linux para sair do ambiente e deixar o Flask no are como serviço do Linux.\n",
    "\n",
    "- https://linux.die.net/man/1/nohup\n",
    "\n",
    "E também podemos ter várias instâncias do Flask em execução simultaneamente no mesmo servidor Linux (VM) em segundo plano, em portas diferentes (que devem ser liberadas no Firewall, é claro):\n",
    "\n",
    "```bash\n",
    "nohup flask --host=0.0.0.0 --port=5001 run app1 &\n",
    "nohup flask --host=0.0.0.0 --port=5002 run app2 &\n",
    "nohup flask --host=0.0.0.0 --port=5003 run app3 &\n",
    "```\n",
    "\n",
    "Use o comando **htop** para ver os processo em execução em segundo plano. Ou o comando **ps -ef | grep flask**<br>\n",
    "Para derrubar um processo em segundo plano use o comando **kill -9 zzzz**, sendo zzzz o número do processo."
   ]
  },
  {
   "cell_type": "markdown",
   "id": "d3a13fc8",
   "metadata": {},
   "source": [
    "Todos os ambientes do provedores serviços em nuvem, fornecem máquinas virtuais (VM ou VPS).\n",
    "\n",
    "São serviços mais flexíveis porem você é responsável por instalar, manter, atualizar, configura, etc... é como ter o seu próprio computador exposto na Internet 24x7x365.\n",
    "\n",
    "O preço destes serviço variam conforme a capacidade de processamento das VMs, processador, disco, memória e banda Internet. E se os recursos são compartilhados ou dedicados. \n",
    "\n",
    "O ambiente do Google Cloud para VMs é chamado *Google Compute Engine*:\n",
    "\n",
    "<img src=\"https://cloud.google.com/languages/images/compute-single-instance.svg\">\n",
    "\n",
    "https://cloud.google.com/python/docs/getting-started/getting-started-on-compute-engine\n",
    "\n",
    "### Extra\n",
    "\n",
    "Dica senha segura:\n",
    "\n",
    "Ao usar serviços na Internet, use senhas seguras geradas automaticamente e também use gerenciador de senhas.\n",
    "\n",
    "\n",
    "A sua senha vai ser quebrada!!<br>\n",
    "ACREDITE NISSO!!!\n",
    "\n",
    "- https://password-gen.com/ >> Para não quebrar a sua senha!\n",
    "- https://www.lastpass.com/pt/features/password-generator >> Gerador de senha segura\n",
    "- https://keepass.info/ >> Para você lembrar a senha\n",
    "\n",
    "Exemplos de senha segura:\n",
    "\n",
    "<pre>\n",
    "*dk*7OBx7l3p!z5L\n",
    "^cketGx#NS52^o7^\n",
    "3j#98v75p2HyR!1o\n",
    "</pre>\n",
    "\n",
    "Os computadores pessoais PC Linux, Mac ou Windows tem firewall local, ou seja, se você subir um servoiço com Flask e passar o número IP do seu computador para seus colegas na mesma rede, eles não vão ter acesso. Você vai ter que liberar a porta 5000 (padrão do Flask) no seu firewall local.\n",
    "\n",
    "Para saber seu IP da rede local no Linux use o comando **ifconfig**, no windows **ipconfig**."
   ]
  },
  {
   "cell_type": "code",
   "execution_count": 7,
   "id": "40d364ec",
   "metadata": {
    "scrolled": true
   },
   "outputs": [
    {
     "name": "stdout",
     "output_type": "stream",
     "text": [
      "docker0: flags=4099<UP,BROADCAST,MULTICAST>  mtu 1500\r\n",
      "        inet 172.17.0.1  netmask 255.255.0.0  broadcast 172.17.255.255\r\n",
      "        ether 02:42:b3:73:80:60  txqueuelen 0  (Ethernet)\r\n",
      "        RX packets 0  bytes 0 (0.0 B)\r\n",
      "        RX errors 0  dropped 0  overruns 0  frame 0\r\n",
      "        TX packets 0  bytes 0 (0.0 B)\r\n",
      "        TX errors 0  dropped 0 overruns 0  carrier 0  collisions 0\r\n",
      "\r\n",
      "enp3s0: flags=4099<UP,BROADCAST,MULTICAST>  mtu 1500\r\n",
      "        ether d0:94:66:a1:bd:2a  txqueuelen 1000  (Ethernet)\r\n",
      "        RX packets 0  bytes 0 (0.0 B)\r\n",
      "        RX errors 0  dropped 0  overruns 0  frame 0\r\n",
      "        TX packets 0  bytes 0 (0.0 B)\r\n",
      "        TX errors 0  dropped 0 overruns 0  carrier 0  collisions 0\r\n",
      "\r\n",
      "lo: flags=73<UP,LOOPBACK,RUNNING>  mtu 65536\r\n",
      "        inet 127.0.0.1  netmask 255.0.0.0\r\n",
      "        inet6 ::1  prefixlen 128  scopeid 0x10<host>\r\n",
      "        loop  txqueuelen 1000  (Local Loopback)\r\n",
      "        RX packets 18115  bytes 20664849 (20.6 MB)\r\n",
      "        RX errors 0  dropped 0  overruns 0  frame 0\r\n",
      "        TX packets 18115  bytes 20664849 (20.6 MB)\r\n",
      "        TX errors 0  dropped 0 overruns 0  carrier 0  collisions 0\r\n",
      "\r\n",
      "wlp2s0: flags=4163<UP,BROADCAST,RUNNING,MULTICAST>  mtu 1500\r\n",
      "        inet 192.168.22.44  netmask 255.255.255.0  broadcast 192.168.22.255\r\n",
      "        inet6 2804:38a:a05d:5872:6fd5:82fb:fb2:fc9b  prefixlen 64  scopeid 0x0<global>\r\n",
      "        inet6 fe80::a3c1:2004:86bf:243c  prefixlen 64  scopeid 0x20<link>\r\n",
      "        inet6 2804:38a:a05d:5872:76aa:1bd3:7218:29ad  prefixlen 64  scopeid 0x0<global>\r\n",
      "        ether b0:52:16:ff:d0:45  txqueuelen 1000  (Ethernet)\r\n",
      "        RX packets 130172  bytes 123072636 (123.0 MB)\r\n",
      "        RX errors 0  dropped 0  overruns 0  frame 0\r\n",
      "        TX packets 83527  bytes 20217406 (20.2 MB)\r\n",
      "        TX errors 0  dropped 0 overruns 0  carrier 0  collisions 0\r\n",
      "\r\n"
     ]
    }
   ],
   "source": [
    "!ifconfig"
   ]
  },
  {
   "cell_type": "markdown",
   "id": "bb2288e0",
   "metadata": {},
   "source": [
    "Note que há ranges de IPs reservados para uso em redes locais que não podem ser usados na Internet para domínio e sites públicos:\n",
    "\n",
    "<pre>\n",
    "192.x.x.x\n",
    "10.x.x.x\n",
    "100.x.x.x\n",
    "172.x.x.x\n",
    "</pre>\n",
    "\n",
    "Mais detalhes em: https://en.wikipedia.org/wiki/Reserved_IP_addresses\n",
    "\n",
    "Para saber seu IP válido na Internet, que é diferente do seu IP da rede local que é protegido... use o link: https://whatismyipaddress.com/ Isso é útil para realizar testes e configuração de firewall. (CUIDADO - Não compartilhe esta informação)\n"
   ]
  },
  {
   "cell_type": "markdown",
   "id": "03a8784e",
   "metadata": {},
   "source": [
    "### Dicas:\n",
    "\n",
    "Para pegar seu IP local com Python:"
   ]
  },
  {
   "cell_type": "code",
   "execution_count": 18,
   "id": "d6c54006",
   "metadata": {
    "scrolled": true
   },
   "outputs": [
    {
     "data": {
      "text/plain": [
       "'10.99.90.141'"
      ]
     },
     "execution_count": 18,
     "metadata": {},
     "output_type": "execute_result"
    }
   ],
   "source": [
    "import socket\n",
    "\n",
    "def extract_ip():\n",
    "    st = socket.socket(socket.AF_INET, socket.SOCK_DGRAM)\n",
    "    try:       \n",
    "        st.connect(('10.255.255.255', 1))\n",
    "        IP = st.getsockname()[0]\n",
    "    except Exception:\n",
    "        IP = '127.0.0.1'\n",
    "    finally:\n",
    "        st.close()\n",
    "    return IP\n",
    "\n",
    "extract_ip()"
   ]
  },
  {
   "cell_type": "markdown",
   "id": "9471b4f6",
   "metadata": {},
   "source": [
    "A sua rede local, tanto em casa, no trabalho ou na faculdad (Insper), ao conectar seu computador na rede via cabo ou wi-fi, o serviço de DHCP empresa um IP local para você.\n",
    "\n",
    "Para pegar via Python o seu IP público na Interne\n",
    "\n",
    "(CUIDADO! PERIDGO! NÃO DIVULGUE ESTA INFORMAÇÃO)"
   ]
  },
  {
   "cell_type": "code",
   "execution_count": 21,
   "id": "516fdf8e",
   "metadata": {
    "scrolled": true
   },
   "outputs": [
    {
     "data": {
      "text/plain": [
       "'200.173.171.24'"
      ]
     },
     "execution_count": 21,
     "metadata": {},
     "output_type": "execute_result"
    }
   ],
   "source": [
    "from requests import get\n",
    "\n",
    "ip = get('https://api.ipify.org').text\n",
    "\n",
    "ip"
   ]
  },
  {
   "cell_type": "markdown",
   "id": "50e08f2f",
   "metadata": {},
   "source": [
    "Quando tiver problemas de rede para acessar WEB APIs (inbound) ou publicar WEB APIs (outbound) na rede da sua empresa, fale com o pessoal de suporte, eles tem profundo conhecimento sobre redes e podem ajudar a resolver o problema e manter a segurança."
   ]
  },
  {
   "cell_type": "markdown",
   "id": "6166d819",
   "metadata": {},
   "source": [
    "Os desktops Linux, Windows e Mac normalmente são protegidos por firewall local. Se tornar um serviço ativo no seu computador, provavelmente ele não fica acessível pelo seu IP na rede local. Mesmo sendo acessível para você no próprio **localhost*** (127.0.0.1)."
   ]
  },
  {
   "cell_type": "markdown",
   "id": "ac689887",
   "metadata": {},
   "source": [
    "Note que o jupyter notebook também é uma aplicação WEB que roda local no seu computador, ele abre uma janela de console e mostra como acessar a interface WEB, algo do tipo:<br>\n",
    "```bash\n",
    "    To access the notebook, open this file in a browser:\n",
    "        file:///home/dan/.local/share/jupyter/runtime/nbserver-40851-open.html\n",
    "    Or copy and paste one of these URLs:\n",
    "        http://localhost:8888/?token=ddad4c35ad80922dab01e17dc7c7fd1e4a89ec718dbc9b87\n",
    "     or http://127.0.0.1:8888/?token=ddad4c35ad80922dab01e17dc7c7fd1e4a89ec718dbc9b87\n",
    "\n",
    "```"
   ]
  },
  {
   "cell_type": "markdown",
   "id": "8da3864a",
   "metadata": {},
   "source": [
    "### Atividade (LAB):\n",
    "\n",
    "\n",
    "Seguir o tutorial da Microsoft com Flask para colocar um serviço em Python com Flask disponível na Internet:\n",
    "\n",
    "https://docs.microsoft.com/en-us/samples/azure-samples/flask-app-on-azure-functions/azure-functions-python-create-flask-app/\n",
    "\n",
    "Estudar a documentação e tutorial oficial no site do Flask:\n",
    "\n",
    "https://flask.palletsprojects.com/\n",
    "\n",
    "### Para aprender sobre redes:\n",
    "\n",
    "Leia um livro sobre redes de computadores, Internet, TCP/IP, HTTP, etc...\n",
    "\n",
    "- [Computer Networks (5th Edition): Tanenbaum, Andrew](https://www.amazon.com/Computer-Networks-5th-Andrew-Tanenbaum/dp/0132126958)\n",
    "- [15 BEST Computer Networking Books (2022 Update)](https://www.guru99.com/best-computer-networks-books.html)"
   ]
  }
 ],
 "metadata": {
  "kernelspec": {
   "display_name": "Python 3 (ipykernel)",
   "language": "python",
   "name": "python3"
  },
  "language_info": {
   "codemirror_mode": {
    "name": "ipython",
    "version": 3
   },
   "file_extension": ".py",
   "mimetype": "text/x-python",
   "name": "python",
   "nbconvert_exporter": "python",
   "pygments_lexer": "ipython3",
   "version": "3.9.12"
  }
 },
 "nbformat": 4,
 "nbformat_minor": 5
}
