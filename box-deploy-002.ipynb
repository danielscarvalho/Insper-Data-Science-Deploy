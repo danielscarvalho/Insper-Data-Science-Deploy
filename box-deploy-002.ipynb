{
 "cells": [
  {
   "cell_type": "markdown",
   "id": "eff9bd19",
   "metadata": {},
   "source": [
    "<img style=\"float:right\" src=\"https://github.com/danielscarvalho/Insper-DS-Dicas/blob/master/Insper-Logo.png?raw=true\" alt=\"Insper\">"
   ]
  },
  {
   "cell_type": "markdown",
   "id": "acbf0dab",
   "metadata": {},
   "source": [
    "# Programa Avançado em Data Science e Decisão [»](https://www.insper.edu.br/pos-graduacao/programas-avancados/programa-avancado-em-data-science-e-decisao/)\n",
    "## Workshop III - Data Science Deploy\n",
    "\n",
    "<h3 style=\"color:brown\">Deploy: Local e em nuvem (VMs)</h3>\n",
    "\n",
    "WEB API com Flask: Como publicar seus modelos como serviço\n",
    "\n",
    "A documentação online do Flask e Requests são muito boas!\n",
    "\n",
    "<img src=\"https://flask.palletsprojects.com/en/2.0.x/_images/flask-logo.png\" width=\"300\" style=\"float:left\"> \n",
    "<img src=\"https://docs.python-requests.org/en/latest/_static/requests-sidebar.png\" width=\"200\" style=\"float:right\">"
   ]
  },
  {
   "cell_type": "markdown",
   "id": "c0d6acee",
   "metadata": {},
   "source": [
    "Documentação:\n",
    "\n",
    "- https://flask.palletsprojects.com/en/2.0.x/\n",
    "- https://docs.python-requests.org/en/latest/"
   ]
  },
  {
   "cell_type": "code",
   "execution_count": 4,
   "id": "2bf4e3b5",
   "metadata": {
    "scrolled": true
   },
   "outputs": [
    {
     "name": "stdout",
     "output_type": "stream",
     "text": [
      "Requirement already satisfied: flask in /opt/anaconda3/lib/python3.6/site-packages (1.1.2)\n",
      "Requirement already satisfied: click>=5.1 in /opt/anaconda3/lib/python3.6/site-packages (from flask) (8.0.1)\n",
      "Requirement already satisfied: Jinja2>=2.10.1 in /opt/anaconda3/lib/python3.6/site-packages (from flask) (3.0.0)\n",
      "Requirement already satisfied: itsdangerous>=0.24 in /opt/anaconda3/lib/python3.6/site-packages (from flask) (2.0.1)\n",
      "Requirement already satisfied: Werkzeug>=0.15 in /opt/anaconda3/lib/python3.6/site-packages (from flask) (1.0.1)\n",
      "Requirement already satisfied: importlib-metadata in /opt/anaconda3/lib/python3.6/site-packages (from click>=5.1->flask) (3.10.0)\n",
      "Requirement already satisfied: MarkupSafe>=2.0.0rc2 in /opt/anaconda3/lib/python3.6/site-packages (from Jinja2>=2.10.1->flask) (2.0.1)\n",
      "Requirement already satisfied: zipp>=0.5 in /opt/anaconda3/lib/python3.6/site-packages (from importlib-metadata->click>=5.1->flask) (3.4.1)\n",
      "Requirement already satisfied: typing-extensions>=3.6.4 in /opt/anaconda3/lib/python3.6/site-packages (from importlib-metadata->click>=5.1->flask) (3.7.4.3)\n"
     ]
    }
   ],
   "source": [
    "!pip install flask"
   ]
  },
  {
   "cell_type": "code",
   "execution_count": 5,
   "id": "ab6f90e4",
   "metadata": {
    "scrolled": false
   },
   "outputs": [
    {
     "name": "stdout",
     "output_type": "stream",
     "text": [
      "Requirement already satisfied: requests in /opt/anaconda3/lib/python3.6/site-packages (2.25.1)\r\n",
      "Requirement already satisfied: chardet<5,>=3.0.2 in /opt/anaconda3/lib/python3.6/site-packages (from requests) (4.0.0)\r\n",
      "Requirement already satisfied: idna<3,>=2.5 in /opt/anaconda3/lib/python3.6/site-packages (from requests) (2.10)\r\n",
      "Requirement already satisfied: certifi>=2017.4.17 in /opt/anaconda3/lib/python3.6/site-packages (from requests) (2021.5.30)\r\n",
      "Requirement already satisfied: urllib3<1.27,>=1.21.1 in /opt/anaconda3/lib/python3.6/site-packages (from requests) (1.26.4)\r\n"
     ]
    }
   ],
   "source": [
    "!pip install requests"
   ]
  },
  {
   "cell_type": "markdown",
   "id": "2f9cb673",
   "metadata": {},
   "source": [
    "Agora vamos trabalhar fora do ambiente Jupyter, vamos trabalhar com python em arquivos texto .py, ambiente script na linha de comando. Isso funciona no Linux, Mac ou Windows."
   ]
  },
  {
   "cell_type": "markdown",
   "id": "14f93ce7",
   "metadata": {},
   "source": [
    "Criar uma pasta de tralbalho (projeto), e criar o arquivo **insperds.py** que é nossa biblioteca de funções\n",
    "\n",
    "```Python\n",
    "import requests\n",
    "\n",
    "def ddgquery(query):\n",
    "    URL = \"https://api.duckduckgo.com/?format=json&pretty=0&q=\" + query\n",
    "    response = requests.get(URL)\n",
    "    ddg = response.json()\n",
    "    info = ddg[\"Abstract\"]\n",
    "    if len(info) > 1:\n",
    "        return info\n",
    "    else:\n",
    "    \treturn \"Ops! No data found!\" \n",
    "\n",
    "def bitcoins():\n",
    "    URL=\"https://www.mercadobitcoin.net/api/BTC/trades/\"\n",
    "    response = requests.get(URL)\n",
    "    return {\"btc\":response.json()}\n",
    "\n",
    "def ethereum():\n",
    "    URL=\"https://www.mercadobitcoin.net/api/ETH/trades/\"\n",
    "    response = requests.get(URL)\n",
    "    return {\"eth\":response.json()}\n",
    "\n",
    "def weather(latitude, longitude):\n",
    "    KEY = \"ed38d2abac6e6aded3cf1ed68fddb3c6\"\n",
    "    URL = f'https://api.openweathermap.org/data/2.5/weather?lat=' + str(latitude) + '&lon=' + str(longitude) + '&appid='+ KEY\n",
    "    return requests.get(URL).json()\n",
    "```"
   ]
  },
  {
   "cell_type": "markdown",
   "id": "ea4bb6f7",
   "metadata": {},
   "source": [
    "Agora vamos criar o script que executa as WEB APIs em Flask **core.py**\n",
    "\n",
    "```python\n",
    "# A simple Flask Hello World WEB API to get started with...\n",
    "\n",
    "from flask import Flask\n",
    "from flask import request\n",
    "from datetime import datetime\n",
    "import insperds\n",
    "\n",
    "app = Flask(__name__)\n",
    "\n",
    "@app.route('/')\n",
    "def hello_world():\n",
    "    now = datetime.now()\n",
    "    return 'Hello from Flask, by Insper DS! - ' + str(now)\n",
    "\n",
    "@app.route('/core')\n",
    "def core():\n",
    "    now = datetime.now()\n",
    "    return 'Vai Corinthians!! - ' + str(now) \n",
    "\n",
    "@app.route('/add/<a>/<b>')\n",
    "def add(a, b):\n",
    "    return str(float(a) + float(b))\n",
    "\n",
    "@app.route('/area')\n",
    "def myarea():\n",
    "  altura = request.args.get('altura', default = 0, type = float)\n",
    "  largura = request.args.get('largura', default = 0, type = float)\n",
    "  comprimento = request.args.get('comprimento', default = -1, type = float)\n",
    "  \n",
    "  if (comprimento < 0):\n",
    "        return str(altura*largura)\n",
    "  else:\n",
    "        return str(altura*largura*comprimento)\n",
    "\n",
    "@app.route('/query/<text>')\n",
    "def query(text):\n",
    "    return insperds.ddgquery(text)\n",
    "    \n",
    "@app.route('/bitcoins')\n",
    "def btc():\n",
    "    return insperds.bitcoins()\n",
    "    \n",
    "@app.route('/ethereum')\n",
    "def ether():\n",
    "    return insperds.ethereum()\n",
    "    \n",
    "@app.route('/weather/<lat>/<lon>')\n",
    "def weather(lat, lon):\n",
    "    return insperds.weather(lat, lon)\n",
    "            \n",
    "```"
   ]
  },
  {
   "cell_type": "markdown",
   "id": "51f5edda",
   "metadata": {},
   "source": [
    "Precisamos instalar o Flask no sistema operacional (SO - Linux e Mac):\n",
    "    \n",
    "```bash\n",
    "sudo apt install flask\n",
    "```"
   ]
  },
  {
   "cell_type": "markdown",
   "id": "d9ed9d13",
   "metadata": {},
   "source": [
    "Podemos executar os comandos abaixo (Linux e Mac) ou criar um script **run.sh**\n",
    "\n",
    "\n",
    "```bash\n",
    "export FLASK_APP=core\n",
    "flask run --host=0.0.0.0\n",
    "```"
   ]
  },
  {
   "cell_type": "markdown",
   "id": "6a511efe",
   "metadata": {},
   "source": [
    "A janela do Flask em linha de comando fica aberta e podemos ver as requisições no log.\n",
    "\n",
    "```bash\n",
    "fito@acme-lab:/work/Insper/workshop3/flask-local$ sh run.sh\n",
    " * Serving Flask app \"core\"\n",
    " * Environment: production\n",
    "   WARNING: This is a development server. Do not use it in a production deployment.\n",
    "   Use a production WSGI server instead.\n",
    " * Debug mode: off\n",
    " * Running on http://0.0.0.0:5000/ (Press CTRL+C to quit)\n",
    "127.0.0.1 - - [1/Feb/2022 02:54:12] \"GET /core HTTP/1.1\" 200 -\n",
    "127.0.0.1 - - [1/Feb/2022 02:54:25] \"GET /add/10/333 HTTP/1.1\" 200 -\n",
    "127.0.0.1 - - [1/Feb/2022 02:54:38] \"GET /query/brasil HTTP/1.1\" 200 -\n",
    "\n",
    "\n",
    "```"
   ]
  },
  {
   "cell_type": "markdown",
   "id": "8c65ef0d",
   "metadata": {},
   "source": [
    "Podemos testar o serviço com o utilitário **curl** ou no próprio notebook com o **requests**, com o browser é possível para o verbo HTTP GET"
   ]
  },
  {
   "cell_type": "code",
   "execution_count": 8,
   "id": "3a03464f",
   "metadata": {
    "scrolled": true
   },
   "outputs": [
    {
     "name": "stdout",
     "output_type": "stream",
     "text": [
      "Vai Corinthians!! - 2022-02-25 02:54:12.835312"
     ]
    }
   ],
   "source": [
    "!curl http://localhost:5000/core"
   ]
  },
  {
   "cell_type": "code",
   "execution_count": 9,
   "id": "a1c56d6d",
   "metadata": {
    "scrolled": true
   },
   "outputs": [
    {
     "name": "stdout",
     "output_type": "stream",
     "text": [
      "343.0"
     ]
    }
   ],
   "source": [
    "!curl http://localhost:5000/add/10/333"
   ]
  },
  {
   "cell_type": "code",
   "execution_count": 10,
   "id": "73226b4a",
   "metadata": {
    "scrolled": true
   },
   "outputs": [
    {
     "name": "stdout",
     "output_type": "stream",
     "text": [
      "Brazil, officially the Federative Republic of Brazil, is the largest country in both South America and Latin America. At 8.5 million square kilometers and with over 211 million people, Brazil is the world's fifth-largest country by area and the sixth most populous. Its capital is Brasília, and its most populous city is São Paulo. The federation is composed of the union of the 26 states and the Federal District. It is the largest country to have Portuguese as an official language and the only one in the Americas; it is also one of the most multicultural and ethnically diverse nations, due to over a century of mass immigration from around the world; as well as the most populous Roman Catholic-majority country. Bounded by the Atlantic Ocean on the east, Brazil has a coastline of 7,491 kilometers. It borders all other countries in South America except Ecuador and Chile and covers 47.3% of the continent's land area."
     ]
    }
   ],
   "source": [
    "!curl http://localhost:5000/query/brasil"
   ]
  },
  {
   "cell_type": "markdown",
   "id": "65213255",
   "metadata": {},
   "source": [
    "Agora o texto usando o requests no Jupyter notebook:"
   ]
  },
  {
   "cell_type": "code",
   "execution_count": 15,
   "id": "6294e3f3",
   "metadata": {},
   "outputs": [
    {
     "data": {
      "text/plain": [
       "'Hello from Flask, by Insper DS! - 2022-02-25 02:57:58.574631'"
      ]
     },
     "execution_count": 15,
     "metadata": {},
     "output_type": "execute_result"
    }
   ],
   "source": [
    "import requests\n",
    "\n",
    "r=requests.get(\"http://localhost:5000/\")\n",
    "r.text"
   ]
  },
  {
   "cell_type": "markdown",
   "id": "236201db",
   "metadata": {},
   "source": [
    "O processo para colocar o serviço no ar em nosso computador local (Linux ou Mec) é igual para colocar estes serviços em uma máquina virtual (servidor) em nuvem.\n",
    "\n",
    "O ambiente em nuvem precisamos configurar o domínio (DNS) e a camada de seguranças (Firewalls etc...), conforme cada provedor."
   ]
  },
  {
   "cell_type": "markdown",
   "id": "44784403",
   "metadata": {},
   "source": [
    "### Máquina Virtual (VM) em nuvem\n",
    "\n",
    "Linux Ubuntu - https://ubuntu.com/\n",
    "\n",
    "Testes no Oracle Cloud:\n",
    "\n",
    "```bash\n",
    "root@web-app-server-01:~# hostname\n",
    "web-app-server-01\n",
    "root@web-app-server-01:~# uptime\n",
    " 01:37:04 up 10 days,  6:37,  1 user,  load average: 0.02, 0.01, 0.00\n",
    "root@web-app-server-01:~# uname -a\n",
    "Linux web-app-server-01 5.11.0-1027-oracle #30~20.04.1-Ubuntu SMP Thu Jan 13 09:43:40 UTC 2022 aarch64 aarch64 aarch64 GNU/Linux\n",
    "root@web-app-server-01:~# python3 --version\n",
    "Python 3.8.10\n",
    "```\n",
    "\n",
    "Testes no Microsoft Azure:\n",
    "\n",
    "```bash\n",
    "fitoplancton@app-07:~$ hostname\n",
    "app-07\n",
    "fitoplancton@app-07:~$ uptime\n",
    " 02:36:50 up 370 days, 20:49,  1 user,  load average: 0.00, 0.03, 0.02\n",
    "fitoplancton@app-07:~$ uname -a\n",
    "Linux app-07 4.18.0-1013-azure #13~18.04.1-Ubuntu SMP Thu Feb 28 23:48:47 UTC 2019 x86_64 x86_64 x86_64 GNU/Linux\n",
    "fitoplancton@app-07:~$ python3 --version\n",
    "Python 3.6.9\n",
    "```\n",
    "\n",
    "Podemos conectar so servidor Linux (VM) em nuvem pela linha de comando usando o **ssh** no Linux e Mac:\n",
    "\n",
    "\n",
    "Oracle...<br>\n",
    "**ssh -i ssh-key-2022-02-13.key ubuntu@w1.code.eng.br**\n",
    "\n",
    "Microsoft...<br>\n",
    "**ssh fitoplancton@lab.code.eng.br**\n",
    "\n",
    "Para client Windows utilizamos o PuTTY - https://www.putty.org/"
   ]
  },
  {
   "cell_type": "markdown",
   "id": "dae7980c",
   "metadata": {},
   "source": [
    "Note que as versões do Python disponíveis são diferentes!!! E não foi instalado com o Anaconda.\n",
    "\n",
    "Vamos ver na máquina local:"
   ]
  },
  {
   "cell_type": "code",
   "execution_count": 16,
   "id": "fb9e51c6",
   "metadata": {},
   "outputs": [
    {
     "name": "stdout",
     "output_type": "stream",
     "text": [
      "Python 3.6.13 :: Anaconda, Inc.\r\n"
     ]
    }
   ],
   "source": [
    "!python --version"
   ]
  },
  {
   "cell_type": "markdown",
   "id": "e5e3a40c",
   "metadata": {},
   "source": [
    "**LAB!** Vamos para o ambiente em núvem!!!"
   ]
  },
  {
   "cell_type": "markdown",
   "id": "35f941e3",
   "metadata": {},
   "source": [
    " > Será realizada demonstração de alguns tópicos do workshop. Os serviços em núvem requerem registro e cadastro com catão de crédito e em alguns casos CNPJ também. E vamos experimentar serviços de diferentes provedores... há riscos financeiros ao utilizar ambientes de *cloud computing* mesmo que para estudo e testes."
   ]
  },
  {
   "cell_type": "markdown",
   "id": "67a29749",
   "metadata": {},
   "source": [
    "### Microsoft Azure - VM Linux\n",
    "\n",
    "Conectando via SSH (Linha de comando)\n",
    "\n",
    "```bash\n",
    "fito@acme-lab:/work/Insper/Insper-Data-Science-Deploy$ ssh fitoplancton@lab.code.eng.br\n",
    "fitoplancton@lab.code.eng.br's password: \n",
    "Welcome to Ubuntu 18.04.2 LTS (GNU/Linux 4.18.0-1013-azure x86_64)\n",
    "\n",
    " * Documentation:  https://help.ubuntu.com\n",
    " * Management:     https://landscape.canonical.com\n",
    " * Support:        https://ubuntu.com/advantage\n",
    "\n",
    "  System information as of Fri Feb 25 12:26:16 UTC 2022\n",
    "\n",
    "  System load:  0.1                Processes:           118\n",
    "  Usage of /:   31.0% of 28.90GB   Users logged in:     0\n",
    "  Memory usage: 37%                IP address for eth0: 10.0.0.4\n",
    "  Swap usage:   5%\n",
    "\n",
    " * Ubuntu's Kubernetes 1.14 distributions can bypass Docker and use containerd\n",
    "   directly, see https://bit.ly/ubuntu-containerd or try it now with\n",
    "\n",
    "     snap install microk8s --channel=1.14/beta --classic\n",
    "\n",
    "  Get cloud support with Ubuntu Advantage Cloud Guest:\n",
    "    http://www.ubuntu.com/business/services/cloud\n",
    "\n",
    " * Canonical Livepatch is available for installation.\n",
    "   - Reduce system reboots and improve kernel security. Activate at:\n",
    "     https://ubuntu.com/livepatch\n",
    "\n",
    "131 packages can be updated.\n",
    "3 updates are security updates.\n",
    "\n",
    "\n",
    "*** System restart required ***\n",
    "Last login: Thu Feb 24 02:21:13 2022 from 201.83.118.214\n",
    "fitoplancton@app-07:~$ \n",
    "\n",
    "```"
   ]
  },
  {
   "cell_type": "code",
   "execution_count": 1,
   "id": "78b89f5d",
   "metadata": {
    "scrolled": true
   },
   "outputs": [
    {
     "name": "stdout",
     "output_type": "stream",
     "text": [
      "Hello from Flask, by Insper DS! - 2022-02-25 12:32:52.003817"
     ]
    }
   ],
   "source": [
    "!curl http://lab.code.eng.br:5000/"
   ]
  },
  {
   "cell_type": "code",
   "execution_count": 2,
   "id": "ca00b6b5",
   "metadata": {
    "scrolled": false
   },
   "outputs": [
    {
     "name": "stdout",
     "output_type": "stream",
     "text": [
      "The Insper Learning Institution is a private college, that offers Higher Education in fields of Business, Economics, Engineering, Law and Computer Science in Latin America, located in São Paulo, Brazil."
     ]
    }
   ],
   "source": [
    "!curl http://lab.code.eng.br:5000/query/Insper"
   ]
  },
  {
   "cell_type": "markdown",
   "id": "6f8d0285",
   "metadata": {},
   "source": [
    "Console do Flask no servidor Linux na Macrosoft Azure (Note que está sem chave SSL, protocolo HTTPS)\n",
    "\n",
    "<img src=\"img/flask-azure.png\">"
   ]
  },
  {
   "cell_type": "markdown",
   "id": "110c4a9a",
   "metadata": {},
   "source": [
    "Este serviço pode ser acessado de algumas formas diferentes, pelo IP, pelo domínio (DNS), ou pelo domínio fornecido pelo provedor:"
   ]
  },
  {
   "cell_type": "code",
   "execution_count": 3,
   "id": "21be6e8c",
   "metadata": {
    "scrolled": false
   },
   "outputs": [
    {
     "name": "stdout",
     "output_type": "stream",
     "text": [
      "67.0"
     ]
    }
   ],
   "source": [
    "!curl http://13.77.179.189:5000/add/23/44"
   ]
  },
  {
   "cell_type": "code",
   "execution_count": 6,
   "id": "a7530c58",
   "metadata": {
    "scrolled": false
   },
   "outputs": [
    {
     "name": "stdout",
     "output_type": "stream",
     "text": [
      "190.0"
     ]
    }
   ],
   "source": [
    "!curl http://lab.code.eng.br:5000/add/66/124"
   ]
  },
  {
   "cell_type": "code",
   "execution_count": 8,
   "id": "a242d889",
   "metadata": {},
   "outputs": [
    {
     "name": "stdout",
     "output_type": "stream",
     "text": [
      "-144.01"
     ]
    }
   ],
   "source": [
    "!curl http://eng.westus2.cloudapp.azure.com:5000/add/99.99/-244"
   ]
  },
  {
   "cell_type": "markdown",
   "id": "b9538765",
   "metadata": {},
   "source": [
    "### Rede e Segurança"
   ]
  },
  {
   "cell_type": "markdown",
   "id": "34a63934",
   "metadata": {},
   "source": [
    "Para o domínio de lab (válido na Internet) **code.eng.br**, configuramos os IPs dos serviços em núvem no gerenciador de DNS (Domínios), apontado os IPs para um subdomínio:\n",
    "<img src=\"img/dns-subdominio.png\">\n",
    "Esta configuração é feita no ambiente WEB do provedor de DNS.\n",
    "\n",
    "Um domínio custa por volta de 30,00 a 40,00 reais ao ano.\n",
    "\n",
    "Verificando no Bash (Linux) para onde o domínio aponta:\n",
    "\n",
    "```bash\n",
    "root@acme-lab:/work/Insper$ nslookup w1.code.eng.br\n",
    "Server:\t\t127.0.0.53\n",
    "Address:\t127.0.0.53#53\n",
    "\n",
    "Non-authoritative answer:\n",
    "Name:\tw1.code.eng.br\n",
    "Address: 129.153.157.106\n",
    "\n",
    "```\n",
    "\n",
    "Podemos também verificar a propriedade do domínio:\n",
    "\n",
    "```bash\n",
    "root@acme-lab:/work/Insper$ whois w1.code.eng.br\n",
    "\n",
    "% Copyright (c) Nic.br\n",
    "%  The use of the data below is only permitted as described in\n",
    "%  full by the terms of use at https://registro.br/termo/en.html ,\n",
    "%  being prohibited its distribution, commercialization or\n",
    "%  reproduction, in particular, to use it for advertising or\n",
    "%  any similar purpose.\n",
    "%  2022-02-25T02:21:57-03:00 - IP: 2804:14c:c6:878d:a64b:38e2:46b0:15de\n",
    "\n",
    "domain:      code.eng.br\n",
    "owner:       Insper\n",
    "ownerid:     333.777.999-11\n",
    "country:     BR\n",
    "owner-c:     ATLME159\n",
    "tech-c:      ATLME159\n",
    "nserver:     ns1.locaweb.com.br\n",
    "nsstat:      20220222 AA\n",
    "nslastaa:    20220222\n",
    "nserver:     ns2.locaweb.com.br\n",
    "nsstat:      20220222 AA\n",
    "nslastaa:    20220222\n",
    "nserver:     ns3.locaweb.com.br\n",
    "nsstat:      20220222 AA\n",
    "nslastaa:    20220222\n",
    "saci:        yes\n",
    "created:     20200629 #21281503\n",
    "changed:     20210610\n",
    "expires:     20220629\n",
    "status:      published\n",
    "provider:    LOCAWEB (2)\n",
    "\n",
    "nic-hdl-br:  ATLME159\n",
    "person:      Insper\n",
    "e-mail:      danielscarvalho@gmail.com\n",
    "country:     BR\n",
    "created:     20200629\n",
    "changed:     20200629\n",
    "provider:    LOCAWEB (2)\n",
    "\n",
    "% Security and mail abuse issues should also be addressed to\n",
    "% cert.br, http://www.cert.br/ , respectivelly to cert@cert.br\n",
    "% and mail-abuse@cert.br\n",
    "%\n",
    "% whois.registro.br accepts only direct match queries. Types\n",
    "% of queries are: domain (.br), registrant (tax ID), ticket,\n",
    "% provider, CIDR block, IP and ASN.\n",
    "```"
   ]
  },
  {
   "cell_type": "markdown",
   "id": "744b7fc6",
   "metadata": {},
   "source": [
    "Alguns provedores tem um nível de firewall (1) configurado via WEB em sua central de controle.<br>\n",
    "Outros provedores tem dois nívels de seguranças (2) com o software de firewall adicional na máquina virtual (VM) o [iptables](https://www.netfilter.org/), como no Oracle Cloud por exemplo.\n",
    "<img src=\"img/firewall-diagram.png\">\n",
    "É necessário nos serviços em núvem, liberar as portas para acesso aos serviços, note que neste caso as portas 80, 8080 e 5000 estão leberadas para entradas, mas todas as outras estão bloqueadas por seguranças:\n",
    "<img src=\"img/regras-firewall.png\">"
   ]
  },
  {
   "cell_type": "markdown",
   "id": "0a0cd686",
   "metadata": {},
   "source": [
    "Há outros aspectos de segurança que são importantes como chave de criptografia (SSL, TTL), ACL (Access Control List), etc..."
   ]
  },
  {
   "cell_type": "markdown",
   "id": "38dfe94d",
   "metadata": {},
   "source": [
    "Quando a chamada HTTP é feita para o serviço do Flask que está no servidor, note que o mair tempo se leva na espera do processamento do servidor para realizar computação:\n",
    "\n",
    "<img src=\"img/network-timing.png\">\n",
    "\n",
    "Este nível de detalhe pode ser visto no console do browser, ferramenta utlizada por developers. Techas **Ctrl + Shift + i**."
   ]
  },
  {
   "cell_type": "markdown",
   "id": "d3a13fc8",
   "metadata": {},
   "source": [
    "Todos os ambientes do provedores serviços em nuvem, fornecem máquinas virtuais (VM).\n",
    "\n",
    "São serviços mais flexíveis porem você é responsável por instalar, manter, atualizar, configura, etc... é como ter o seu próprio computador exposto na Internet 24x7x365.\n",
    "\n",
    "O preço destes serviço variam conforme a capacidade de processamento das VMs, processador, disco, memória e banda Internet. O ambiente do Google Cloud para VMs é chamado *Google Compute Engine*:\n",
    "\n",
    "<img src=\"https://cloud.google.com/languages/images/compute-single-instance.svg\">\n",
    "\n",
    "https://cloud.google.com/python/docs/getting-started/getting-started-on-compute-engine\n",
    "\n",
    "### Extra\n",
    "\n",
    "Dica senha segura:\n",
    "\n",
    "Ao usar serviços na Internet, use senhas seguras geradas automaticamente e também use gerenciador de senhas.\n",
    "\n",
    "\n",
    "A sua senha vai ser quebrada!!<br>\n",
    "ACREDITE NISSO!!!\n",
    "\n",
    "- https://passwordsgenerator.net/ >> Para não quebrar a sua senha!\n",
    "- https://keepass.info/ >> Para você lembrar a senha\n"
   ]
  }
 ],
 "metadata": {
  "kernelspec": {
   "display_name": "Python 3",
   "language": "python",
   "name": "python3"
  },
  "language_info": {
   "codemirror_mode": {
    "name": "ipython",
    "version": 3
   },
   "file_extension": ".py",
   "mimetype": "text/x-python",
   "name": "python",
   "nbconvert_exporter": "python",
   "pygments_lexer": "ipython3",
   "version": "3.6.13"
  }
 },
 "nbformat": 4,
 "nbformat_minor": 5
}
