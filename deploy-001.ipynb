{
 "cells": [
  {
   "cell_type": "markdown",
   "id": "6c315a1a",
   "metadata": {},
   "source": [
    "<img style=\"float:right\" src=\"https://github.com/danielscarvalho/Insper-DS-Dicas/blob/master/Insper-Logo.png?raw=true\" alt=\"Insper\">"
   ]
  },
  {
   "cell_type": "markdown",
   "id": "b0302f03",
   "metadata": {},
   "source": [
    "# Programa Avançado em Data Science e Decisão [»](https://www.insper.edu.br/pos-graduacao/programas-avancados/data-science-e-decisao/)\n",
    "## Insper - Data Science Deploy\n",
    "\n",
    "<h3 style=\"color:brown\">Deploy: Visão Geral</h3>\n",
    "\n",
    "Nesta aula vamos explorar as possibilidades e ferramentas de deploy para ciências dos dados, parte teórica.\n",
    "\n",
    "A implantação de software (deploy) são todas as atividades que tornam um sistema de software disponível para uso. O processo de implantação geral consiste em várias atividades inter-relacionadas com possíveis transições entre elas. Essas atividades podem ocorrer do lado do produtor, do lado do consumidor ou de ambos. - Wikipedia\n",
    "\n",
    "\n",
    "Deploy é a última etapa no processo de ciências dos dados: **comunicação e visualização**"
   ]
  },
  {
   "cell_type": "markdown",
   "id": "416054a6",
   "metadata": {},
   "source": [
    "<img src=\"img/dc-process.png\" width=\"600px\">"
   ]
  },
  {
   "cell_type": "markdown",
   "id": "3941c7cf",
   "metadata": {},
   "source": [
    "Os modelos resultantes do seu projeto de ciências dos dados, podem ser implementados em forma de WEB API em nuvem. E assim os modelos podem ser publicados em nuvem. Desta forma os modelos se tornam disponíveis interna ou externamente a empresa (produtor), e outros departamentos ou clientes externos podem usa-lo como uma \"caixa preta\" (consumidor). \n",
    "\n",
    "Em muitos casos, os modelos são desenvolvidos localmente no seu computador, e depois tornamos os modelos disponíveis em nuvem. Modelos feitos com Big Data, normalmente são desenvolvidos e publicados em nuvem.\n",
    "\n",
    "Neste workshop vamos implentar (deploy) e testar uma WEB API simples em Flask em diversos ambientes, local e em nuvem."
   ]
  },
  {
   "cell_type": "markdown",
   "id": "da5be431",
   "metadata": {},
   "source": [
    "Como colocar em produção (nuvem) os artefatos de ciências dos dados:\n",
    "\n",
    "  - WEB API (Modelos) - https://flask.palletsprojects.com/en/2.0.x/\n",
    "  - Dashboards\n",
    "      - Python Dash: https://dash.plotly.com/\n",
    "      - HoloView: https://holoviews.org/\n",
    "      - Bokeh: https://bokeh.org/\n",
    "  \n",
    "  - Notebooks (Relatórios)\n",
    "\n",
    "☁️ Serviços em nuvem: máquinas viruais, docker e serverless (big data, ML, etc...):\n",
    "\n",
    "- Google Cloud (GCP)\n",
    "- Microsoft Azure\n",
    "- Amazon Web Services (AWS)\n",
    "- Oracle Cloud\n",
    "- IBM Cloud\n",
    "- Digital Ocean\n",
    "- Rackspace\n",
    "- GoDaddy\n",
    "- Locaweb\n",
    "- Linode - VPS (Virtual Private Server) - Linux - Dedicated and Shared\n",
    "- Vultr - VPS - Linux\n",
    "\n",
    "Entre outros...\n",
    "\n",
    "E serviços mais específicos:\n",
    "\n",
    "- Google Colab\n",
    "- PythonAnywhere (Anaconda)\n",
    "- Heroku\n",
    "- Algorithmia\n",
    "- [RapidAPI](https://rapidapi.com/)\n",
    "- GitHub\n",
    "- Wolfram Cloud: Wolfram Language, AI, ML, Dados Acurados, Wolfram|Alpha\n",
    "\n",
    "> 🥪 There ain't no such thing as a free lunch!! \n",
    "\n",
    "<!--\n",
    "Quando falamos em publicar em produção WEB API com o modelo, dashboards e relatório em nuvem, artefatos elaborados em nosso processo de ciências dos dados, estamos tratando da última fase de um processo de data science: **comunicação**:\n",
    "\n",
    "![image](https://user-images.githubusercontent.com/916663/122445548-09a89380-cf78-11eb-9abc-67acb1a0bf0c.png)\n",
    "-->\n",
    "\n",
    "Cloud computing marketshare:<br>\n",
    "<img src=\"https://cdn.statcdn.com/Infographic/images/normal/18819.jpeg\" width=\"600\">\n"
   ]
  },
  {
   "cell_type": "markdown",
   "id": "6cda92ff",
   "metadata": {},
   "source": [
    "#### *Linux & Cloud*\n",
    "\n",
    "Os cientistas de dados podem trabalhar com os SO Windows, Mac ou Linux em seu Desktop, ou em nuvem com Linux ou Windows.\n",
    "\n",
    "Os ambientes em núvem como no MS Azure, Amazon AWS, Google Cloud Platform, entre outros normalmente utilizamos Linux, na linha de comando (Bash), Command Line Interface (CLI). Fazemos deploy (implantação em produção) dos programas no Linux em nuvem: WEB APIs, Dashboards, ETL, robôs (scripts agendados) ou relatórios com o Jupyter Notebook.\n",
    "\n",
    "<img src=\"https://www.edivaldobrito.com.br/wp-content/uploads/2021/03/ubuntu-21-04-entrou-em-freeze-ou-congelamento-de-recursos.jpg.webp\" width=\"600\">\n",
    "\n",
    "Há serviços equivalentes entre os provedores de serviços em nuvens:\n",
    "\n",
    "<img src=\"https://user-images.githubusercontent.com/916663/122321990-1c30b780-cefb-11eb-8e65-59fe88e3e590.png\" width=\"600\">\n",
    "\n",
    "É importante para os cientistas de dados, dominar a linha de comando (Bash - Linux e Mac) para utilizar os recursos disponíveis online:\n",
    "\n",
    "<img src=\"https://ubuntucommunity.s3.dualstack.us-east-2.amazonaws.com/optimized/2X/5/5249bad7f0bb536adceb8a9381c7366054546763_2_690x404.png\" width=\"600\">\n",
    "\n",
    "Um servidor físico (Bare Metal) hospedado em um data center com recursos de alta disponibilidade 24x7 (365) de Internet, energia elétrica, ar condicionado (21°), backup, armazenamento (storage), firewall, support etc... pode hospedar de 300 a 500 servidores virtuais (VPS) lógicos. Os provedores de serviços em núvem usam estes recursos e infraestrutura computacionais compartilhados e fatiados para fornecer serviços avançados por preços competitivos.\n",
    "\n",
    "Podemos acessar os servidores virtuais em núvem (VPS) via conexão segura **ssh** pela Internet, linha de comando. Em desktop Windows, utilizamos o client [PuTTY](https://www.putty.org/) e o [FileZilla](https://filezilla-project.org/)\n",
    "\n",
    "Como a conexão segura **ssh** funciona:\n",
    "\n",
    "No seu ambiente local na linha de comando (prompt), usar o comando **ssh** seguido do nome do usuário e o número IP do servidor (VPS) ou o domínio que aponta para ele:\n",
    "\n",
    "```bash\n",
    "ssh maria@192.168.74.33\n",
    "ssh pedro@server.provider.com.br\n",
    "```\n",
    "\n",
    "<img src=\"https://media.licdn.com/dms/image/D4E22AQG7ck9Mm8aQOw/feedshare-shrink_2048_1536/0/1681400703191?e=1684368000&v=beta&t=SyMVRLJ-wclDJ5FSUrFSwgQ-6mS3-RIzrRclpW0M5YE\" width=\"600px\">\n",
    "\n",
    "\n",
    "Com o comando **htop** do Linux podemos analisar a utlização do servidor virtual e seus recursos.\n",
    "\n",
    "<img src=\"img/htop-desktop.png\" width=\"600px\">\n",
    "\n",
    "Mesmo uma VPS com 2 cores e 4GB de memória pode ser suficiente para fornecer serviços (WEB API), e também como ambiente de teste, homologação e desenvolvimento.\n",
    "\n",
    "<img src=\"img/htop-vps.png\" width=\"600px\">\n",
    "\n",
    "\n",
    "Referências sobre Linux e Bash (linha de comando do Linux)\n",
    "\n",
    "- https://books.goalkicker.com/LinuxBook/\n",
    "- https://books.goalkicker.com/BashBook/"
   ]
  },
  {
   "cell_type": "markdown",
   "id": "7ccd1267",
   "metadata": {},
   "source": [
    "#### *Oracle Virtual Box*\n",
    "\n",
    "Podemos utilizar o Oracle Virtual Box (popular entre os developers e cientistas de dados) para criar máquinas virtuais (VM) em nosso equipamento local.\n",
    "Podemos rodar/instalar no Linux o Anaconda, MS Visual Studio, git, Apache Spark, Hadoop, etc... tanto em nuvem quanto no SO local.\n",
    "\n",
    "<img src=\"https://user-images.githubusercontent.com/916663/122321449-446be680-cefa-11eb-93c9-a496f97fd082.png\" width=\"600\">\n",
    "\n",
    "O Oracle Virutal Box é bastante conveniente para testar ambientes Linux no Windows sem riscos.\n",
    "\n",
    "<img src=\"https://user-images.githubusercontent.com/916663/122321131-c3acea80-cef9-11eb-86b3-0c8723fd88e6.png\" width=\"600\">\n",
    "\n",
    "Referências:\n",
    "\n",
    "- https://www.virtualbox.org/\n",
    "- https://www.virtualbox.org/manual/UserManual.html\n",
    "\n",
    "Além do Oracle Virtual Box, outro sistema de virtualização bastante popular é o [VMWare](https://www.vmware.com/). E também o [Hyper-V](https://docs.microsoft.com/en-us/virtualization/hyper-v-on-windows/quick-start/enable-hyper-v), [XEN](https://xenproject.org/), entre outros.\n",
    "\n",
    "No Windows 10 e 11 temos o WLS (Windows Subsystem for Linux) onde é possível rodar o kernel do Linux e aplicações Linux em paralelo ao sistema Windows: https://docs.microsoft.com/en-us/windows/wsl/"
   ]
  },
  {
   "cell_type": "markdown",
   "id": "362545f8",
   "metadata": {},
   "source": [
    "#### *Docker*\n",
    "\n",
    "O Docker é um conjunto de produtos de plataforma como serviço que usam virtualização no nível do sistema operacional para entregar software em pacotes independentes chamados contêineres. O software que hospeda os contêineres é chamado de **Docker Engine** e é instalado na *host machine* (máquina host). É bem mais leve que uma máquina virtual e mais barato também. Evita problemas de configuração de ambiente e conflitos de packages (bibliotecas).\n",
    "\n",
    "<img src=\"https://www.zdnet.com/a/hub/i/r/2017/05/08/af178c5a-64dd-4900-8447-3abd739757e3/resize/770xauto/78abd09a8d41c182a28118ac0465c914/docker-vm-container.png\"  width=\"600\">\n",
    "\n",
    "Há ferramentas gráficas para gerenciar os contâiners (Docker) no desktop, mas em nuvem e nos servidores (VM) usamos a linha de comando (CLI)\n",
    "\n",
    "<img src=\"https://docs.docker.com/engine/images/architecture.svg\"  width=\"600\">\n",
    "\n",
    "Docker CLI (Command Line Interface)\n",
    "\n",
    "<img src=\"https://pbs.twimg.com/media/FXyDmsgVQAEbk0M?format=jpg&name=large\"  width=\"600\">\n",
    "\n",
    "\n",
    "- Docker Cheat Sheet (PDF) https://www.jrebel.com/system/files/docker-commands-cheat-sheet.pdf\n",
    "- https://www.docker.com/resources/what-container\n",
    "- https://docs.docker.com/\n",
    "- https://www.jrebel.com/blog/docker-commands-cheat-sheet\n",
    "\n",
    "Para aprender mais, a documentação online do Docker é muito boa.\n",
    "\n",
    " 1. Leia a documentação até o fim (scanning)\n",
    " 2. Novamente, agora experimente no seu ambiente (Mac, Windows ou Linux) (skimming)\n",
    " \n",
    " Sugestão:\n",
    " \n",
    " - https://docs.docker.com/get-started/overview/\n",
    " - https://docs.docker.com/get-docker/\n",
    " - https://docs.docker.com/get-started/\n",
    " - https://docs.docker.com/language/python/\n",
    " \n",
    " Dica:\n",
    " \n",
    " \n",
    " - Experimente o Docker Desktop (GUI)\n",
    " - O editor de texto MS Visual Studio Code tem pluging para gerenciar Dockers"
   ]
  },
  {
   "cell_type": "markdown",
   "id": "bae4be17",
   "metadata": {},
   "source": [
    "#### *Git & GitHub*\n",
    "\n",
    "GitHub, Inc. (Microsoft) é um provedor de hospedagem de código fonte na Internet para desenvolvimento de software e controle de versão usando Git. Ele oferece o controle de versão distribuído e a funcionalidade de gerenciamento de código-fonte do Git, além de seus próprios recursos. Facilita trabalho em equipe, revisão, controle de versão e colaboração.\n",
    "\n",
    "![image](https://i.stack.imgur.com/TXvLy.png)\n",
    "\n",
    "A colaboração em projetos de software é simplificada com o GitHub & Git. Podemos abrir novas linhas de desenvolvimento (fork) e combina-las futuramente (pull request).\n",
    "\n",
    "<img src=\"https://user-images.githubusercontent.com/916663/122324791-c8749d00-ceff-11eb-9cb9-7d4f3289600b.png\" width=\"600\">\n",
    "\n",
    "- https://books.goalkicker.com/GitBook/\n",
    "- https://guides.github.com/activities/hello-world/"
   ]
  },
  {
   "cell_type": "markdown",
   "id": "da22bb10",
   "metadata": {},
   "source": [
    "#### *Continuous Delivery (CD) & Continuous Integration (CI)*\n",
    "\n",
    "Podemos automatizar o build das aplicações e sua implantação (deploy) com o GitHub Actions, por exemplo, e implantar novas versões quando o código fonte foi atualizado no repositório online.\n",
    "\n",
    "<img src=\"https://user-images.githubusercontent.com/916663/122320897-6153ea00-cef9-11eb-99e4-c19150800131.png\" width=\"600\">\n",
    "\n",
    "Quando o código fonte do projeto (Script Python) é atuanlizado na branch master (main) do GitHub, o DockerHub pode fazer o build da imagem (docker) do projeto, ou o Google Cloud Play pode fazer o build da imagem e também o deploy em nuvem (produção), tornando a nova versão do código disponível para os usuários em forma de uma WEB API com o Flask.\n",
    "\n",
    "- https://www.redhat.com/pt-br/topics/devops/what-is-ci-cd\n",
    "- https://docs.github.com/pt/actions"
   ]
  },
  {
   "cell_type": "markdown",
   "id": "e5a64267",
   "metadata": {},
   "source": [
    "#### *Python & Jupyter Notebook*\n",
    "\n",
    "Publicar relatórios de ciências dos dados em Jupyter Notebook, com código, dados, gráficos, imagens, etc...\n",
    "\n",
    "\n",
    "No GitHub pages podemos disponibilizar conteúdo estático, páginas HTML, TXT, arquivos de dados (.csv, .json, .xlsx, etc)\n",
    "\n",
    "- https://github.com/jupyter/jupyter/wiki/A-gallery-of-interesting-Jupyter-Notebooks\n",
    "- https://jupyter.org/"
   ]
  },
  {
   "cell_type": "markdown",
   "id": "c1aec0a3",
   "metadata": {},
   "source": [
    "#### *Flask - WEB API*\n",
    "\n",
    "Publicar WEB APIs em nuvem.<br>\n",
    "\n",
    "Os modelos se tornam acessíveis via WEB Services (micro serviços), simples e fácil de ser utilizado e a partir de qualquer linguagem de programação ou plataforma.\n",
    "\n",
    "Os modelos podem ser organizado em bibliotecas, e podem se tornar disponíveis via WEB API, tanto em nuvem quando localmente.\n",
    "\n",
    "- https://flask.palletsprojects.com/en/2.0.x/"
   ]
  },
  {
   "cell_type": "markdown",
   "id": "65beef5c",
   "metadata": {},
   "source": [
    "#### *Software Robots* - Scripts - Schedule\n",
    "\n",
    "Software Robots são scripts Python disparados conforme algum evento ocorre na Internet ou agendados (cron), normalmente não envolve interface com usuários e funcionam de forma independente.\n",
    "\n",
    "Estes **software robots** podem por exemplo enviar e-mails ou SMS de alerta aos usuários.\n",
    "\n",
    "- https://automatetheboringstuff.com/\n",
    "- https://ifttt.com/"
   ]
  },
  {
   "cell_type": "markdown",
   "id": "0051a640",
   "metadata": {},
   "source": [
    "#### *Cloud*\n",
    "\n",
    "Opções em nuvem para publicar aplicações em produção:\n",
    "\n",
    "Mais baixo nível para mais alto nível<br>\n",
    "Mais caro para mais barato<br>\n",
    "Mais gerenciado para mais automatizado<br>\n",
    "\n",
    "1. Máquina Virtua (VM) Linux ou Windows - Servidor Virtual em nuvem - [Virtual Private Server](https://en.wikipedia.org/wiki/Virtual_private_server) (VPS)\n",
    "2. Kubernets - Aplicação Docker Gerenciado\n",
    "3. Containers - Docker\n",
    "4. Serverless (Java, Python, etc...) - Aplicação\n",
    "5. Function\n",
    "\n",
    "Visão geral do Google Cloud Platform, há equivalência no AWS, Azure, entre outros:\n",
    "\n",
    "<img src=\"https://i.pinimg.com/originals/88/0c/61/880c6199ac9b90330137667832746233.jpg\" width=\"600\">\n",
    "\n",
    "Há riscos quando se utiliza (contrata) serviços em nuvem que são únicos de um provedor particular, e não há opção para trocar de provedor (*vendor lock-in* ou *data lock-in*), isso normalmente tem grande impacto financeiro para as organizações. Muitos recursos de Big Data não podem ser realizados fora da nuvem, por sua natureza (volume de dados). Mas diversos serviços podem ser testados executados e mantidos *on premises* (localmente no Data Center interno da empresa)."
   ]
  },
  {
   "cell_type": "markdown",
   "id": "134d9b93",
   "metadata": {},
   "source": [
    "Putting it all together:\n",
    "\n",
    "- Cloud computing\n",
    "- Linux\n",
    "- Git & GitHub - Colaboração e gestão de código fonte (gestão de projetos)\n",
    "- Command Line Internface (CLI)\n",
    "- Bash, CRON\n",
    "- Virtual Private Server (VPS) - Máquina Virtual\n",
    "- Docker\n",
    "- WEB API\n",
    "- HTTP\n",
    "- Deploy"
   ]
  },
  {
   "cell_type": "markdown",
   "id": "3b487965",
   "metadata": {},
   "source": [
    "### Avaliação\n",
    "\n",
    "- Quiz individual (40%) no BlackBoard\n",
    "- LAB colaboração (60%) - Acompanhar e participar das 3 aulas com atividades práticas (hands-on)"
   ]
  },
  {
   "cell_type": "markdown",
   "id": "158c11e3",
   "metadata": {},
   "source": [
    "\n",
    "### Dicas de Ciências dos Dados\n",
    "\n",
    "Temos diversas dicas publicadas a partir de 2020 no GitHub em Jupyter Notebook no GitHub.<br>\n",
    "É um exemplo de publicação estática online de relatórios de ciências dos dados em Jupyter Notebook:\n",
    "\n",
    "https://github.com/danielscarvalho/Insper-DS-Dicas"
   ]
  },
  {
   "cell_type": "markdown",
   "id": "39b0a8b2",
   "metadata": {},
   "source": [
    "### Biblography:\n",
    "\n",
    "Toda a bibliografia está disponível online:\n",
    "\n",
    "- Pro Git, Scott Chacon and Ben Straub, Apress, 2ed, 2014, https://git-scm.com/book/en/v2\n",
    "- Docker in Action, Jeff Nickoloff, Manning, 2ed, 2016, https://livebook.manning.com/book/docker-in-action-second-edition\n",
    "- Google Cloud Platform in Action, JJ Geewax, 2018, https://livebook.manning.com/book/google-cloud-platform-in-action/\n",
    "- Git Notes for Professionals, Stack Overflow, 2019: https://books.goalkicker.com/GitBook/\n",
    "- Bash Notes for Professionals, Stack Overflow, 2019: https://books.goalkicker.com/BashBook/\n",
    "- Linux for Professionals, Stack Overflow, 2019: https://books.goalkicker.com/LinuxBook/\n",
    "\n",
    "Referências Microsoft Azure:\n",
    "\n",
    "- [O guia do desenvolvedor para o Azure](https://azure.microsoft.com/pt-br/resources/whitepapers/developer-guide-to-azure/)\n",
    "- [Fundamentals of Azure, 2ed, Microsoft Azure Essentials](https://www.google.com/url?sa=t&rct=j&q=&esrc=s&source=web&cd=&ved=2ahUKEwiMpdfI9ff5AhUCu5UCHaOSAewQFnoECBwQAQ&url=https%3A%2F%2Fdownload.microsoft.com%2Fdownload%2F6%2F6%2F2%2F662DD05E-BAD7-46EF-9431-135F9BAE6332%2F9781509302963_Microsoft%2520Azure%2520Essentials%2520Fundamentals%2520of%2520Azure%25202nd%2520ed%2520pdf.pdf&usg=AOvVaw0le6qmWrSwlMlsMibhAkAj)\n",
    "- [Learn Azure in a Month of Lunches](https://azure.microsoft.com/pt-br/resources/learn-azure-in-a-month-of-lunches/)\n",
    "\n",
    "> **Dica**: Escola uma nuvem para aprender primeiro (foco). Sendo a utilizada pela sua empresa a mais adequada 😉 Azure, GCP, AWS, Oracle, IBM, etc..."
   ]
  },
  {
   "cell_type": "markdown",
   "id": "8ba66a54",
   "metadata": {},
   "source": [
    "Etc\n",
    "\n",
    "\n",
    "<img src=\"https://pbs.twimg.com/media/FTddomDUsAA92FZ?format=png&name=large\" width=\"600px\">"
   ]
  }
 ],
 "metadata": {
  "kernelspec": {
   "display_name": "Python 3 (ipykernel)",
   "language": "python",
   "name": "python3"
  },
  "language_info": {
   "codemirror_mode": {
    "name": "ipython",
    "version": 3
   },
   "file_extension": ".py",
   "mimetype": "text/x-python",
   "name": "python",
   "nbconvert_exporter": "python",
   "pygments_lexer": "ipython3",
   "version": "3.9.12"
  }
 },
 "nbformat": 4,
 "nbformat_minor": 5
}
