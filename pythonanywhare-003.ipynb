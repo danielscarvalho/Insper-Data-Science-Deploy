{
 "cells": [
  {
   "cell_type": "markdown",
   "id": "fd554e0b",
   "metadata": {},
   "source": [
    "<img style=\"float:right\" src=\"https://github.com/danielscarvalho/Insper-DS-Dicas/blob/master/Insper-Logo.png?raw=true\" alt=\"Insper\">"
   ]
  },
  {
   "cell_type": "markdown",
   "id": "dd2373cf",
   "metadata": {},
   "source": [
    "# Programa Avançado em Data Science e Decisão [»](https://www.insper.edu.br/pos-graduacao/programas-avancados/programa-avancado-em-data-science-e-decisao/)\n",
    "## Workshop III - Data Science Deploy\n",
    "\n",
    "<h3 style=\"color:brown\">Deploy: Serviços online<h3>"
   ]
  },
  {
   "cell_type": "markdown",
   "id": "3c3692fd",
   "metadata": {},
   "source": [
    "Um serviço em núvem de mais alto nível fonecido pelo PythonAnywhere, vamos utlizar o nível gratuito, registrar com seu e-mail, etc...\n",
    "\n",
    "https://www.pythonanywhere.com\n",
    "\n",
    "<img src=\"https://www.pythonanywhere.com/static/anywhere/images/PA-logo.svg\" alt=\"PythonAnywhere\">"
   ]
  },
  {
   "cell_type": "markdown",
   "id": "649573d2",
   "metadata": {},
   "source": [
    "O console do PythonAnywhare é simples e fácil de usar:\n",
    "\n",
    "<img src=\"img/pythonanywhere-dashboard.png\">"
   ]
  },
  {
   "cell_type": "markdown",
   "id": "43c91cfb",
   "metadata": {},
   "source": [
    "O console do Bash (linha de comando Linux) é acessível via browser...\n",
    "\n",
    "<img src=\"img/pythonanywhere-console.png\">"
   ]
  },
  {
   "cell_type": "markdown",
   "id": "8e27afd0",
   "metadata": {},
   "source": [
    "A URL para acesso é fornecida pelo próprio provedor, no nível gratuito somente um serviço pode ser ativado:"
   ]
  },
  {
   "cell_type": "code",
   "execution_count": 4,
   "id": "f3e39c71",
   "metadata": {
    "scrolled": false
   },
   "outputs": [
    {
     "name": "stdout",
     "output_type": "stream",
     "text": [
      "Hello from Flask!"
     ]
    }
   ],
   "source": [
    "!curl https://danielscarvalho.pythonanywhere.com/"
   ]
  },
  {
   "cell_type": "code",
   "execution_count": 5,
   "id": "6971a78e",
   "metadata": {
    "scrolled": false
   },
   "outputs": [
    {
     "name": "stdout",
     "output_type": "stream",
     "text": [
      "313.21999999999997"
     ]
    }
   ],
   "source": [
    "!curl https://danielscarvalho.pythonanywhere.com/add/342.33/-29.11"
   ]
  },
  {
   "cell_type": "markdown",
   "id": "7cfc4f60",
   "metadata": {},
   "source": [
    "Ops! We hav a problem! 😱"
   ]
  },
  {
   "cell_type": "code",
   "execution_count": 6,
   "id": "b306967a",
   "metadata": {},
   "outputs": [],
   "source": [
    "!curl https://danielscarvalho.pythonanywhere.com/area/?largura=102&altura=333"
   ]
  },
  {
   "cell_type": "markdown",
   "id": "32ea0314",
   "metadata": {},
   "source": [
    "### Extra\n",
    "\n",
    "O provedor PythonAnywhere também tem um serviço de execução de script agendado (Task).<br>\n",
    "\n",
    "O que também pode ser feito no Linux, Windows ou Mac usando o CRONTAB (https://opensource.com/article/17/11/how-use-cron-linux) ou similar.<br>\n",
    "\n",
    "No Linux e Mac usamos scripts em formato .py ou .sh (Bash), e no Windows .bat (Arquivos de lote)\n",
    "\n",
    "- Primeiro você elabora seu script\n",
    "- Testa o script\n",
    "- Segundo você configura o agendamento\n",
    "- Testa o agendamento\n",
    "\n",
    "Referência:\n",
    "\n",
    "- [How to Schedule Python Script using Windows Scheduler](https://opensource.com/article/17/11/how-use-cron-linux)\n",
    "- [Python Script Automation Using Task Scheduler (Windows)](https://www.jcchouinard.com/python-automation-using-task-scheduler/)\n",
    "- [Scheduling Python Scripts on Linux](https://www.geeksforgeeks.org/scheduling-python-scripts-on-linux/)"
   ]
  }
 ],
 "metadata": {
  "kernelspec": {
   "display_name": "Python 3",
   "language": "python",
   "name": "python3"
  },
  "language_info": {
   "codemirror_mode": {
    "name": "ipython",
    "version": 3
   },
   "file_extension": ".py",
   "mimetype": "text/x-python",
   "name": "python",
   "nbconvert_exporter": "python",
   "pygments_lexer": "ipython3",
   "version": "3.6.13"
  }
 },
 "nbformat": 4,
 "nbformat_minor": 5
}
