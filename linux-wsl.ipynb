{
 "cells": [
  {
   "cell_type": "markdown",
   "id": "098a4ff1",
   "metadata": {},
   "source": [
    "<img style=\"float:right\" src=\"https://github.com/danielscarvalho/Insper-DS-Dicas/blob/master/Insper-Logo.png?raw=true\" alt=\"Insper\">"
   ]
  },
  {
   "cell_type": "markdown",
   "id": "2bf7c275",
   "metadata": {},
   "source": [
    "# Programa Avançado em Data Science e Decisão [»](https://www.insper.edu.br/pos-graduacao/programas-avancados/data-science-e-decisao/)\n",
    "\n",
    "## Instalação do ambiente WLS, Linux Ubuntu, Anaconda\n",
    "\n"
   ]
  },
  {
   "cell_type": "markdown",
   "id": "92ea950f",
   "metadata": {},
   "source": [
    "Cada vez mais os cientistas de dados e developers (programadores) vem utilizando o sofisticado ambiente Linux para trabalhar. Algumas vezes utilizando o próprio SO Linux, ou usando o Mac (que é baseado no SO Unix BSD) ou até mesmo no Windows com o WSL2 (Windows 10 e 11) onde é possível executar o ambiente Linux em paralelo ao SO Windows.\n",
    "\n",
    "- Para quem utiliza o ambiente Mac, instalar o Anaconda: https://docs.anaconda.com/anaconda/install/mac-os/\n",
    "- Para quem utiliza o ambiente Linux, instalar o Anaconda: https://docs.anaconda.com/anaconda/install/linux/\n",
    "- Para quem utiliza o ambiente Windows, instalar o WSL2, instalar o Linux Ubuntu e instalar o Anaconda: Abaixo"
   ]
  },
  {
   "cell_type": "markdown",
   "id": "1d086d86",
   "metadata": {},
   "source": [
    "O Windows 10 e 11 tem o WSL2 (Windows Subsystem for Linux) que permite o uso do Linux em paralelo ao Windows.\n",
    "\n",
    "> No Linux (e Mac) temos o ambiente em linha de comando (CLI - Command Line Internface) chamado Bash, que é sofisticado e permite controle total da máquina. A interface gráfica da acesso a apenas algumas perspectivas do computador.\n",
    "\n",
    "1. Anaconda (Distribuição Python para cientistas de dados) - https://www.anaconda.com/\n",
    "   - Jupyter Notebook - https://jupyter.org/\n",
    "   \n",
    "2. MS Visual Studio Code - https://code.visualstudio.com/\n",
    "\n",
    "<img src=\"https://www.thomasmaurer.ch/wp-content/uploads/2019/06/WSL-2-Architecture.jpg\" width=\"600px\">\n",
    "\n",
    "Recomendamos utilizar ambiente Linux ou Mac (SO), pois a maioria esmagadora dos ambientes em nuvem rodam em Linux.\n",
    "\n",
    "Instalação do WSL2 no Windows 10 ou 11 (Pode ser demorado):\n",
    "\n",
    "1. Abrir Power Shell (como administrador)\n",
    "2. Executar o comando: wsl --install\n",
    "3. Reiniciar o Windows\n",
    "4. Abrir o Ubuntu (Linux) - Icone do Ubuntu na sua barra de apps...\n",
    "5. Criar usuário (use letras minúsculas, e forneça senha)...\n",
    "\n",
    "<img src=\"img/wsl-install-cli2.png\" width=\"600px\">\n",
    "\n",
    "> Installing, this may take a few minutes...\n",
    "\n",
    "Para instalação de forma gráfica no Windows 10 ou 11:\n",
    "\n",
    "1. Entre no Painel de Controle, Programas, Ativar ou desativar recursos do Windows, e marque a opção \"Subsistema do Windows para Linux\", siga as instruções e reinicialize o sistema.\n",
    "\n",
    "<img src=\"img/wsl-controlpanel.png\" width=\"600px\">\n",
    "\n",
    "2. Instalar pela Microsoft Store o Linux distribuição Ubuntu (boa para developers, cientistas de dados, iniciantes e business people)\n",
    "\n",
    "<img src=\"img/wsl-ubuntu.png\" width=\"600px\">\n",
    "\n",
    "\n",
    "> Em nossa experiência com os alunos, ocorrem problemas diferentes na instalação, ou não, conforme cada equipamento, versão de SO, etc...\n",
    "\n",
    "Vídeo (não editado) da instalação gráfica no Windows 10: https://www.youtube.com/watch?v=wPmmWKfSVYo\n",
    "\n",
    "Para instalar o Anaconda no Linux:\n",
    "\n",
    "<pre>\n",
    "wget https://repo.anaconda.com/archive/Anaconda3-2022.10-Linux-x86_64.sh<br>\n",
    "bash Anaconda3-2022.10-Linux-x86_64.sh\n",
    "</pre>\n",
    "\n",
    "Teste na linha de comando:\n",
    "\n",
    "<pre>\n",
    "python --version\n",
    "conda --version\n",
    "python3 --version\n",
    "</pre>\n",
    "\n",
    "-----\n",
    "\n",
    "<img src=\"https://pbs.twimg.com/media/D4DNyRcX4AAiJBj.jpg\" width=\"500px\">\n",
    "\n",
    "**LAB:**\n",
    "- Comandos básicos do Linux\n",
    "- Bash & CLI\n",
    "\n",
    "\n",
    "\n",
    "## Anaconda\n",
    "\n",
    "Anaconda é uma distribuição das linguagens de programação Python e R para computação científica (ciência de dados, aplicativos de aprendizado de máquina, processamento de dados em larga escala, análise preditiva etc.), que visa simplificar o gerenciamento e a implantação de pacotes. A distribuição inclui pacotes de ciência de dados adequados para Windows, Linux e macOS. É desenvolvido e mantido pela Anaconda, Inc., fundada em 2012. [Wikipedia]\n",
    "\n",
    "<img width=\"600px\" src=\"https://www.computersciencemaster.com.br/wp-content/uploads/2021/03/anaconda-navigator-1024x550.jpg\">\n",
    "\n",
    "Tecnologia de ciência de dados para pesquisa inovadora, vantagem competitiva para um mundo melhor.\n",
    "\n",
    "O Anaconda oferece a maneira mais fácil de realizar ciência de dados Python/R e aprendizado de máquina em uma única máquina de forma integrada. Milhares de pacotes e bibliotecas de código aberto disponíveis.\n",
    "\n",
    "## MS Visual Studio Code\n",
    "\n",
    "Visual Studio Code é um editor de código-fonte desenvolvido pela Microsoft para Windows, Linux e macOS. Ele inclui suporte para depuração, controle de versionamento Git incorporado, realce de sintaxe, complementação inteligente de código, snippets e refatoração de código\n",
    "\n",
    "Há plugins para Git, GitHub, Python, HTML, MD, etc...\n",
    "\n",
    "<!-- ![MS VS Code](https://code.visualstudio.com/assets/home/home-screenshot-linux-lg.png) -->\n",
    "<img width=\"600px\" src=\"https://code.visualstudio.com/assets/home/home-screenshot-linux-lg.png\">\n"
   ]
  },
  {
   "cell_type": "markdown",
   "id": "b24e4be1",
   "metadata": {},
   "source": [
    "### Biblography:\n",
    "\n",
    "- Bash Notes for Professionals, Stack Overflow, 2019: https://books.goalkicker.com/BashBook/\n",
    "- Linux for Professionals, Stack Overflow, 2019: https://books.goalkicker.com/LinuxBook/\n",
    "![](https://en.wikipedia.org/wiki/Usage_share_of_operating_systems#/media/File:Operating_systems_used_on_top_500_supercomputers.svg)"
   ]
  }
 ],
 "metadata": {
  "kernelspec": {
   "display_name": "Python 3 (ipykernel)",
   "language": "python",
   "name": "python3"
  },
  "language_info": {
   "codemirror_mode": {
    "name": "ipython",
    "version": 3
   },
   "file_extension": ".py",
   "mimetype": "text/x-python",
   "name": "python",
   "nbconvert_exporter": "python",
   "pygments_lexer": "ipython3",
   "version": "3.9.12"
  }
 },
 "nbformat": 4,
 "nbformat_minor": 5
}
