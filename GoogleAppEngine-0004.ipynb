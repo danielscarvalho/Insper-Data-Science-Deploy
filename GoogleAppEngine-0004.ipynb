{
 "cells": [
  {
   "cell_type": "markdown",
   "id": "50322a1c",
   "metadata": {},
   "source": [
    "<img style=\"float:right\" src=\"https://github.com/danielscarvalho/Insper-DS-Dicas/blob/master/Insper-Logo.png?raw=true\" alt=\"Insper\">"
   ]
  },
  {
   "cell_type": "markdown",
   "id": "b4d0862a",
   "metadata": {},
   "source": [
    "# Programa Avançado em Data Science e Decisão [»](https://www.insper.edu.br/pos-graduacao/programas-avancados/data-science-e-decisao/)\n",
    "## Insper - Data Science Deploy\n",
    "\n",
    "<h3 style=\"color:brown\">Deploy: Serverless em nuvem<h3>"
   ]
  },
  {
   "cell_type": "markdown",
   "id": "c65add35",
   "metadata": {},
   "source": [
    "Agora vamos subir nosso script WEB API Flask no ambiente em nuvem do Google o Google Cloud Platform (GCP) Serverless - **Google App Engine**\n",
    "\n",
    "Este é um dos mais sofisticados ambientes em nuvem junto com a Amazon AWS e a Microsoft Azure\n",
    "\n",
    "Atenção: Estes ambientes requerem cadsatro com cartão de crédito, cuidado com o mito do recurso gratuito!\n",
    "\n"
   ]
  },
  {
   "cell_type": "markdown",
   "id": "ab95a806",
   "metadata": {},
   "source": [
    "As etapbas básicar a serem realizada na WEB no site do Google Cloud são estas:\n",
    "\n",
    "- Criar uma conta no gmail\n",
    "- Criar uma conta no Google Cloud, informar dados de *billing*\n",
    "- Criar um novo projeto - [Como criar e gerenciar projetos](https://cloud.google.com/resource-manager/docs/creating-managing-projects)\n",
    "- Criar um ambiente no Google App Engine (escolher região, etc)\n",
    "\n",
    "\n",
    "- Instalar o **gcloud** no seu computador, utilitário linha de comando (CLI) - [Como instalar a CLI gcloud](https://cloud.google.com/sdk/docs/install)\n",
    "\n",
    "Processo parecido com os demais provedores AWS, Azure, etc...\n",
    "\n",
    "Os provedores fornecem dois tipos de interface para configurar seus serviços em nuvem: a interface WEB (GUI) a interface linha de comando (CLI). Normalmente todas as operações em nuvem podem ser feitas via Browser ou via linha de comando (Bash)."
   ]
  },
  {
   "cell_type": "markdown",
   "id": "cda41c5f",
   "metadata": {},
   "source": [
    "**LAB!** Demonstração\n",
    "\n",
    "\n",
    "Pasta de scripts python do projeto:\n",
    "\n",
    "```bash\n",
    "fito@acme-lab:/work/Insper/workshop3/flask-google-app-engine$ ls -lR\n",
    ".:\n",
    "total 20\n",
    "-rw-rw-r-- 1 fito fito   19 fev 1 15:40 app.yaml\n",
    "-rw-rw-r-- 1 fito fito   71 fev 1 16:25 deploy.txt\n",
    "-rw-rw-r-- 1 fito fito  970 fev 1 16:51 main.py\n",
    "-rw-rw-r-- 1 fito fito   23 fev 1 19:28 requirements.txt\n",
    "drwxrwxr-x 2 fito fito 4096 fev 1 16:39 static\n",
    "\n",
    "./static:\n",
    "total 1420\n",
    "-rw-rw-r-- 1 fito fito 798774 fev 1 02:49 1342-0.txt\n",
    "-rw-rw-r-- 1 fito fito   4430 fev 1 02:48 book.xml\n",
    "-rw-rw-r-- 1 fito fito    318 fev 1 16:37 favicon.ico\n",
    "-rw-rw-r-- 1 fito fito 633352 fev 1 02:44 hw_25000.csv\n",
    "-rw-rw-r-- 1 fito fito    898 fev 1 02:47 users.json\n",
    "\n",
    "```\n",
    "\n",
    "Na pasta onde estão os scripts do seu projeto, executar...\n",
    "\n",
    "```bash\n",
    "gcloud init\n",
    "gcloud config set project insper-bigdata\n",
    "gcloud app deploy\n",
    "\n",
    "```\n",
    "\n",
    "O nome do projeto que foi criado no site do Google Cloud foi o \"insper-bigdata\"\n",
    "\n",
    "O caminho (URL) é padrão fornecido pelo Google Cloud, já está com SSL (https), e pode ser customizado para um domínio\n"
   ]
  },
  {
   "cell_type": "code",
   "execution_count": 1,
   "id": "9e6c520c",
   "metadata": {
    "scrolled": true
   },
   "outputs": [
    {
     "name": "stdout",
     "output_type": "stream",
     "text": [
      "Hello from Flask by Insper DS!"
     ]
    }
   ],
   "source": [
    "!curl https://insper-bigdata.uc.r.appspot.com/"
   ]
  },
  {
   "cell_type": "code",
   "execution_count": 2,
   "id": "b3ecad5f",
   "metadata": {
    "scrolled": true
   },
   "outputs": [
    {
     "name": "stdout",
     "output_type": "stream",
     "text": [
      "440.0"
     ]
    }
   ],
   "source": [
    "!curl https://insper-bigdata.uc.r.appspot.com/add/100/340"
   ]
  },
  {
   "cell_type": "code",
   "execution_count": 3,
   "id": "98d67013",
   "metadata": {
    "scrolled": true
   },
   "outputs": [
    {
     "name": "stdout",
     "output_type": "stream",
     "text": [
      "Vai Corinthians!!"
     ]
    }
   ],
   "source": [
    "!curl https://insper-bigdata.uc.r.appspot.com/core"
   ]
  },
  {
   "cell_type": "markdown",
   "id": "a7244337",
   "metadata": {},
   "source": [
    "Podemos também servidr arquivos estáticos com o Flask"
   ]
  },
  {
   "cell_type": "code",
   "execution_count": 9,
   "id": "b0699199",
   "metadata": {
    "scrolled": true
   },
   "outputs": [
    {
     "name": "stdout",
     "output_type": "stream",
     "text": [
      "{\r\n",
      "  \"users\": [\r\n",
      "    {\r\n",
      "      \"userId\": 1,\r\n",
      "      \"firstName\": \"Krish\",\r\n",
      "      \"lastName\": \"Lee\",\r\n",
      "      \"phoneNumber\": \"123456\",\r\n",
      "      \"emailAddress\": \"krish.lee@learningcontainer.com\"\r\n",
      "    },\r\n",
      "    {\r\n",
      "      \"userId\": 2,\r\n",
      "      \"firstName\": \"racks\",\r\n",
      "      \"lastName\": \"jacson\",\r\n",
      "      \"phoneNumber\": \"123456\",\r\n",
      "      \"emailAddress\": \"racks.jacson@learningcontainer.com\"\r\n",
      "    },\r\n",
      "    {\r\n",
      "      \"userId\": 3,\r\n",
      "      \"firstName\": \"denial\",\r\n",
      "      \"lastName\": \"roast\",\r\n",
      "      \"phoneNumber\": \"33333333\",\r\n",
      "      \"emailAddress\": \"denial.roast@learningcontainer.com\"\r\n",
      "    },\r\n",
      "    {\r\n",
      "      \"userId\": 4,\r\n",
      "      \"firstName\": \"devid\",\r\n",
      "      \"lastName\": \"neo\",\r\n",
      "      \"phoneNumber\": \"222222222\",\r\n",
      "      \"emailAddress\": \"devid.neo@learningcontainer.com\"\r\n",
      "    },\r\n",
      "    {\r\n",
      "      \"userId\": 5,\r\n",
      "      \"firstName\": \"jone\",\r\n",
      "      \"lastName\": \"mac\",\r\n",
      "      \"phoneNumber\": \"111111111\",\r\n",
      "      \"emailAddress\": \"jone.mac@learningcontainer.com\"\r\n",
      "    }\r\n",
      "  ]\r\n",
      "}\r\n"
     ]
    }
   ],
   "source": [
    "!curl https://insper-bigdata.uc.r.appspot.com/static/users.json"
   ]
  },
  {
   "cell_type": "markdown",
   "id": "f207f863",
   "metadata": {},
   "source": [
    "## Ambiente em nuvem Serverless\n",
    "\n",
    "### LAB - GCP (Google Cloud Platform)\n",
    "\n",
    "Vamos fazer com um aluno voluntário, compartilhando a tela, um **fork** do projeto, e um **pull request** com código adicional e ver a WEB API sendo atualizada no servidor a partir do GitHub usando CI/CD (Continuous Integration/Continuous Delivery).\n",
    "\n",
    "Código fonte da WEB API: https://github.com/danielscarvalho/insper-flask-ds\n",
    "\n",
    "End-point da WEB API com Python e Fask: https://insper-bigdata.uc.r.appspot.com/\n",
    "\n",
    "### LAB - Serverless Microsoft Azure\n",
    "\n",
    "Vamos criar um WEB App no Azure, e fazer deploy via GitHub Actions (CI/CD). Todos os alunos devem fazer um fork do projeto do professor\n",
    "\n",
    "Código fonte da WEB API: https://github.com/danielscarvalho/insper-flask-ds-azure\n",
    "\n",
    "End-point da WEB API com Python e Fask: https://dsflask.azurewebsites.net/"
   ]
  },
  {
   "cell_type": "markdown",
   "id": "565f1808",
   "metadata": {},
   "source": [
    "### Referências"
   ]
  },
  {
   "cell_type": "markdown",
   "id": "f94712be",
   "metadata": {},
   "source": [
    "Books:\n",
    "\n",
    "<img src=\"img/google-app-engine-books.png\">"
   ]
  },
  {
   "cell_type": "markdown",
   "id": "18d38b96",
   "metadata": {},
   "source": [
    "### Extra\n",
    "\n",
    "Dica favicon:\n",
    "\n",
    "Favicon é um padrão WEB, na raiz de um site WEB o arquivo favicon.ico é uma imagem de 16x16 pixels que fornece o icone que aparece na tab do browser para as URLs de um site no browser.\n",
    "\n",
    "Pode ser feito online em: https://www.favicon.cc/<br>\n",
    "Para saber mais: https://www.infowester.com/favicon.php<br>\n",
    "Inspiração, EMOJIS do Unicode: https://emojipedia.org/\n",
    "\n",
    "Machine Learning:\n",
    "\n",
    "Serviços **serverless** em nuvem são muito utilizados para fazer doploy de modelos em machine learning\n",
    "\n",
    "<img src=\"https://miro.medium.com/max/1400/1*S-kkKP8I-3LcjHn_XYY6VQ.png\" width=\"600\">\n",
    "\n",
    "[Deploying Machine Learning has never been so easy](https://towardsdatascience.com/https-towardsdatascience-com-deploying-machine-learning-has-never-been-so-easy-bbdb500a39a)"
   ]
  }
 ],
 "metadata": {
  "kernelspec": {
   "display_name": "Python 3 (ipykernel)",
   "language": "python",
   "name": "python3"
  },
  "language_info": {
   "codemirror_mode": {
    "name": "ipython",
    "version": 3
   },
   "file_extension": ".py",
   "mimetype": "text/x-python",
   "name": "python",
   "nbconvert_exporter": "python",
   "pygments_lexer": "ipython3",
   "version": "3.9.12"
  }
 },
 "nbformat": 4,
 "nbformat_minor": 5
}
