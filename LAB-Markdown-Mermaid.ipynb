{
 "cells": [
  {
   "cell_type": "markdown",
   "id": "a845c7db",
   "metadata": {},
   "source": [
    "## Markdown Mermaid online no GitHub"
   ]
  },
  {
   "cell_type": "markdown",
   "id": "93e8cbb2",
   "metadata": {},
   "source": [
    "```mermaid\n",
    "timeline\n",
    "    title History of Social Media Platform\n",
    "    Back Log : Linux - Bash - CLI\n",
    "             : Flask - WEB API\n",
    "             : Docker\n",
    "             : VSP - Máquina Virtual (Servidor Linux)\n",
    "             : Computação em nuvem visão geral\n",
    "             : Deploy visão geral\n",
    "             : Serverless\n",
    "             : GitHub Actions - CD/CI\n",
    "             : Requests\n",
    "             : Criar LIB em Python\n",
    "             : Git & GitHub - Colaboração\n",
    "             : WEB API Flask Python no PythonAnywhare (Anaconda)\n",
    "             : WSL2\n",
    "             : Anaconda - Python\n",
    "             : MS Visual Studio Code\n",
    "             : Deploy Local\n",
    "             : Deploy VSP\n",
    "             : Deploy Serverless\n",
    "             : Deploy Docker\n",
    "             : Agendamento de script Python (CRON)\n",
    "             : Pré-aula - vídeos\n",
    "             : Referências - Bibliográficas\n",
    "             : Avaliação - Quiz (40%) + LAB (60%)\n",
    "             : GitHub Pages & Jupyter Notebook no GitHub\n",
    "    Parte 1 :             \n",
    "    Parte 2 : \n",
    "    Parte 3 : \n",
    "```"
   ]
  },
  {
   "cell_type": "markdown",
   "id": "3ef40253",
   "metadata": {},
   "source": [
    "```mermaid\n",
    "graph TD;\n",
    "    A-->B;\n",
    "    A-->C;\n",
    "    B-->D;\n",
    "    C-->D;\n",
    "```"
   ]
  },
  {
   "cell_type": "markdown",
   "id": "11f06ace",
   "metadata": {},
   "source": [
    "https://mermaid.js.org/"
   ]
  },
  {
   "cell_type": "code",
   "execution_count": null,
   "id": "bc478ae5",
   "metadata": {},
   "outputs": [],
   "source": []
  }
 ],
 "metadata": {
  "kernelspec": {
   "display_name": "Python 3 (ipykernel)",
   "language": "python",
   "name": "python3"
  },
  "language_info": {
   "codemirror_mode": {
    "name": "ipython",
    "version": 3
   },
   "file_extension": ".py",
   "mimetype": "text/x-python",
   "name": "python",
   "nbconvert_exporter": "python",
   "pygments_lexer": "ipython3",
   "version": "3.9.12"
  }
 },
 "nbformat": 4,
 "nbformat_minor": 5
}
