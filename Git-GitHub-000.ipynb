{
 "cells": [
  {
   "cell_type": "markdown",
   "id": "098a4ff1",
   "metadata": {},
   "source": [
    "<img style=\"float:right\" src=\"https://github.com/danielscarvalho/Insper-DS-Dicas/blob/master/Insper-Logo.png?raw=true\" alt=\"Insper\">"
   ]
  },
  {
   "cell_type": "markdown",
   "id": "2bf7c275",
   "metadata": {},
   "source": [
    "# Programa Avançado em Data Science e Decisão [»](https://www.insper.edu.br/pos-graduacao/programas-avancados/programa-avancado-em-data-science-e-decisao/)\n",
    "\n",
    "## Data Science Deploy\n",
    "\n",
    "<h3 style=\"color:brown\">Git & GitHub - Colaboração</h3>\n",
    "\n",
    "Nesta aula vamos experimentar o ambiente de colaboração do GitHub amplamente utilizado em projetos de ciências dos dados, desenvolvimento de sistemas e aplicativos.\n",
    "\n",
    "Compartilhar scripts em Python, projetos em Jupyter Notebook, dados e documentos estáticos.\n",
    "\n",
    "Criar projetos, compartilhar, e realizar **fork** e **pull request**!\n",
    "\n",
    "Criar tickets e publicar páginas HTML e Jupyter Notebook ([GitHub Pages](Dados-GitHub-Pages.ipynb))\n",
    "\n",
    "Integrar com Google Colab e executar relatórios em Jupyter Notebook em nuvem\n",
    "\n",
    "Pré-aula, assistir o vídeo do GitHub: https://www.youtube.com/watch?v=w3jLJU7DT5E"
   ]
  },
  {
   "cell_type": "markdown",
   "id": "17265ef7",
   "metadata": {},
   "source": [
    "Flowchart: Colaboração e deploy\n",
    "\n",
    "<img src=\"img/flow-collaboration.png\" width=\"400px\">"
   ]
  },
  {
   "cell_type": "markdown",
   "id": "1d086d86",
   "metadata": {},
   "source": [
    "## Ferramentas:\n",
    "\n",
    "Instalar (Linux, Mac ou Windows):\n",
    "\n",
    "O Windows 10 e 11 tem o WSL (Windows Subsystem for Linux) que permite o uso do Linux em paralelo ao Windows.\n",
    "\n",
    "> No Linux (e Mac) temos o ambiente em linha de comando (CLI - Command Line Internface) chamado Bash, que é sofisticado e permite controle total da máquina. A interface gráfica da acesso a apenas algumas perspectivas do computador.\n",
    "\n",
    "1. Anaconda (Distribuição Python para cientistas de dados) - https://www.anaconda.com/\n",
    "   - Jupyter Notebook - https://jupyter.org/\n",
    "   - Spyder - https://www.spyder-ide.org/\n",
    "2. MS Visual Studio Code - https://code.visualstudio.com/\n",
    "3. Git - https://git-scm.com/\n",
    "4. Criar conta no GitHub - https://github.com/\n",
    "5. Instalar GitHub no celular (em breve 2FA - 2 factors authentication) - Google Play, Apple Store\n",
    "\n",
    "<img src=\"https://www.thomasmaurer.ch/wp-content/uploads/2019/06/WSL-2-Architecture.jpg\" width=\"600px\">\n",
    "\n",
    "Recomendamos utilizar ambiente Linux ou Mac (SO), pois a maioria esmagadora dos ambientes em nuvem rodam em Linux.\n",
    "\n",
    "Instalação do WSL no Windows 10 ou 11 (Pode ser demorado):\n",
    "\n",
    "1. Abrir Power Shell (como administrador)\n",
    "2. Executar o comando: wsl --install\n",
    "3. Reiniciar o Windows\n",
    "4. Abrir o Ubuntu (Linux) - Icone do Ubuntu na sua barra de apps...\n",
    "5. Criar usuário (use letras miúsculas, e forneça senha)...\n",
    "\n",
    "<img src=\"img/wsl-install-cli2.png\" width=\"600px\">\n",
    "\n",
    "Para instalação de forma gráfica no Windows 10 ou 11:\n",
    "\n",
    "1. Entre no Painel de Controle, Programas, Ativar ou desativar recursos do Windows, e marque a opção \"Subsistema do Windows para Linux\", siga as instruções e reinicialize o sistema.\n",
    "\n",
    "<img src=\"img/wsl-controlpanel.png\" width=\"600px\">\n",
    "\n",
    "2. Instalar pela Microsoft Store o Linux distribuição Ubuntu (boa para developers, cientistas de dados, iniciantes e business people)\n",
    "\n",
    "<img src=\"img/wsl-ubuntu.png\" width=\"600px\">\n",
    "\n",
    "\n",
    "> Em nossa experiência com os alunos, ocorrem problemas diferentes na instalação, ou não, conforme cada equipamento, versão de SO, etc...\n",
    "\n",
    "Para instalar o Anaconda no Linux:\n",
    "\n",
    "wget https://repo.anaconda.com/archive/Anaconda3-2022.05-Linux-x86_64.sh<br>\n",
    "bash Anaconda3-2022.05-Linux-x86_64.sh\n",
    "\n",
    "Teste na linha de comando:\n",
    "\n",
    "<pre>\n",
    "python --version\n",
    "conda --version\n",
    "python3 --version\n",
    "</pre>\n",
    "\n",
    "-----\n",
    "\n",
    "<img src=\"https://pbs.twimg.com/media/D4DNyRcX4AAiJBj.jpg\" width=\"500px\">\n",
    "\n",
    "**LAB:**\n",
    "- Comandos básicos do Linux\n",
    "- Comandos básicos do Git\n",
    "- Bash & CLI\n",
    "\n",
    "\n",
    "\n",
    "## Testar o GIT\n",
    "\n",
    "Na linha de comando:\n",
    "\n",
    "<pre>\n",
    "git --version\n",
    "\n",
    "git config --global user.name \"Daniel Carvalho\"\n",
    "\n",
    "git config --global user.email \"danielscarvalho@gmail.com\"\n",
    "</pre>\n",
    "\n",
    "\n",
    "## Python em diversos ambientes\n",
    "\n",
    "- Script (Linha de comando no Linux, Windows ou Mac) - CLI (Command Line Interface)\n",
    "- Script agendado (CRON)\n",
    "- Spyder (Anaconda)\n",
    "- Jupyter Notebook (Anaconda)\n",
    "- MS Visual Studio Code (Editor de texto para programadores)\n",
    "\n",
    "Script (Bash):\n",
    "\n",
    "No Windows os scripts são arquivos texto (arquivo de lote) **.bat**<br>\n",
    "No Linux, Mac e UNIX os scripts são arquivos texto **.sh**\n",
    "\n",
    "Exemplo de script (arquivo texto) que podemos agendar para execução a cada 30 minutos, obtem dados via WEB API e salva em arquivo local:\n",
    "\n",
    "<pre>\n",
    "#!/usr/bin/env python\n",
    "\n",
    "import requests\n",
    "from datetime import datetime\n",
    "import pytz\n",
    "\n",
    "tz = pytz.timezone('US/Pacific')\n",
    "dt = datetime.now(tz).strftime('%Y-%m-%d %H:%M:%S')\n",
    "\n",
    "btc=requests.get(\"https://www.mercadobitcoin.net/api/BTC/ticker/\").json()[\"ticker\"]\n",
    "btc[\"now\"]=dt\n",
    "\n",
    "with open('btc.txt', 'a', encoding='utf-8') as infile:\n",
    "    infile.write(str(btc)+\"\\n\")\n",
    "</pre>\n",
    "\n",
    "\n",
    "\n",
    "Agendamento para execução de script (CRON):\n",
    "\n",
    "<pre>\n",
    ".---------------- minute (0 - 59)\n",
    "|  .------------- hour (0 - 23)\n",
    "|  |  .---------- the day of the month (1 - 31)\n",
    "|  |  |  .------- month (1 - 12) OR jan,feb,mar,apr ...\n",
    "|  |  |  |  .---- the day of week (0 - 6) (Sunday=0 or 7)  OR sun,mon,tue,wed,thu,fri,sat\n",
    "|  |  |  |  |\n",
    "*  *  *  *  *  command to be executed\n",
    "</pre>\n",
    "\n",
    "Para agendar o CRON:\n",
    "\n",
    "<pre>\n",
    "crontab -e\n",
    "</pre>\n",
    "\n",
    "Agendamento:\n",
    "\n",
    "<pre>\n",
    "30 * * * * /work/Insper/Insper-Git-Data-Science-Team-Work/btc-info.sh\n",
    "</pre>\n",
    "\n",
    "Para ver (listar) os agendamentos:\n",
    "\n",
    "<pre>\n",
    "crontab -l\n",
    "</pre>\n",
    "\n",
    "Referências:\n",
    "\n",
    "- https://datatofish.com/python-script-windows-scheduler/ (No Windows com Windows Scheduler)\n",
    "- https://crontab.guru\n",
    "- https://geekyhumans.com/set-up-crontab-in-python/\n",
    "\n",
    "## Anaconda\n",
    "\n",
    "<img width=\"600px\" src=\"https://www.computersciencemaster.com.br/wp-content/uploads/2021/03/anaconda-navigator-1024x550.jpg\">\n",
    "\n",
    "Tecnologia de ciência de dados para pesquisa inovadora, vantagem competitiva para um mundo melhor.\n",
    "\n",
    "O Anaconda oferece a maneira mais fácil de realizar ciência de dados Python/R e aprendizado de máquina em uma única máquina de forma integrada. Milhares de pacotes e bibliotecas de código aberto disponíveis.\n",
    "\n",
    "\n",
    "## Spyder\n",
    "\n",
    "Spyder é um ambiente científico gratuito e de código aberto escrito em Python, para Python e projetado por e para cientistas, engenheiros e analistas de dados. Ele apresenta uma combinação exclusiva da funcionalidade avançada de edição, análise, depuração e criação de perfil de uma ferramenta de desenvolvimento abrangente com a exploração de dados, execução interativa, inspeção profunda e recursos de visualização bonitos de um pacote científico.\n",
    "\n",
    "<!-- ![Spyder](https://www.spyder-ide.org/spyder_website_banner.png) -->\n",
    "<img width=\"600px\" src=\"https://www.spyder-ide.org/spyder_website_banner.png\">\n",
    "\n",
    "\n",
    "## MS Visual Studio Code\n",
    "\n",
    "Visual Studio Code é um editor de código-fonte desenvolvido pela Microsoft para Windows, Linux e macOS. Ele inclui suporte para depuração, controle de versionamento Git incorporado, realce de sintaxe, complementação inteligente de código, snippets e refatoração de código\n",
    "\n",
    "Há plugins para Git, GitHub, Python, HTML, MD, etc...\n",
    "\n",
    "<!-- ![MS VS Code](https://code.visualstudio.com/assets/home/home-screenshot-linux-lg.png) -->\n",
    "<img width=\"600px\" src=\"https://code.visualstudio.com/assets/home/home-screenshot-linux-lg.png\">\n",
    "\n",
    "\n",
    "## Git & GitHub: TUDO sobre git para os apressados:\n",
    "\n",
    "Os comandos mágicos do Git\n",
    "\n",
    "<pre>\n",
    "git init\n",
    "git clone ...\n",
    "git add *\n",
    "git commit -m \"spectrum patronus\"\n",
    "git push\n",
    "git status\n",
    "git pull\n",
    "</pre>\n",
    "\n",
    "Git Referência rápida:\n",
    "\n",
    "![Git Sheet Cheat](https://i.redd.it/8341g68g1v7y.png)\n",
    "\n",
    "E também: https://education.github.com/git-cheat-sheet-education.pdf\n",
    "\n",
    "## Projects Files... (Pastas misteriosas...)\n",
    "\n",
    "Organizamos os projetos em pastas (diretórios), cada projeto em uma pasta.\n",
    "\n",
    "Na pasta (diretório) do seu projeto o git cria uma pasta oculta chamada **.git** com os dados do seu projeto e controle de código local...\n",
    "\n",
    "Na pasta do seu usuário no sistema operacional, o git cria um arquivo de configuração **.gitconfig**.\n",
    "\n",
    "\n",
    "> NO META LA PATA!!\n",
    "\n",
    "\n",
    "## Há repositórios git em diversos ambientes:\n",
    "\n",
    "- IBM Cloud\n",
    "- Google Cloud\n",
    "- Oracle Cloud\n",
    "- Microsoft Azure\n",
    "- Amazon AWS\n",
    "- GitLab\n",
    "- Bitbucket\n",
    "- GitHub (O queridinho dos developers e cientistas de dados)<br>\n",
    "...\n",
    "\n",
    "Mais:\n",
    "- https://opensource.com/article/18/8/github-alternatives\n",
    "- https://towardsdatascience.com/githubs-path-to-128m-public-repositories-f6f656ab56b1\n",
    "\n",
    "\n",
    "## Octocat: Mascote do GitHub\n",
    "\n",
    "<!-- ![Octocat](https://octodex.github.com/images/baracktocat.jpg) -->\n",
    "<img width=\"600px\" src=\"https://octodex.github.com/images/baracktocat.jpg\">\n",
    "\n",
    "\n",
    "Mais:\n",
    "- https://octodex.github.com/\n",
    "\n",
    "\n",
    "## Cenários (workflow) no GitHub (LAB)\n",
    "\n",
    "- Criar um novo repo no GitHub\n",
    "- Repo públic e privado\n",
    "- Publicar um novo repo local\n",
    "- Clonar um repo\n",
    "- Convidar equipe para um repo\n",
    "- Publicar Jupyter Notebook estático\n",
    "- Colaborar com scripts python\n",
    "- Publicar dados via GitHub Pages\n",
    "- Publicar HTML estático\n",
    "- Criar ticket (Issues)\n",
    "- Colaborar com **fork** e **git pull**"
   ]
  },
  {
   "cell_type": "markdown",
   "id": "00c728c9",
   "metadata": {},
   "source": [
    "\n",
    "## GitHub Integration\n",
    "\n",
    "Ambientes em nuvem como Google Colab. Podemos fazer uma cópia do notebook publicado no GitHub no Colab e editar e executar o código em nuvem...\n",
    "\n",
    "Várias formas de acesso GitHub no Colab, veja documentação:<br>\n",
    "https://colab.research.google.com/github/googlecolab/colabtools/blob/master/notebooks/colab-github-demo.ipynb\n",
    "\n",
    "Exemplo:<br>\n",
    "https://colab.research.google.com/github/danielscarvalho/Insper-DS-Dicas/blob/master/Dica-001-TreeMap.ipynb\n",
    "\n",
    "E podemos também salvar os notesbooks do Colab direto no GitHub...\n",
    "\n",
    "\n",
    "## Conseitos sobre Git & GitHub (Teoria)\n",
    "\n",
    "- Fixar conceitos\n",
    "- Material do próprio GitHub\n",
    "\n",
    "> GitHub Campus Advisors<br>\n",
    "> Teacher training to master Git and GitHub\n",
    "\n",
    "- Modulo 1: https://github.com/Campus-Advisors/Module-1-Basics/blob/master/Campus%20Advisors%20Module%201.pdf\n",
    "- Modulo 2: https://github.com/Campus-Advisors/Module-2-Network-activity/blob/master/Campus%20Advisors%20Module%202.pdf\n",
    "- Module 3: https://github.com/Campus-Advisors/Module-3-Group-work/blob/master/Campus%20Advisors%20Module%203.pdf\n",
    "\n",
    "Mais em: \n",
    "\n",
    "- https://education.github.com/students\n",
    "- https://education.github.com/teachers/advisors (GitHub Education - Student Program)\n",
    "- https://www.youtube.com/c/GitHub"
   ]
  },
  {
   "cell_type": "markdown",
   "id": "975b815a",
   "metadata": {},
   "source": [
    "## Linguagens de Marcação\n",
    "\n",
    "Para publicar páginas na Internet com o GitHub Pages, precisamos entender as linguagens de marcação. Já utilizamos Markdown no ambiente Jupyter notebook. O Markdown é convertido para HTML dinamicamente, e também podemos usar HTML no Jupyter Notebook, etc... CSS é uma linguagem que define estilo para o texto, sendo HTML a estrutura do texto (página WEB). E o Latex permite escrever equações sofisitcadas.\n",
    "\n",
    "- HTML\n",
    "- CSS\n",
    "- Markdown (MD)\n",
    "- LaTeX (Tex)\n",
    "\n",
    "As linguagens WEB (HTML, CSS, JavaScript) também são utilizadas para criar aplicações mobile ou desktop, além de sites."
   ]
  },
  {
   "cell_type": "markdown",
   "id": "16d00b05",
   "metadata": {},
   "source": [
    "Como um exemplo do que podemos fazer, vamos ver 3 casos:\n",
    "\n",
    "\n",
    "### 1. Embutir uma imagem direto no HTML ( ou no Jupyter Notebook)\n",
    "\n",
    "Podemos converter um dado binário, como uma imagem para texto, e embutir em uma página HTML (BASE64)\n",
    "\n",
    "<img src=\" data:image/jpeg;base64,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\">\n",
    "\n",
    "https://www.base64-image.de/"
   ]
  },
  {
   "cell_type": "markdown",
   "id": "1c18357e",
   "metadata": {},
   "source": [
    "### 2. Descrever uma equação com LaTeX\n",
    "\n",
    "\n",
    "\\begin{align*}\n",
    "  f(x) &= x^2\\\\\n",
    "  g(x) &= \\frac{1}{x}\\\\\n",
    "  F(x) &= \\int^a_b \\frac{1}{3}x^3\n",
    "\\end{align*}\n",
    "\n",
    "LaTex também é uma linguagem de marcação, para principalmente criar equações e gráficos\n",
    "\n",
    "Para saber mais sobre a sintaxe do LaTeX:\n",
    "- https://www.latex-project.org/"
   ]
  },
  {
   "cell_type": "markdown",
   "id": "a26d7889",
   "metadata": {},
   "source": [
    "### 3. Ferramentas que geram HTML\n",
    "\n",
    "Diversas ferramentas gráficas WYSIWYG (What You See Is What You Get) geram (salvam) texto em HTML, como as ferramentas de OFFICE, entre outras.\n",
    "É possível também escrever em um editor online e capturar o código em HTML. Entender o HTML também é importante para fazer WEB Scrapping.\n",
    "\n",
    "https://onlinehtmleditor.dev/\n",
    "\n",
    "Exemplo:\n",
    "\n",
    "<hr>\n",
    "\n",
    "<h1><span style=\"font-family:Georgia,serif\">Insper</span></h1>\n",
    "\n",
    "<h2><span style=\"color:#8e44ad\"><span style=\"font-family:Georgia,serif\">E ai galera da ci&ecirc;ncias dos dados</span></span></h2>\n",
    "\n",
    "<p><span style=\"font-family:Georgia,serif\">Vai Corinthians!!!</span></p>\n"
   ]
  },
  {
   "cell_type": "markdown",
   "id": "d753d8a3",
   "metadata": {},
   "source": [
    "Para aprender sobre HTML, CSS, etc:\n",
    "\n",
    "- https://www.w3schools.com/\n",
    "- https://developer.mozilla.org/en-US/\n",
    "\n",
    "- https://www.tutorialspoint.com/"
   ]
  },
  {
   "cell_type": "markdown",
   "id": "f62f27c0",
   "metadata": {},
   "source": [
    "Para aprender a usar o Git & GitHub e as linguagens de marcação de forma avançada, pense em longo prazo...\n",
    "\n",
    "Dicas de ciências dos dados no GitHub:\n",
    "- https://github.com/danielscarvalho/Insper-DS-Dicas\n",
    "\n",
    "\n",
    "Twitter do professor:\n",
    "- https://twitter.com/danielscarvalho\n",
    "\n",
    "Referências:\n",
    "\n",
    "- https://git-scm.com/book/en/v2\n",
    "- https://books.goalkicker.com/GitBook/\n",
    "- https://training.github.com/"
   ]
  },
  {
   "cell_type": "markdown",
   "id": "c2ee0533",
   "metadata": {},
   "source": [
    "Na próxima aula:\n",
    "\n",
    "    \n",
    "## GitHub Actions\n",
    "\n",
    "Automatize, personalize e execute seus fluxos de trabalho de desenvolvimento de software diretamente em seu repositório com o GitHub Actions. Você pode descobrir, criar e compartilhar ações para realizar qualquer trabalho que desejar, incluindo CI/CD, e combinar ações em um fluxo de trabalho totalmente personalizado.\n",
    "https://docs.github.com/en/actions\n",
    "\n",
    "\n",
    "- CI/CD (Continous Integration/Continuous Delivery)\n",
    "- Deploy de script Python com [Flask](https://flask.palletsprojects.com/) &nbsp;&nbsp;&nbsp;&nbsp;&nbsp;  **Mais na próxima aula**     "
   ]
  },
  {
   "cell_type": "markdown",
   "id": "515cce5f",
   "metadata": {},
   "source": [
    "## Integração com Serviços em Nuvem\n",
    "\n",
    "Google Cloud Platform - Cloud Play (Docker - container)\n",
    "\n",
    "O código fonte do serviço (WEB Service com Flask) está no GitHub\n",
    "\n",
    "https://github.com/danielscarvalho/insper-flask-ds/blob/main/main.py\n",
    "\n",
    "É feito deploy automático no Google Cloud Play (Docker) quando o código é atualizado no GitHub:"
   ]
  },
  {
   "cell_type": "code",
   "execution_count": 1,
   "id": "23b488b1",
   "metadata": {},
   "outputs": [],
   "source": [
    "#pip install requests\n",
    "\n",
    "import requests"
   ]
  },
  {
   "cell_type": "code",
   "execution_count": 2,
   "id": "af94f11e",
   "metadata": {},
   "outputs": [
    {
     "data": {
      "text/plain": [
       "'210.0'"
      ]
     },
     "execution_count": 2,
     "metadata": {},
     "output_type": "execute_result"
    }
   ],
   "source": [
    "requests.get(\"https://insper-flask-ds-riopuyxzra-ue.a.run.app/add/10/200\").text"
   ]
  },
  {
   "cell_type": "code",
   "execution_count": 3,
   "id": "33f23699",
   "metadata": {},
   "outputs": [
    {
     "data": {
      "text/plain": [
       "'Vai Corinthians!! - 2022-07-22 20:18:09.151237'"
      ]
     },
     "execution_count": 3,
     "metadata": {},
     "output_type": "execute_result"
    }
   ],
   "source": [
    "requests.get(\"https://insper-flask-ds-riopuyxzra-ue.a.run.app/core\").text"
   ]
  },
  {
   "cell_type": "code",
   "execution_count": 4,
   "id": "667eb4b4",
   "metadata": {},
   "outputs": [
    {
     "data": {
      "text/plain": [
       "'Hey, we have Flask in a Docker container by Insper DS! - 2022-07-22 20:18:11.607037'"
      ]
     },
     "execution_count": 4,
     "metadata": {},
     "output_type": "execute_result"
    }
   ],
   "source": [
    "requests.get(\"https://insper-flask-ds-riopuyxzra-ue.a.run.app\").text"
   ]
  },
  {
   "cell_type": "markdown",
   "id": "fede67ee",
   "metadata": {},
   "source": [
    "O serviço SUB foi adicionado ao projeto principal de forma colaborativa com **fork** e **pull request**"
   ]
  },
  {
   "cell_type": "code",
   "execution_count": 5,
   "id": "ec067a6f",
   "metadata": {
    "scrolled": false
   },
   "outputs": [
    {
     "data": {
      "text/plain": [
       "'10.0'"
      ]
     },
     "execution_count": 5,
     "metadata": {},
     "output_type": "execute_result"
    }
   ],
   "source": [
    "requests.get(\"https://insper-flask-ds-riopuyxzra-ue.a.run.app/sub/110/100\").text"
   ]
  },
  {
   "cell_type": "markdown",
   "id": "b24e4be1",
   "metadata": {},
   "source": [
    "### Biblography:\n",
    "\n",
    "Toda a bibliografia está disponível online:\n",
    "\n",
    "- Pro Git, Scott Chacon and Ben Straub, Apress, 2ed, 2014, https://git-scm.com/book/en/v2\n",
    "- Docker in Action, Jeff Nickoloff, Manning, 2ed, 2016, https://livebook.manning.com/book/docker-in-action-second-edition\n",
    "- Google Cloud Platform in Action, JJ Geewax, 2018, https://livebook.manning.com/book/google-cloud-platform-in-action/\n",
    "- Git Notes for Professionals, Stack Overflow, 2019: https://books.goalkicker.com/GitBook/\n",
    "- Bash Notes for Professionals, Stack Overflow, 2019: https://books.goalkicker.com/BashBook/\n",
    "- Linux for Professionals, Stack Overflow, 2019: https://books.goalkicker.com/LinuxBook/"
   ]
  },
  {
   "cell_type": "markdown",
   "id": "301688ce",
   "metadata": {},
   "source": [
    "Git meme:\n",
    "\n",
    "<!-- ![Fire](https://img.devrant.com/devrant/rant/r_463632_dnAME.jpg) -->\n",
    "<img width=\"600px\" src=\"https://img.devrant.com/devrant/rant/r_463632_dnAME.jpg\">"
   ]
  }
 ],
 "metadata": {
  "kernelspec": {
   "display_name": "Python 3 (ipykernel)",
   "language": "python",
   "name": "python3"
  },
  "language_info": {
   "codemirror_mode": {
    "name": "ipython",
    "version": 3
   },
   "file_extension": ".py",
   "mimetype": "text/x-python",
   "name": "python",
   "nbconvert_exporter": "python",
   "pygments_lexer": "ipython3",
   "version": "3.9.12"
  }
 },
 "nbformat": 4,
 "nbformat_minor": 5
}
